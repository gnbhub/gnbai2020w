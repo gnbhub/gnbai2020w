{
 "cells": [
  {
   "cell_type": "code",
   "execution_count": 1,
   "metadata": {
    "_cell_guid": "b1076dfc-b9ad-4769-8c92-a6c4dae69d19",
    "_uuid": "8f2839f25d086af736a60e9eeb907d3b93b6e0e5",
    "execution": {
     "iopub.execute_input": "2021-02-08T12:28:23.503776Z",
     "iopub.status.busy": "2021-02-08T12:28:23.503059Z",
     "iopub.status.idle": "2021-02-08T12:28:23.505476Z",
     "shell.execute_reply": "2021-02-08T12:28:23.506040Z"
    },
    "papermill": {
     "duration": 0.027293,
     "end_time": "2021-02-08T12:28:23.506388",
     "exception": false,
     "start_time": "2021-02-08T12:28:23.479095",
     "status": "completed"
    },
    "tags": []
   },
   "outputs": [],
   "source": [
    "\n",
    "import numpy as np\n",
    "import pandas as pd\n",
    "import matplotlib.pyplot as plt\n",
    "\n",
    "import random"
   ]
  },
  {
   "cell_type": "code",
   "execution_count": 2,
   "metadata": {
    "execution": {
     "iopub.execute_input": "2021-02-08T12:28:23.546002Z",
     "iopub.status.busy": "2021-02-08T12:28:23.545110Z",
     "iopub.status.idle": "2021-02-08T12:28:30.078609Z",
     "shell.execute_reply": "2021-02-08T12:28:30.077727Z"
    },
    "papermill": {
     "duration": 6.555543,
     "end_time": "2021-02-08T12:28:30.078776",
     "exception": false,
     "start_time": "2021-02-08T12:28:23.523233",
     "status": "completed"
    },
    "tags": []
   },
   "outputs": [],
   "source": [
    "train_df = pd.read_csv(\"../input/digit-recognizer/train.csv\")\n",
    "test_df = pd.read_csv(\"../input/digit-recognizer/test.csv\")"
   ]
  },
  {
   "cell_type": "code",
   "execution_count": 3,
   "metadata": {
    "execution": {
     "iopub.execute_input": "2021-02-08T12:28:30.129398Z",
     "iopub.status.busy": "2021-02-08T12:28:30.128743Z",
     "iopub.status.idle": "2021-02-08T12:28:30.156258Z",
     "shell.execute_reply": "2021-02-08T12:28:30.156790Z"
    },
    "papermill": {
     "duration": 0.06162,
     "end_time": "2021-02-08T12:28:30.156988",
     "exception": false,
     "start_time": "2021-02-08T12:28:30.095368",
     "status": "completed"
    },
    "tags": []
   },
   "outputs": [
    {
     "data": {
      "text/html": [
       "<div>\n",
       "<style scoped>\n",
       "    .dataframe tbody tr th:only-of-type {\n",
       "        vertical-align: middle;\n",
       "    }\n",
       "\n",
       "    .dataframe tbody tr th {\n",
       "        vertical-align: top;\n",
       "    }\n",
       "\n",
       "    .dataframe thead th {\n",
       "        text-align: right;\n",
       "    }\n",
       "</style>\n",
       "<table border=\"1\" class=\"dataframe\">\n",
       "  <thead>\n",
       "    <tr style=\"text-align: right;\">\n",
       "      <th></th>\n",
       "      <th>label</th>\n",
       "      <th>pixel0</th>\n",
       "      <th>pixel1</th>\n",
       "      <th>pixel2</th>\n",
       "      <th>pixel3</th>\n",
       "      <th>pixel4</th>\n",
       "      <th>pixel5</th>\n",
       "      <th>pixel6</th>\n",
       "      <th>pixel7</th>\n",
       "      <th>pixel8</th>\n",
       "      <th>...</th>\n",
       "      <th>pixel774</th>\n",
       "      <th>pixel775</th>\n",
       "      <th>pixel776</th>\n",
       "      <th>pixel777</th>\n",
       "      <th>pixel778</th>\n",
       "      <th>pixel779</th>\n",
       "      <th>pixel780</th>\n",
       "      <th>pixel781</th>\n",
       "      <th>pixel782</th>\n",
       "      <th>pixel783</th>\n",
       "    </tr>\n",
       "  </thead>\n",
       "  <tbody>\n",
       "    <tr>\n",
       "      <th>0</th>\n",
       "      <td>1</td>\n",
       "      <td>0</td>\n",
       "      <td>0</td>\n",
       "      <td>0</td>\n",
       "      <td>0</td>\n",
       "      <td>0</td>\n",
       "      <td>0</td>\n",
       "      <td>0</td>\n",
       "      <td>0</td>\n",
       "      <td>0</td>\n",
       "      <td>...</td>\n",
       "      <td>0</td>\n",
       "      <td>0</td>\n",
       "      <td>0</td>\n",
       "      <td>0</td>\n",
       "      <td>0</td>\n",
       "      <td>0</td>\n",
       "      <td>0</td>\n",
       "      <td>0</td>\n",
       "      <td>0</td>\n",
       "      <td>0</td>\n",
       "    </tr>\n",
       "    <tr>\n",
       "      <th>1</th>\n",
       "      <td>0</td>\n",
       "      <td>0</td>\n",
       "      <td>0</td>\n",
       "      <td>0</td>\n",
       "      <td>0</td>\n",
       "      <td>0</td>\n",
       "      <td>0</td>\n",
       "      <td>0</td>\n",
       "      <td>0</td>\n",
       "      <td>0</td>\n",
       "      <td>...</td>\n",
       "      <td>0</td>\n",
       "      <td>0</td>\n",
       "      <td>0</td>\n",
       "      <td>0</td>\n",
       "      <td>0</td>\n",
       "      <td>0</td>\n",
       "      <td>0</td>\n",
       "      <td>0</td>\n",
       "      <td>0</td>\n",
       "      <td>0</td>\n",
       "    </tr>\n",
       "    <tr>\n",
       "      <th>2</th>\n",
       "      <td>1</td>\n",
       "      <td>0</td>\n",
       "      <td>0</td>\n",
       "      <td>0</td>\n",
       "      <td>0</td>\n",
       "      <td>0</td>\n",
       "      <td>0</td>\n",
       "      <td>0</td>\n",
       "      <td>0</td>\n",
       "      <td>0</td>\n",
       "      <td>...</td>\n",
       "      <td>0</td>\n",
       "      <td>0</td>\n",
       "      <td>0</td>\n",
       "      <td>0</td>\n",
       "      <td>0</td>\n",
       "      <td>0</td>\n",
       "      <td>0</td>\n",
       "      <td>0</td>\n",
       "      <td>0</td>\n",
       "      <td>0</td>\n",
       "    </tr>\n",
       "    <tr>\n",
       "      <th>3</th>\n",
       "      <td>4</td>\n",
       "      <td>0</td>\n",
       "      <td>0</td>\n",
       "      <td>0</td>\n",
       "      <td>0</td>\n",
       "      <td>0</td>\n",
       "      <td>0</td>\n",
       "      <td>0</td>\n",
       "      <td>0</td>\n",
       "      <td>0</td>\n",
       "      <td>...</td>\n",
       "      <td>0</td>\n",
       "      <td>0</td>\n",
       "      <td>0</td>\n",
       "      <td>0</td>\n",
       "      <td>0</td>\n",
       "      <td>0</td>\n",
       "      <td>0</td>\n",
       "      <td>0</td>\n",
       "      <td>0</td>\n",
       "      <td>0</td>\n",
       "    </tr>\n",
       "    <tr>\n",
       "      <th>4</th>\n",
       "      <td>0</td>\n",
       "      <td>0</td>\n",
       "      <td>0</td>\n",
       "      <td>0</td>\n",
       "      <td>0</td>\n",
       "      <td>0</td>\n",
       "      <td>0</td>\n",
       "      <td>0</td>\n",
       "      <td>0</td>\n",
       "      <td>0</td>\n",
       "      <td>...</td>\n",
       "      <td>0</td>\n",
       "      <td>0</td>\n",
       "      <td>0</td>\n",
       "      <td>0</td>\n",
       "      <td>0</td>\n",
       "      <td>0</td>\n",
       "      <td>0</td>\n",
       "      <td>0</td>\n",
       "      <td>0</td>\n",
       "      <td>0</td>\n",
       "    </tr>\n",
       "  </tbody>\n",
       "</table>\n",
       "<p>5 rows × 785 columns</p>\n",
       "</div>"
      ],
      "text/plain": [
       "   label  pixel0  pixel1  pixel2  pixel3  pixel4  pixel5  pixel6  pixel7  \\\n",
       "0      1       0       0       0       0       0       0       0       0   \n",
       "1      0       0       0       0       0       0       0       0       0   \n",
       "2      1       0       0       0       0       0       0       0       0   \n",
       "3      4       0       0       0       0       0       0       0       0   \n",
       "4      0       0       0       0       0       0       0       0       0   \n",
       "\n",
       "   pixel8  ...  pixel774  pixel775  pixel776  pixel777  pixel778  pixel779  \\\n",
       "0       0  ...         0         0         0         0         0         0   \n",
       "1       0  ...         0         0         0         0         0         0   \n",
       "2       0  ...         0         0         0         0         0         0   \n",
       "3       0  ...         0         0         0         0         0         0   \n",
       "4       0  ...         0         0         0         0         0         0   \n",
       "\n",
       "   pixel780  pixel781  pixel782  pixel783  \n",
       "0         0         0         0         0  \n",
       "1         0         0         0         0  \n",
       "2         0         0         0         0  \n",
       "3         0         0         0         0  \n",
       "4         0         0         0         0  \n",
       "\n",
       "[5 rows x 785 columns]"
      ]
     },
     "execution_count": 3,
     "metadata": {},
     "output_type": "execute_result"
    }
   ],
   "source": [
    "train_df.head()"
   ]
  },
  {
   "cell_type": "code",
   "execution_count": 4,
   "metadata": {
    "execution": {
     "iopub.execute_input": "2021-02-08T12:28:30.371282Z",
     "iopub.status.busy": "2021-02-08T12:28:30.369523Z",
     "iopub.status.idle": "2021-02-08T12:28:30.700238Z",
     "shell.execute_reply": "2021-02-08T12:28:30.699608Z"
    },
    "papermill": {
     "duration": 0.525806,
     "end_time": "2021-02-08T12:28:30.700398",
     "exception": false,
     "start_time": "2021-02-08T12:28:30.174592",
     "status": "completed"
    },
    "tags": []
   },
   "outputs": [],
   "source": [
    "y_train = np.array(train_df['label'])\n",
    "x_train = np.array(train_df.drop(['label'],axis = 1))\n",
    "\n",
    "x_test = np.array(test_df)"
   ]
  },
  {
   "cell_type": "code",
   "execution_count": 5,
   "metadata": {
    "execution": {
     "iopub.execute_input": "2021-02-08T12:28:30.742613Z",
     "iopub.status.busy": "2021-02-08T12:28:30.741696Z",
     "iopub.status.idle": "2021-02-08T12:28:30.745198Z",
     "shell.execute_reply": "2021-02-08T12:28:30.745809Z"
    },
    "papermill": {
     "duration": 0.028045,
     "end_time": "2021-02-08T12:28:30.745998",
     "exception": false,
     "start_time": "2021-02-08T12:28:30.717953",
     "status": "completed"
    },
    "tags": []
   },
   "outputs": [
    {
     "data": {
      "text/plain": [
       "array([1, 0, 1, ..., 7, 6, 9])"
      ]
     },
     "execution_count": 5,
     "metadata": {},
     "output_type": "execute_result"
    }
   ],
   "source": [
    "y_train"
   ]
  },
  {
   "cell_type": "code",
   "execution_count": 6,
   "metadata": {
    "execution": {
     "iopub.execute_input": "2021-02-08T12:28:30.786209Z",
     "iopub.status.busy": "2021-02-08T12:28:30.785177Z",
     "iopub.status.idle": "2021-02-08T12:28:30.790647Z",
     "shell.execute_reply": "2021-02-08T12:28:30.791154Z"
    },
    "papermill": {
     "duration": 0.027431,
     "end_time": "2021-02-08T12:28:30.791337",
     "exception": false,
     "start_time": "2021-02-08T12:28:30.763906",
     "status": "completed"
    },
    "tags": []
   },
   "outputs": [
    {
     "data": {
      "text/plain": [
       "(42000, 784)"
      ]
     },
     "execution_count": 6,
     "metadata": {},
     "output_type": "execute_result"
    }
   ],
   "source": [
    "x_train.shape"
   ]
  },
  {
   "cell_type": "code",
   "execution_count": 7,
   "metadata": {
    "execution": {
     "iopub.execute_input": "2021-02-08T12:28:30.833393Z",
     "iopub.status.busy": "2021-02-08T12:28:30.832263Z",
     "iopub.status.idle": "2021-02-08T12:28:30.839112Z",
     "shell.execute_reply": "2021-02-08T12:28:30.839607Z"
    },
    "papermill": {
     "duration": 0.029983,
     "end_time": "2021-02-08T12:28:30.839794",
     "exception": false,
     "start_time": "2021-02-08T12:28:30.809811",
     "status": "completed"
    },
    "tags": []
   },
   "outputs": [
    {
     "data": {
      "text/plain": [
       "(28000, 784)"
      ]
     },
     "execution_count": 7,
     "metadata": {},
     "output_type": "execute_result"
    }
   ],
   "source": [
    "x_test.shape"
   ]
  },
  {
   "cell_type": "code",
   "execution_count": 8,
   "metadata": {
    "execution": {
     "iopub.execute_input": "2021-02-08T12:28:30.885741Z",
     "iopub.status.busy": "2021-02-08T12:28:30.884975Z",
     "iopub.status.idle": "2021-02-08T12:28:30.887233Z",
     "shell.execute_reply": "2021-02-08T12:28:30.887741Z"
    },
    "papermill": {
     "duration": 0.02877,
     "end_time": "2021-02-08T12:28:30.887938",
     "exception": false,
     "start_time": "2021-02-08T12:28:30.859168",
     "status": "completed"
    },
    "tags": []
   },
   "outputs": [],
   "source": [
    "data = x_train[0].reshape((28,28))"
   ]
  },
  {
   "cell_type": "markdown",
   "metadata": {
    "tags": [
     "papermill-error-cell-tag"
    ]
   },
   "source": [
    "<span id=\"papermill-error-cell\" style=\"color:red; font-family:Helvetica Neue, Helvetica, Arial, sans-serif; font-size:2em;\">Execution using papermill encountered an exception here and stopped:</span>"
   ]
  },
  {
   "cell_type": "code",
   "execution_count": 9,
   "metadata": {
    "execution": {
     "iopub.execute_input": "2021-02-08T12:28:30.930067Z",
     "iopub.status.busy": "2021-02-08T12:28:30.929244Z",
     "iopub.status.idle": "2021-02-08T12:28:30.962582Z",
     "shell.execute_reply": "2021-02-08T12:28:30.963098Z"
    },
    "papermill": {
     "duration": 0.056319,
     "end_time": "2021-02-08T12:28:30.963292",
     "exception": false,
     "start_time": "2021-02-08T12:28:30.906973",
     "status": "completed"
    },
    "tags": []
   },
   "outputs": [
    {
     "ename": "NameError",
     "evalue": "name 'rows' is not defined",
     "output_type": "error",
     "traceback": [
      "\u001b[0;31m---------------------------------------------------------------------------\u001b[0m",
      "\u001b[0;31mNameError\u001b[0m                                 Traceback (most recent call last)",
      "\u001b[0;32m<ipython-input-9-81d352bfeeb9>\u001b[0m in \u001b[0;36m<module>\u001b[0;34m\u001b[0m\n\u001b[0;32m----> 1\u001b[0;31m \u001b[0mrandom\u001b[0m\u001b[0;34m.\u001b[0m\u001b[0msample\u001b[0m\u001b[0;34m(\u001b[0m\u001b[0mrange\u001b[0m\u001b[0;34m(\u001b[0m\u001b[0mlen\u001b[0m\u001b[0;34m(\u001b[0m\u001b[0mx_train\u001b[0m\u001b[0;34m)\u001b[0m\u001b[0;34m)\u001b[0m\u001b[0;34m,\u001b[0m\u001b[0mk\u001b[0m\u001b[0;34m=\u001b[0m\u001b[0mrows\u001b[0m\u001b[0;34m*\u001b[0m\u001b[0mcols\u001b[0m\u001b[0;34m)\u001b[0m\u001b[0;34m\u001b[0m\u001b[0;34m\u001b[0m\u001b[0m\n\u001b[0m",
      "\u001b[0;31mNameError\u001b[0m: name 'rows' is not defined"
     ]
    }
   ],
   "source": [
    "random.sample(range(len(x_train)),k=rows*cols)"
   ]
  },
  {
   "cell_type": "code",
   "execution_count": 10,
   "metadata": {
    "execution": {
     "iopub.execute_input": "2021-02-08T12:28:31.006680Z",
     "iopub.status.busy": "2021-02-08T12:28:31.005918Z",
     "iopub.status.idle": "2021-02-08T12:28:31.896470Z",
     "shell.execute_reply": "2021-02-08T12:28:31.895792Z"
    },
    "papermill": {
     "duration": 0.91379,
     "end_time": "2021-02-08T12:28:31.896631",
     "exception": false,
     "start_time": "2021-02-08T12:28:30.982841",
     "status": "completed"
    },
    "tags": []
   },
   "outputs": [
    {
     "data": {
      "image/png": "[encoded data removed]",
      "text/plain": [
       "<Figure size 720x432 with 18 Axes>"
      ]
     },
     "metadata": {
      "needs_background": "light"
     },
     "output_type": "display_data"
    }
   ],
   "source": [
    "\n",
    "    \n",
    "def plot_data(index):    \n",
    "    data = x_train[index].reshape((28,28))\n",
    "    label = y_train[index]\n",
    "    plt.imshow(data,cmap='gray')\n",
    "    plt.axis(False)\n",
    "    plt.title(label)\n",
    "\n",
    "rows, cols = 3,6\n",
    "\n",
    "plt.figure(figsize=(10,6))\n",
    "nums = random.sample(range(len(x_train)),k=rows*cols)\n",
    "\n",
    "for i, num in enumerate(nums):\n",
    "    plt.subplot(rows,cols,i+1 )\n",
    "    plot_data(num)\n",
    "\n",
    "plt.tight_layout()\n",
    "plt.show()\n",
    "plt.close()"
   ]
  },
  {
   "cell_type": "code",
   "execution_count": 11,
   "metadata": {
    "execution": {
     "iopub.execute_input": "2021-02-08T12:28:31.943052Z",
     "iopub.status.busy": "2021-02-08T12:28:31.942300Z",
     "iopub.status.idle": "2021-02-08T12:28:31.993508Z",
     "shell.execute_reply": "2021-02-08T12:28:31.994005Z"
    },
    "papermill": {
     "duration": 0.076991,
     "end_time": "2021-02-08T12:28:31.994201",
     "exception": false,
     "start_time": "2021-02-08T12:28:31.917210",
     "status": "completed"
    },
    "tags": []
   },
   "outputs": [
    {
     "data": {
      "text/plain": [
       "255"
      ]
     },
     "execution_count": 11,
     "metadata": {},
     "output_type": "execute_result"
    }
   ],
   "source": [
    "x_train.max()"
   ]
  },
  {
   "cell_type": "code",
   "execution_count": 12,
   "metadata": {
    "execution": {
     "iopub.execute_input": "2021-02-08T12:28:32.046949Z",
     "iopub.status.busy": "2021-02-08T12:28:32.045565Z",
     "iopub.status.idle": "2021-02-08T12:28:32.358982Z",
     "shell.execute_reply": "2021-02-08T12:28:32.358256Z"
    },
    "papermill": {
     "duration": 0.342932,
     "end_time": "2021-02-08T12:28:32.359137",
     "exception": false,
     "start_time": "2021-02-08T12:28:32.016205",
     "status": "completed"
    },
    "tags": []
   },
   "outputs": [],
   "source": [
    "#0~255 -> 전체 데이터/255 하면 0~1\n",
    "x_train = x_train / 255\n",
    "x_test = x_test / 255"
   ]
  },
  {
   "cell_type": "markdown",
   "metadata": {
    "papermill": {
     "duration": 0.020867,
     "end_time": "2021-02-08T12:28:32.401129",
     "exception": false,
     "start_time": "2021-02-08T12:28:32.380262",
     "status": "completed"
    },
    "tags": []
   },
   "source": [
    "MLP"
   ]
  },
  {
   "cell_type": "code",
   "execution_count": 13,
   "metadata": {
    "execution": {
     "iopub.execute_input": "2021-02-08T12:28:32.449823Z",
     "iopub.status.busy": "2021-02-08T12:28:32.449126Z",
     "iopub.status.idle": "2021-02-08T12:28:39.438132Z",
     "shell.execute_reply": "2021-02-08T12:28:39.438907Z"
    },
    "papermill": {
     "duration": 7.016641,
     "end_time": "2021-02-08T12:28:39.439125",
     "exception": false,
     "start_time": "2021-02-08T12:28:32.422484",
     "status": "completed"
    },
    "tags": []
   },
   "outputs": [],
   "source": [
    "import tensorflow as tf\n",
    "from tensorflow.keras import Sequential, Input\n",
    "from tensorflow.keras.layers import Dense, Dropout, ReLU, Softmax, BatchNormalization"
   ]
  },
  {
   "cell_type": "code",
   "execution_count": 14,
   "metadata": {
    "execution": {
     "iopub.execute_input": "2021-02-08T12:28:39.491162Z",
     "iopub.status.busy": "2021-02-08T12:28:39.490387Z",
     "iopub.status.idle": "2021-02-08T12:28:39.652912Z",
     "shell.execute_reply": "2021-02-08T12:28:39.652273Z"
    },
    "papermill": {
     "duration": 0.19217,
     "end_time": "2021-02-08T12:28:39.653098",
     "exception": false,
     "start_time": "2021-02-08T12:28:39.460928",
     "status": "completed"
    },
    "tags": []
   },
   "outputs": [],
   "source": [
    "model = Sequential([\n",
    "    Input(shape=(784)),\n",
    "    Dense(16), BatchNormalization(), ReLU(), Dropout(0.2),\n",
    "    Dense(16), BatchNormalization(), ReLU(), Dropout(0.2),\n",
    "    Dense(10), Softmax()\n",
    "])"
   ]
  },
  {
   "cell_type": "code",
   "execution_count": 15,
   "metadata": {
    "execution": {
     "iopub.execute_input": "2021-02-08T12:28:39.707542Z",
     "iopub.status.busy": "2021-02-08T12:28:39.706535Z",
     "iopub.status.idle": "2021-02-08T12:28:39.717432Z",
     "shell.execute_reply": "2021-02-08T12:28:39.717979Z"
    },
    "papermill": {
     "duration": 0.040147,
     "end_time": "2021-02-08T12:28:39.718190",
     "exception": false,
     "start_time": "2021-02-08T12:28:39.678043",
     "status": "completed"
    },
    "tags": []
   },
   "outputs": [
    {
     "name": "stdout",
     "output_type": "stream",
     "text": [
      "Model: \"sequential\"\n",
      "_________________________________________________________________\n",
      "Layer (type)                 Output Shape              Param #   \n",
      "=================================================================\n",
      "dense (Dense)                (None, 16)                12560     \n",
      "_________________________________________________________________\n",
      "batch_normalization (BatchNo (None, 16)                64        \n",
      "_________________________________________________________________\n",
      "re_lu (ReLU)                 (None, 16)                0         \n",
      "_________________________________________________________________\n",
      "dropout (Dropout)            (None, 16)                0         \n",
      "_________________________________________________________________\n",
      "dense_1 (Dense)              (None, 16)                272       \n",
      "_________________________________________________________________\n",
      "batch_normalization_1 (Batch (None, 16)                64        \n",
      "_________________________________________________________________\n",
      "re_lu_1 (ReLU)               (None, 16)                0         \n",
      "_________________________________________________________________\n",
      "dropout_1 (Dropout)          (None, 16)                0         \n",
      "_________________________________________________________________\n",
      "dense_2 (Dense)              (None, 10)                170       \n",
      "_________________________________________________________________\n",
      "softmax (Softmax)            (None, 10)                0         \n",
      "=================================================================\n",
      "Total params: 13,130\n",
      "Trainable params: 13,066\n",
      "Non-trainable params: 64\n",
      "_________________________________________________________________\n"
     ]
    }
   ],
   "source": [
    "model.summary()"
   ]
  },
  {
   "cell_type": "code",
   "execution_count": 16,
   "metadata": {
    "execution": {
     "iopub.execute_input": "2021-02-08T12:28:39.979986Z",
     "iopub.status.busy": "2021-02-08T12:28:39.979092Z",
     "iopub.status.idle": "2021-02-08T12:28:39.987862Z",
     "shell.execute_reply": "2021-02-08T12:28:39.987276Z"
    },
    "papermill": {
     "duration": 0.247941,
     "end_time": "2021-02-08T12:28:39.988020",
     "exception": false,
     "start_time": "2021-02-08T12:28:39.740079",
     "status": "completed"
    },
    "tags": []
   },
   "outputs": [],
   "source": [
    "model.compile(\n",
    "    optimizer = \"adam\",\n",
    "    loss=\"sparse_categorical_crossentropy\",\n",
    "    metrics=[\"sparse_categorical_accuracy\"]\n",
    ")"
   ]
  },
  {
   "cell_type": "code",
   "execution_count": 17,
   "metadata": {
    "execution": {
     "iopub.execute_input": "2021-02-08T12:28:40.039416Z",
     "iopub.status.busy": "2021-02-08T12:28:40.038725Z",
     "iopub.status.idle": "2021-02-08T12:29:16.721268Z",
     "shell.execute_reply": "2021-02-08T12:29:16.721801Z"
    },
    "papermill": {
     "duration": 36.711978,
     "end_time": "2021-02-08T12:29:16.722015",
     "exception": false,
     "start_time": "2021-02-08T12:28:40.010037",
     "status": "completed"
    },
    "tags": []
   },
   "outputs": [
    {
     "name": "stdout",
     "output_type": "stream",
     "text": [
      "Epoch 1/30\n",
      "525/525 [==============================] - 3s 3ms/step - loss: 1.5971 - sparse_categorical_accuracy: 0.4917 - val_loss: 0.4946 - val_sparse_categorical_accuracy: 0.8907\n",
      "Epoch 2/30\n",
      "525/525 [==============================] - 1s 2ms/step - loss: 0.7609 - sparse_categorical_accuracy: 0.7668 - val_loss: 0.3375 - val_sparse_categorical_accuracy: 0.9138\n",
      "Epoch 3/30\n",
      "525/525 [==============================] - 1s 2ms/step - loss: 0.6398 - sparse_categorical_accuracy: 0.7991 - val_loss: 0.3041 - val_sparse_categorical_accuracy: 0.9176\n",
      "Epoch 4/30\n",
      "525/525 [==============================] - 1s 2ms/step - loss: 0.5976 - sparse_categorical_accuracy: 0.8132 - val_loss: 0.2820 - val_sparse_categorical_accuracy: 0.9206\n",
      "Epoch 5/30\n",
      "525/525 [==============================] - 1s 2ms/step - loss: 0.5690 - sparse_categorical_accuracy: 0.8235 - val_loss: 0.2732 - val_sparse_categorical_accuracy: 0.9226\n",
      "Epoch 6/30\n",
      "525/525 [==============================] - 1s 2ms/step - loss: 0.5414 - sparse_categorical_accuracy: 0.8354 - val_loss: 0.2684 - val_sparse_categorical_accuracy: 0.9242\n",
      "Epoch 7/30\n",
      "525/525 [==============================] - 1s 2ms/step - loss: 0.5154 - sparse_categorical_accuracy: 0.8449 - val_loss: 0.2602 - val_sparse_categorical_accuracy: 0.9256\n",
      "Epoch 8/30\n",
      "525/525 [==============================] - 1s 2ms/step - loss: 0.5187 - sparse_categorical_accuracy: 0.8428 - val_loss: 0.2517 - val_sparse_categorical_accuracy: 0.9285\n",
      "Epoch 9/30\n",
      "525/525 [==============================] - 1s 2ms/step - loss: 0.4974 - sparse_categorical_accuracy: 0.8462 - val_loss: 0.2513 - val_sparse_categorical_accuracy: 0.9294\n",
      "Epoch 10/30\n",
      "525/525 [==============================] - 1s 2ms/step - loss: 0.4878 - sparse_categorical_accuracy: 0.8532 - val_loss: 0.2450 - val_sparse_categorical_accuracy: 0.9283\n",
      "Epoch 11/30\n",
      "525/525 [==============================] - 1s 2ms/step - loss: 0.4836 - sparse_categorical_accuracy: 0.8511 - val_loss: 0.2412 - val_sparse_categorical_accuracy: 0.9324\n",
      "Epoch 12/30\n",
      "525/525 [==============================] - 1s 2ms/step - loss: 0.4829 - sparse_categorical_accuracy: 0.8544 - val_loss: 0.2444 - val_sparse_categorical_accuracy: 0.9290\n",
      "Epoch 13/30\n",
      "525/525 [==============================] - 1s 2ms/step - loss: 0.4739 - sparse_categorical_accuracy: 0.8550 - val_loss: 0.2401 - val_sparse_categorical_accuracy: 0.9300\n",
      "Epoch 14/30\n",
      "525/525 [==============================] - 1s 2ms/step - loss: 0.4638 - sparse_categorical_accuracy: 0.8590 - val_loss: 0.2336 - val_sparse_categorical_accuracy: 0.9337\n",
      "Epoch 15/30\n",
      "525/525 [==============================] - 1s 2ms/step - loss: 0.4501 - sparse_categorical_accuracy: 0.8634 - val_loss: 0.2421 - val_sparse_categorical_accuracy: 0.9299\n",
      "Epoch 16/30\n",
      "525/525 [==============================] - 1s 2ms/step - loss: 0.4569 - sparse_categorical_accuracy: 0.8600 - val_loss: 0.2333 - val_sparse_categorical_accuracy: 0.9325\n",
      "Epoch 17/30\n",
      "525/525 [==============================] - 1s 2ms/step - loss: 0.4544 - sparse_categorical_accuracy: 0.8621 - val_loss: 0.2367 - val_sparse_categorical_accuracy: 0.9313\n",
      "Epoch 18/30\n",
      "525/525 [==============================] - 1s 2ms/step - loss: 0.4594 - sparse_categorical_accuracy: 0.8634 - val_loss: 0.2320 - val_sparse_categorical_accuracy: 0.9325\n",
      "Epoch 19/30\n",
      "525/525 [==============================] - 1s 2ms/step - loss: 0.4445 - sparse_categorical_accuracy: 0.8637 - val_loss: 0.2299 - val_sparse_categorical_accuracy: 0.9337\n",
      "Epoch 20/30\n",
      "525/525 [==============================] - 1s 2ms/step - loss: 0.4409 - sparse_categorical_accuracy: 0.8662 - val_loss: 0.2378 - val_sparse_categorical_accuracy: 0.9310\n",
      "Epoch 21/30\n",
      "525/525 [==============================] - 1s 2ms/step - loss: 0.4450 - sparse_categorical_accuracy: 0.8657 - val_loss: 0.2326 - val_sparse_categorical_accuracy: 0.9336\n",
      "Epoch 22/30\n",
      "525/525 [==============================] - 1s 2ms/step - loss: 0.4368 - sparse_categorical_accuracy: 0.8655 - val_loss: 0.2294 - val_sparse_categorical_accuracy: 0.9329\n",
      "Epoch 23/30\n",
      "525/525 [==============================] - 1s 2ms/step - loss: 0.4391 - sparse_categorical_accuracy: 0.8636 - val_loss: 0.2287 - val_sparse_categorical_accuracy: 0.9306\n",
      "Epoch 24/30\n",
      "525/525 [==============================] - 1s 2ms/step - loss: 0.4376 - sparse_categorical_accuracy: 0.8650 - val_loss: 0.2247 - val_sparse_categorical_accuracy: 0.9357\n",
      "Epoch 25/30\n",
      "525/525 [==============================] - 1s 2ms/step - loss: 0.4443 - sparse_categorical_accuracy: 0.8670 - val_loss: 0.2191 - val_sparse_categorical_accuracy: 0.9364\n",
      "Epoch 26/30\n",
      "525/525 [==============================] - 1s 2ms/step - loss: 0.4248 - sparse_categorical_accuracy: 0.8688 - val_loss: 0.2252 - val_sparse_categorical_accuracy: 0.9343\n",
      "Epoch 27/30\n",
      "525/525 [==============================] - 1s 2ms/step - loss: 0.4165 - sparse_categorical_accuracy: 0.8712 - val_loss: 0.2195 - val_sparse_categorical_accuracy: 0.9360\n",
      "Epoch 28/30\n",
      "525/525 [==============================] - 1s 2ms/step - loss: 0.4167 - sparse_categorical_accuracy: 0.8701 - val_loss: 0.2232 - val_sparse_categorical_accuracy: 0.9339\n",
      "Epoch 29/30\n",
      "525/525 [==============================] - 1s 2ms/step - loss: 0.4230 - sparse_categorical_accuracy: 0.8675 - val_loss: 0.2193 - val_sparse_categorical_accuracy: 0.9369\n",
      "Epoch 30/30\n",
      "525/525 [==============================] - 1s 2ms/step - loss: 0.4317 - sparse_categorical_accuracy: 0.8682 - val_loss: 0.2200 - val_sparse_categorical_accuracy: 0.9348\n"
     ]
    }
   ],
   "source": [
    "history = model.fit(x_train, y_train,batch_size=64,epochs=30, validation_split=0.2)"
   ]
  },
  {
   "cell_type": "code",
   "execution_count": 18,
   "metadata": {
    "execution": {
     "iopub.execute_input": "2021-02-08T12:29:17.144869Z",
     "iopub.status.busy": "2021-02-08T12:29:17.144176Z",
     "iopub.status.idle": "2021-02-08T12:29:17.150671Z",
     "shell.execute_reply": "2021-02-08T12:29:17.149942Z"
    },
    "papermill": {
     "duration": 0.220154,
     "end_time": "2021-02-08T12:29:17.150913",
     "exception": false,
     "start_time": "2021-02-08T12:29:16.930759",
     "status": "completed"
    },
    "tags": []
   },
   "outputs": [
    {
     "data": {
      "text/plain": [
       "[1.218401551246643,\n",
       " 0.7205772399902344,\n",
       " 0.6354175806045532,\n",
       " 0.5837388634681702,\n",
       " 0.5597941279411316,\n",
       " 0.5363357663154602,\n",
       " 0.5222092866897583,\n",
       " 0.5144146084785461,\n",
       " 0.5040107369422913,\n",
       " 0.4935015141963959,\n",
       " 0.48644229769706726,\n",
       " 0.4791814684867859,\n",
       " 0.47682899236679077,\n",
       " 0.46748629212379456,\n",
       " 0.464006632566452,\n",
       " 0.45944008231163025,\n",
       " 0.45806223154067993,\n",
       " 0.4522453844547272,\n",
       " 0.45153793692588806,\n",
       " 0.44254589080810547,\n",
       " 0.44467759132385254,\n",
       " 0.4420875012874603,\n",
       " 0.43212851881980896,\n",
       " 0.44216272234916687,\n",
       " 0.43832525610923767,\n",
       " 0.43090856075286865,\n",
       " 0.4295949935913086,\n",
       " 0.4274190366268158,\n",
       " 0.42673203349113464,\n",
       " 0.42797109484672546]"
      ]
     },
     "execution_count": 18,
     "metadata": {},
     "output_type": "execute_result"
    }
   ],
   "source": [
    "history.history['loss']\n"
   ]
  },
  {
   "cell_type": "code",
   "execution_count": 19,
   "metadata": {
    "execution": {
     "iopub.execute_input": "2021-02-08T12:29:17.568313Z",
     "iopub.status.busy": "2021-02-08T12:29:17.567316Z",
     "iopub.status.idle": "2021-02-08T12:29:17.571017Z",
     "shell.execute_reply": "2021-02-08T12:29:17.570486Z"
    },
    "papermill": {
     "duration": 0.21526,
     "end_time": "2021-02-08T12:29:17.571174",
     "exception": false,
     "start_time": "2021-02-08T12:29:17.355914",
     "status": "completed"
    },
    "tags": []
   },
   "outputs": [],
   "source": [
    "train_loss = history.history['loss']\n",
    "train_acc = history.history['sparse_categorical_accuracy']\n",
    "\n",
    "valid_loss  = history.history['loss']\n",
    "valid_acc = history.history['sparse_categorical_accuracy']"
   ]
  },
  {
   "cell_type": "code",
   "execution_count": 20,
   "metadata": {
    "execution": {
     "iopub.execute_input": "2021-02-08T12:29:18.010670Z",
     "iopub.status.busy": "2021-02-08T12:29:18.009483Z",
     "iopub.status.idle": "2021-02-08T12:29:18.362570Z",
     "shell.execute_reply": "2021-02-08T12:29:18.361981Z"
    },
    "papermill": {
     "duration": 0.585517,
     "end_time": "2021-02-08T12:29:18.362731",
     "exception": false,
     "start_time": "2021-02-08T12:29:17.777214",
     "status": "completed"
    },
    "tags": []
   },
   "outputs": [
    {
     "data": {
      "image/png": "[encoded data removed]",
      "text/plain": [
       "<Figure size 864x360 with 2 Axes>"
      ]
     },
     "metadata": {
      "needs_background": "light"
     },
     "output_type": "display_data"
    }
   ],
   "source": [
    "plt.figure(figsize=(12,5))\n",
    "plt.subplot(1,2,1)\n",
    "plt.plot(train_loss, label =\"train loss\")\n",
    "plt.plot(valid_loss, label=\"valid loss\")\n",
    "plt.title('loss')\n",
    "plt.legend()\n",
    "\n",
    "plt.subplot(1,2,2)\n",
    "plt.plot(train_acc, label =\"train acc\")\n",
    "plt.plot(valid_acc, label=\"valid acc\")\n",
    "plt.title(\"accuracy\")\n",
    "plt.legend()\n",
    "\n",
    "plt.show()\n",
    "plt.close()"
   ]
  },
  {
   "cell_type": "code",
   "execution_count": 21,
   "metadata": {
    "execution": {
     "iopub.execute_input": "2021-02-08T12:29:18.790187Z",
     "iopub.status.busy": "2021-02-08T12:29:18.788858Z",
     "iopub.status.idle": "2021-02-08T12:29:19.618249Z",
     "shell.execute_reply": "2021-02-08T12:29:19.617636Z"
    },
    "papermill": {
     "duration": 1.045504,
     "end_time": "2021-02-08T12:29:19.618408",
     "exception": false,
     "start_time": "2021-02-08T12:29:18.572904",
     "status": "completed"
    },
    "tags": []
   },
   "outputs": [],
   "source": [
    "predictions = model.predict(x_test)\n"
   ]
  },
  {
   "cell_type": "code",
   "execution_count": 22,
   "metadata": {
    "execution": {
     "iopub.execute_input": "2021-02-08T12:29:20.042209Z",
     "iopub.status.busy": "2021-02-08T12:29:20.041351Z",
     "iopub.status.idle": "2021-02-08T12:29:20.045257Z",
     "shell.execute_reply": "2021-02-08T12:29:20.045734Z"
    },
    "papermill": {
     "duration": 0.219081,
     "end_time": "2021-02-08T12:29:20.045917",
     "exception": false,
     "start_time": "2021-02-08T12:29:19.826836",
     "status": "completed"
    },
    "tags": []
   },
   "outputs": [],
   "source": [
    "pred = np.argmax(predictions,axis=1)"
   ]
  },
  {
   "cell_type": "code",
   "execution_count": 23,
   "metadata": {
    "execution": {
     "iopub.execute_input": "2021-02-08T12:29:20.471782Z",
     "iopub.status.busy": "2021-02-08T12:29:20.470760Z",
     "iopub.status.idle": "2021-02-08T12:29:20.474862Z",
     "shell.execute_reply": "2021-02-08T12:29:20.474236Z"
    },
    "papermill": {
     "duration": 0.218109,
     "end_time": "2021-02-08T12:29:20.475021",
     "exception": false,
     "start_time": "2021-02-08T12:29:20.256912",
     "status": "completed"
    },
    "tags": []
   },
   "outputs": [
    {
     "data": {
      "text/plain": [
       "array([2, 0, 9, ..., 3, 9, 2])"
      ]
     },
     "execution_count": 23,
     "metadata": {},
     "output_type": "execute_result"
    }
   ],
   "source": [
    "pred"
   ]
  },
  {
   "cell_type": "code",
   "execution_count": 24,
   "metadata": {
    "execution": {
     "iopub.execute_input": "2021-02-08T12:29:20.897351Z",
     "iopub.status.busy": "2021-02-08T12:29:20.896682Z",
     "iopub.status.idle": "2021-02-08T12:29:20.930054Z",
     "shell.execute_reply": "2021-02-08T12:29:20.929276Z"
    },
    "papermill": {
     "duration": 0.247726,
     "end_time": "2021-02-08T12:29:20.930216",
     "exception": false,
     "start_time": "2021-02-08T12:29:20.682490",
     "status": "completed"
    },
    "tags": []
   },
   "outputs": [],
   "source": [
    "sub = pd.read_csv('../input/digit-recognizer/sample_submission.csv')\n",
    "sub[\"Label\"] = pred"
   ]
  },
  {
   "cell_type": "code",
   "execution_count": 25,
   "metadata": {
    "execution": {
     "iopub.execute_input": "2021-02-08T12:29:21.354335Z",
     "iopub.status.busy": "2021-02-08T12:29:21.353335Z",
     "iopub.status.idle": "2021-02-08T12:29:21.412682Z",
     "shell.execute_reply": "2021-02-08T12:29:21.413288Z"
    },
    "papermill": {
     "duration": 0.27278,
     "end_time": "2021-02-08T12:29:21.413512",
     "exception": false,
     "start_time": "2021-02-08T12:29:21.140732",
     "status": "completed"
    },
    "tags": []
   },
   "outputs": [],
   "source": [
    "sub.to_csv('mnist-20210208.csv',index=False)"
   ]
  },
  {
   "cell_type": "code",
   "execution_count": null,
   "metadata": {
    "papermill": {
     "duration": 0.209842,
     "end_time": "2021-02-08T12:29:21.831612",
     "exception": false,
     "start_time": "2021-02-08T12:29:21.621770",
     "status": "completed"
    },
    "tags": []
   },
   "outputs": [],
   "source": []
  }
 ],
 "metadata": {
  "kernelspec": {
   "display_name": "Python 3",
   "language": "python",
   "name": "python3"
  },
  "language_info": {
   "codemirror_mode": {
    "name": "ipython",
    "version": 3
   },
   "file_extension": ".py",
   "mimetype": "text/x-python",
   "name": "python",
   "nbconvert_exporter": "python",
   "pygments_lexer": "ipython3",
   "version": "3.7.9"
  },
  "papermill": {
   "default_parameters": {},
   "duration": 66.62428,
   "end_time": "2021-02-08T12:29:23.599592",
   "environment_variables": {},
   "exception": null,
   "input_path": "__notebook__.ipynb",
   "output_path": "__notebook__.ipynb",
   "parameters": {},
   "start_time": "2021-02-08T12:28:16.975312",
   "version": "2.2.2"
  }
 },
 "nbformat": 4,
 "nbformat_minor": 4
}
