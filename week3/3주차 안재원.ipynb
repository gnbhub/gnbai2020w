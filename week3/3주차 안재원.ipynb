{
 "cells": [
  {
   "cell_type": "code",
   "execution_count": 1,
   "metadata": {
    "_cell_guid": "b1076dfc-b9ad-4769-8c92-a6c4dae69d19",
    "_uuid": "8f2839f25d086af736a60e9eeb907d3b93b6e0e5",
    "execution": {
     "iopub.execute_input": "2021-02-08T12:28:22.023725Z",
     "iopub.status.busy": "2021-02-08T12:28:22.022786Z",
     "iopub.status.idle": "2021-02-08T12:28:22.026761Z",
     "shell.execute_reply": "2021-02-08T12:28:22.026003Z"
    },
    "papermill": {
     "duration": 0.028157,
     "end_time": "2021-02-08T12:28:22.026980",
     "exception": false,
     "start_time": "2021-02-08T12:28:21.998823",
     "status": "completed"
    },
    "tags": []
   },
   "outputs": [],
   "source": [
    "import numpy as np\n",
    "import pandas as pd\n",
    "import matplotlib.pyplot as plt\n",
    "\n",
    "import random"
   ]
  },
  {
   "cell_type": "code",
   "execution_count": 2,
   "metadata": {
    "execution": {
     "iopub.execute_input": "2021-02-08T12:28:22.066973Z",
     "iopub.status.busy": "2021-02-08T12:28:22.066085Z",
     "iopub.status.idle": "2021-02-08T12:28:28.180996Z",
     "shell.execute_reply": "2021-02-08T12:28:28.179761Z"
    },
    "papermill": {
     "duration": 6.136608,
     "end_time": "2021-02-08T12:28:28.181163",
     "exception": false,
     "start_time": "2021-02-08T12:28:22.044555",
     "status": "completed"
    },
    "tags": []
   },
   "outputs": [],
   "source": [
    "train_df = pd.read_csv('../input/digit-recognizer/train.csv')\n",
    "test_df = pd.read_csv('../input/digit-recognizer/test.csv')"
   ]
  },
  {
   "cell_type": "code",
   "execution_count": 3,
   "metadata": {
    "execution": {
     "iopub.execute_input": "2021-02-08T12:28:28.221702Z",
     "iopub.status.busy": "2021-02-08T12:28:28.220976Z",
     "iopub.status.idle": "2021-02-08T12:28:28.258563Z",
     "shell.execute_reply": "2021-02-08T12:28:28.259075Z"
    },
    "papermill": {
     "duration": 0.060083,
     "end_time": "2021-02-08T12:28:28.259244",
     "exception": false,
     "start_time": "2021-02-08T12:28:28.199161",
     "status": "completed"
    },
    "tags": []
   },
   "outputs": [
    {
     "data": {
      "text/html": [
       "<div>\n",
       "<style scoped>\n",
       "    .dataframe tbody tr th:only-of-type {\n",
       "        vertical-align: middle;\n",
       "    }\n",
       "\n",
       "    .dataframe tbody tr th {\n",
       "        vertical-align: top;\n",
       "    }\n",
       "\n",
       "    .dataframe thead th {\n",
       "        text-align: right;\n",
       "    }\n",
       "</style>\n",
       "<table border=\"1\" class=\"dataframe\">\n",
       "  <thead>\n",
       "    <tr style=\"text-align: right;\">\n",
       "      <th></th>\n",
       "      <th>label</th>\n",
       "      <th>pixel0</th>\n",
       "      <th>pixel1</th>\n",
       "      <th>pixel2</th>\n",
       "      <th>pixel3</th>\n",
       "      <th>pixel4</th>\n",
       "      <th>pixel5</th>\n",
       "      <th>pixel6</th>\n",
       "      <th>pixel7</th>\n",
       "      <th>pixel8</th>\n",
       "      <th>...</th>\n",
       "      <th>pixel774</th>\n",
       "      <th>pixel775</th>\n",
       "      <th>pixel776</th>\n",
       "      <th>pixel777</th>\n",
       "      <th>pixel778</th>\n",
       "      <th>pixel779</th>\n",
       "      <th>pixel780</th>\n",
       "      <th>pixel781</th>\n",
       "      <th>pixel782</th>\n",
       "      <th>pixel783</th>\n",
       "    </tr>\n",
       "  </thead>\n",
       "  <tbody>\n",
       "    <tr>\n",
       "      <th>0</th>\n",
       "      <td>1</td>\n",
       "      <td>0</td>\n",
       "      <td>0</td>\n",
       "      <td>0</td>\n",
       "      <td>0</td>\n",
       "      <td>0</td>\n",
       "      <td>0</td>\n",
       "      <td>0</td>\n",
       "      <td>0</td>\n",
       "      <td>0</td>\n",
       "      <td>...</td>\n",
       "      <td>0</td>\n",
       "      <td>0</td>\n",
       "      <td>0</td>\n",
       "      <td>0</td>\n",
       "      <td>0</td>\n",
       "      <td>0</td>\n",
       "      <td>0</td>\n",
       "      <td>0</td>\n",
       "      <td>0</td>\n",
       "      <td>0</td>\n",
       "    </tr>\n",
       "    <tr>\n",
       "      <th>1</th>\n",
       "      <td>0</td>\n",
       "      <td>0</td>\n",
       "      <td>0</td>\n",
       "      <td>0</td>\n",
       "      <td>0</td>\n",
       "      <td>0</td>\n",
       "      <td>0</td>\n",
       "      <td>0</td>\n",
       "      <td>0</td>\n",
       "      <td>0</td>\n",
       "      <td>...</td>\n",
       "      <td>0</td>\n",
       "      <td>0</td>\n",
       "      <td>0</td>\n",
       "      <td>0</td>\n",
       "      <td>0</td>\n",
       "      <td>0</td>\n",
       "      <td>0</td>\n",
       "      <td>0</td>\n",
       "      <td>0</td>\n",
       "      <td>0</td>\n",
       "    </tr>\n",
       "    <tr>\n",
       "      <th>2</th>\n",
       "      <td>1</td>\n",
       "      <td>0</td>\n",
       "      <td>0</td>\n",
       "      <td>0</td>\n",
       "      <td>0</td>\n",
       "      <td>0</td>\n",
       "      <td>0</td>\n",
       "      <td>0</td>\n",
       "      <td>0</td>\n",
       "      <td>0</td>\n",
       "      <td>...</td>\n",
       "      <td>0</td>\n",
       "      <td>0</td>\n",
       "      <td>0</td>\n",
       "      <td>0</td>\n",
       "      <td>0</td>\n",
       "      <td>0</td>\n",
       "      <td>0</td>\n",
       "      <td>0</td>\n",
       "      <td>0</td>\n",
       "      <td>0</td>\n",
       "    </tr>\n",
       "    <tr>\n",
       "      <th>3</th>\n",
       "      <td>4</td>\n",
       "      <td>0</td>\n",
       "      <td>0</td>\n",
       "      <td>0</td>\n",
       "      <td>0</td>\n",
       "      <td>0</td>\n",
       "      <td>0</td>\n",
       "      <td>0</td>\n",
       "      <td>0</td>\n",
       "      <td>0</td>\n",
       "      <td>...</td>\n",
       "      <td>0</td>\n",
       "      <td>0</td>\n",
       "      <td>0</td>\n",
       "      <td>0</td>\n",
       "      <td>0</td>\n",
       "      <td>0</td>\n",
       "      <td>0</td>\n",
       "      <td>0</td>\n",
       "      <td>0</td>\n",
       "      <td>0</td>\n",
       "    </tr>\n",
       "    <tr>\n",
       "      <th>4</th>\n",
       "      <td>0</td>\n",
       "      <td>0</td>\n",
       "      <td>0</td>\n",
       "      <td>0</td>\n",
       "      <td>0</td>\n",
       "      <td>0</td>\n",
       "      <td>0</td>\n",
       "      <td>0</td>\n",
       "      <td>0</td>\n",
       "      <td>0</td>\n",
       "      <td>...</td>\n",
       "      <td>0</td>\n",
       "      <td>0</td>\n",
       "      <td>0</td>\n",
       "      <td>0</td>\n",
       "      <td>0</td>\n",
       "      <td>0</td>\n",
       "      <td>0</td>\n",
       "      <td>0</td>\n",
       "      <td>0</td>\n",
       "      <td>0</td>\n",
       "    </tr>\n",
       "  </tbody>\n",
       "</table>\n",
       "<p>5 rows × 785 columns</p>\n",
       "</div>"
      ],
      "text/plain": [
       "   label  pixel0  pixel1  pixel2  pixel3  pixel4  pixel5  pixel6  pixel7  \\\n",
       "0      1       0       0       0       0       0       0       0       0   \n",
       "1      0       0       0       0       0       0       0       0       0   \n",
       "2      1       0       0       0       0       0       0       0       0   \n",
       "3      4       0       0       0       0       0       0       0       0   \n",
       "4      0       0       0       0       0       0       0       0       0   \n",
       "\n",
       "   pixel8  ...  pixel774  pixel775  pixel776  pixel777  pixel778  pixel779  \\\n",
       "0       0  ...         0         0         0         0         0         0   \n",
       "1       0  ...         0         0         0         0         0         0   \n",
       "2       0  ...         0         0         0         0         0         0   \n",
       "3       0  ...         0         0         0         0         0         0   \n",
       "4       0  ...         0         0         0         0         0         0   \n",
       "\n",
       "   pixel780  pixel781  pixel782  pixel783  \n",
       "0         0         0         0         0  \n",
       "1         0         0         0         0  \n",
       "2         0         0         0         0  \n",
       "3         0         0         0         0  \n",
       "4         0         0         0         0  \n",
       "\n",
       "[5 rows x 785 columns]"
      ]
     },
     "execution_count": 3,
     "metadata": {},
     "output_type": "execute_result"
    }
   ],
   "source": [
    "train_df.head()"
   ]
  },
  {
   "cell_type": "code",
   "execution_count": 4,
   "metadata": {
    "execution": {
     "iopub.execute_input": "2021-02-08T12:28:28.301327Z",
     "iopub.status.busy": "2021-02-08T12:28:28.300656Z",
     "iopub.status.idle": "2021-02-08T12:28:28.452053Z",
     "shell.execute_reply": "2021-02-08T12:28:28.452551Z"
    },
    "papermill": {
     "duration": 0.174136,
     "end_time": "2021-02-08T12:28:28.452763",
     "exception": false,
     "start_time": "2021-02-08T12:28:28.278627",
     "status": "completed"
    },
    "tags": []
   },
   "outputs": [
    {
     "data": {
      "text/html": [
       "<div>\n",
       "<style scoped>\n",
       "    .dataframe tbody tr th:only-of-type {\n",
       "        vertical-align: middle;\n",
       "    }\n",
       "\n",
       "    .dataframe tbody tr th {\n",
       "        vertical-align: top;\n",
       "    }\n",
       "\n",
       "    .dataframe thead th {\n",
       "        text-align: right;\n",
       "    }\n",
       "</style>\n",
       "<table border=\"1\" class=\"dataframe\">\n",
       "  <thead>\n",
       "    <tr style=\"text-align: right;\">\n",
       "      <th></th>\n",
       "      <th>pixel0</th>\n",
       "      <th>pixel1</th>\n",
       "      <th>pixel2</th>\n",
       "      <th>pixel3</th>\n",
       "      <th>pixel4</th>\n",
       "      <th>pixel5</th>\n",
       "      <th>pixel6</th>\n",
       "      <th>pixel7</th>\n",
       "      <th>pixel8</th>\n",
       "      <th>pixel9</th>\n",
       "      <th>...</th>\n",
       "      <th>pixel774</th>\n",
       "      <th>pixel775</th>\n",
       "      <th>pixel776</th>\n",
       "      <th>pixel777</th>\n",
       "      <th>pixel778</th>\n",
       "      <th>pixel779</th>\n",
       "      <th>pixel780</th>\n",
       "      <th>pixel781</th>\n",
       "      <th>pixel782</th>\n",
       "      <th>pixel783</th>\n",
       "    </tr>\n",
       "  </thead>\n",
       "  <tbody>\n",
       "    <tr>\n",
       "      <th>0</th>\n",
       "      <td>0</td>\n",
       "      <td>0</td>\n",
       "      <td>0</td>\n",
       "      <td>0</td>\n",
       "      <td>0</td>\n",
       "      <td>0</td>\n",
       "      <td>0</td>\n",
       "      <td>0</td>\n",
       "      <td>0</td>\n",
       "      <td>0</td>\n",
       "      <td>...</td>\n",
       "      <td>0</td>\n",
       "      <td>0</td>\n",
       "      <td>0</td>\n",
       "      <td>0</td>\n",
       "      <td>0</td>\n",
       "      <td>0</td>\n",
       "      <td>0</td>\n",
       "      <td>0</td>\n",
       "      <td>0</td>\n",
       "      <td>0</td>\n",
       "    </tr>\n",
       "    <tr>\n",
       "      <th>1</th>\n",
       "      <td>0</td>\n",
       "      <td>0</td>\n",
       "      <td>0</td>\n",
       "      <td>0</td>\n",
       "      <td>0</td>\n",
       "      <td>0</td>\n",
       "      <td>0</td>\n",
       "      <td>0</td>\n",
       "      <td>0</td>\n",
       "      <td>0</td>\n",
       "      <td>...</td>\n",
       "      <td>0</td>\n",
       "      <td>0</td>\n",
       "      <td>0</td>\n",
       "      <td>0</td>\n",
       "      <td>0</td>\n",
       "      <td>0</td>\n",
       "      <td>0</td>\n",
       "      <td>0</td>\n",
       "      <td>0</td>\n",
       "      <td>0</td>\n",
       "    </tr>\n",
       "    <tr>\n",
       "      <th>2</th>\n",
       "      <td>0</td>\n",
       "      <td>0</td>\n",
       "      <td>0</td>\n",
       "      <td>0</td>\n",
       "      <td>0</td>\n",
       "      <td>0</td>\n",
       "      <td>0</td>\n",
       "      <td>0</td>\n",
       "      <td>0</td>\n",
       "      <td>0</td>\n",
       "      <td>...</td>\n",
       "      <td>0</td>\n",
       "      <td>0</td>\n",
       "      <td>0</td>\n",
       "      <td>0</td>\n",
       "      <td>0</td>\n",
       "      <td>0</td>\n",
       "      <td>0</td>\n",
       "      <td>0</td>\n",
       "      <td>0</td>\n",
       "      <td>0</td>\n",
       "    </tr>\n",
       "    <tr>\n",
       "      <th>3</th>\n",
       "      <td>0</td>\n",
       "      <td>0</td>\n",
       "      <td>0</td>\n",
       "      <td>0</td>\n",
       "      <td>0</td>\n",
       "      <td>0</td>\n",
       "      <td>0</td>\n",
       "      <td>0</td>\n",
       "      <td>0</td>\n",
       "      <td>0</td>\n",
       "      <td>...</td>\n",
       "      <td>0</td>\n",
       "      <td>0</td>\n",
       "      <td>0</td>\n",
       "      <td>0</td>\n",
       "      <td>0</td>\n",
       "      <td>0</td>\n",
       "      <td>0</td>\n",
       "      <td>0</td>\n",
       "      <td>0</td>\n",
       "      <td>0</td>\n",
       "    </tr>\n",
       "    <tr>\n",
       "      <th>4</th>\n",
       "      <td>0</td>\n",
       "      <td>0</td>\n",
       "      <td>0</td>\n",
       "      <td>0</td>\n",
       "      <td>0</td>\n",
       "      <td>0</td>\n",
       "      <td>0</td>\n",
       "      <td>0</td>\n",
       "      <td>0</td>\n",
       "      <td>0</td>\n",
       "      <td>...</td>\n",
       "      <td>0</td>\n",
       "      <td>0</td>\n",
       "      <td>0</td>\n",
       "      <td>0</td>\n",
       "      <td>0</td>\n",
       "      <td>0</td>\n",
       "      <td>0</td>\n",
       "      <td>0</td>\n",
       "      <td>0</td>\n",
       "      <td>0</td>\n",
       "    </tr>\n",
       "    <tr>\n",
       "      <th>...</th>\n",
       "      <td>...</td>\n",
       "      <td>...</td>\n",
       "      <td>...</td>\n",
       "      <td>...</td>\n",
       "      <td>...</td>\n",
       "      <td>...</td>\n",
       "      <td>...</td>\n",
       "      <td>...</td>\n",
       "      <td>...</td>\n",
       "      <td>...</td>\n",
       "      <td>...</td>\n",
       "      <td>...</td>\n",
       "      <td>...</td>\n",
       "      <td>...</td>\n",
       "      <td>...</td>\n",
       "      <td>...</td>\n",
       "      <td>...</td>\n",
       "      <td>...</td>\n",
       "      <td>...</td>\n",
       "      <td>...</td>\n",
       "      <td>...</td>\n",
       "    </tr>\n",
       "    <tr>\n",
       "      <th>41995</th>\n",
       "      <td>0</td>\n",
       "      <td>0</td>\n",
       "      <td>0</td>\n",
       "      <td>0</td>\n",
       "      <td>0</td>\n",
       "      <td>0</td>\n",
       "      <td>0</td>\n",
       "      <td>0</td>\n",
       "      <td>0</td>\n",
       "      <td>0</td>\n",
       "      <td>...</td>\n",
       "      <td>0</td>\n",
       "      <td>0</td>\n",
       "      <td>0</td>\n",
       "      <td>0</td>\n",
       "      <td>0</td>\n",
       "      <td>0</td>\n",
       "      <td>0</td>\n",
       "      <td>0</td>\n",
       "      <td>0</td>\n",
       "      <td>0</td>\n",
       "    </tr>\n",
       "    <tr>\n",
       "      <th>41996</th>\n",
       "      <td>0</td>\n",
       "      <td>0</td>\n",
       "      <td>0</td>\n",
       "      <td>0</td>\n",
       "      <td>0</td>\n",
       "      <td>0</td>\n",
       "      <td>0</td>\n",
       "      <td>0</td>\n",
       "      <td>0</td>\n",
       "      <td>0</td>\n",
       "      <td>...</td>\n",
       "      <td>0</td>\n",
       "      <td>0</td>\n",
       "      <td>0</td>\n",
       "      <td>0</td>\n",
       "      <td>0</td>\n",
       "      <td>0</td>\n",
       "      <td>0</td>\n",
       "      <td>0</td>\n",
       "      <td>0</td>\n",
       "      <td>0</td>\n",
       "    </tr>\n",
       "    <tr>\n",
       "      <th>41997</th>\n",
       "      <td>0</td>\n",
       "      <td>0</td>\n",
       "      <td>0</td>\n",
       "      <td>0</td>\n",
       "      <td>0</td>\n",
       "      <td>0</td>\n",
       "      <td>0</td>\n",
       "      <td>0</td>\n",
       "      <td>0</td>\n",
       "      <td>0</td>\n",
       "      <td>...</td>\n",
       "      <td>0</td>\n",
       "      <td>0</td>\n",
       "      <td>0</td>\n",
       "      <td>0</td>\n",
       "      <td>0</td>\n",
       "      <td>0</td>\n",
       "      <td>0</td>\n",
       "      <td>0</td>\n",
       "      <td>0</td>\n",
       "      <td>0</td>\n",
       "    </tr>\n",
       "    <tr>\n",
       "      <th>41998</th>\n",
       "      <td>0</td>\n",
       "      <td>0</td>\n",
       "      <td>0</td>\n",
       "      <td>0</td>\n",
       "      <td>0</td>\n",
       "      <td>0</td>\n",
       "      <td>0</td>\n",
       "      <td>0</td>\n",
       "      <td>0</td>\n",
       "      <td>0</td>\n",
       "      <td>...</td>\n",
       "      <td>0</td>\n",
       "      <td>0</td>\n",
       "      <td>0</td>\n",
       "      <td>0</td>\n",
       "      <td>0</td>\n",
       "      <td>0</td>\n",
       "      <td>0</td>\n",
       "      <td>0</td>\n",
       "      <td>0</td>\n",
       "      <td>0</td>\n",
       "    </tr>\n",
       "    <tr>\n",
       "      <th>41999</th>\n",
       "      <td>0</td>\n",
       "      <td>0</td>\n",
       "      <td>0</td>\n",
       "      <td>0</td>\n",
       "      <td>0</td>\n",
       "      <td>0</td>\n",
       "      <td>0</td>\n",
       "      <td>0</td>\n",
       "      <td>0</td>\n",
       "      <td>0</td>\n",
       "      <td>...</td>\n",
       "      <td>0</td>\n",
       "      <td>0</td>\n",
       "      <td>0</td>\n",
       "      <td>0</td>\n",
       "      <td>0</td>\n",
       "      <td>0</td>\n",
       "      <td>0</td>\n",
       "      <td>0</td>\n",
       "      <td>0</td>\n",
       "      <td>0</td>\n",
       "    </tr>\n",
       "  </tbody>\n",
       "</table>\n",
       "<p>42000 rows × 784 columns</p>\n",
       "</div>"
      ],
      "text/plain": [
       "       pixel0  pixel1  pixel2  pixel3  pixel4  pixel5  pixel6  pixel7  pixel8  \\\n",
       "0           0       0       0       0       0       0       0       0       0   \n",
       "1           0       0       0       0       0       0       0       0       0   \n",
       "2           0       0       0       0       0       0       0       0       0   \n",
       "3           0       0       0       0       0       0       0       0       0   \n",
       "4           0       0       0       0       0       0       0       0       0   \n",
       "...       ...     ...     ...     ...     ...     ...     ...     ...     ...   \n",
       "41995       0       0       0       0       0       0       0       0       0   \n",
       "41996       0       0       0       0       0       0       0       0       0   \n",
       "41997       0       0       0       0       0       0       0       0       0   \n",
       "41998       0       0       0       0       0       0       0       0       0   \n",
       "41999       0       0       0       0       0       0       0       0       0   \n",
       "\n",
       "       pixel9  ...  pixel774  pixel775  pixel776  pixel777  pixel778  \\\n",
       "0           0  ...         0         0         0         0         0   \n",
       "1           0  ...         0         0         0         0         0   \n",
       "2           0  ...         0         0         0         0         0   \n",
       "3           0  ...         0         0         0         0         0   \n",
       "4           0  ...         0         0         0         0         0   \n",
       "...       ...  ...       ...       ...       ...       ...       ...   \n",
       "41995       0  ...         0         0         0         0         0   \n",
       "41996       0  ...         0         0         0         0         0   \n",
       "41997       0  ...         0         0         0         0         0   \n",
       "41998       0  ...         0         0         0         0         0   \n",
       "41999       0  ...         0         0         0         0         0   \n",
       "\n",
       "       pixel779  pixel780  pixel781  pixel782  pixel783  \n",
       "0             0         0         0         0         0  \n",
       "1             0         0         0         0         0  \n",
       "2             0         0         0         0         0  \n",
       "3             0         0         0         0         0  \n",
       "4             0         0         0         0         0  \n",
       "...         ...       ...       ...       ...       ...  \n",
       "41995         0         0         0         0         0  \n",
       "41996         0         0         0         0         0  \n",
       "41997         0         0         0         0         0  \n",
       "41998         0         0         0         0         0  \n",
       "41999         0         0         0         0         0  \n",
       "\n",
       "[42000 rows x 784 columns]"
      ]
     },
     "execution_count": 4,
     "metadata": {},
     "output_type": "execute_result"
    }
   ],
   "source": [
    "train_df.drop(['label'], axis=1)"
   ]
  },
  {
   "cell_type": "code",
   "execution_count": 5,
   "metadata": {
    "execution": {
     "iopub.execute_input": "2021-02-08T12:28:28.497007Z",
     "iopub.status.busy": "2021-02-08T12:28:28.496281Z",
     "iopub.status.idle": "2021-02-08T12:28:28.858317Z",
     "shell.execute_reply": "2021-02-08T12:28:28.857362Z"
    },
    "papermill": {
     "duration": 0.384969,
     "end_time": "2021-02-08T12:28:28.858542",
     "exception": false,
     "start_time": "2021-02-08T12:28:28.473573",
     "status": "completed"
    },
    "tags": []
   },
   "outputs": [],
   "source": [
    "y_train = np.array(train_df['label'])\n",
    "x_train = np.array(train_df.drop(['label'], axis=1))\n",
    "\n",
    "x_test = np.array(test_df)"
   ]
  },
  {
   "cell_type": "code",
   "execution_count": 6,
   "metadata": {
    "execution": {
     "iopub.execute_input": "2021-02-08T12:28:28.929298Z",
     "iopub.status.busy": "2021-02-08T12:28:28.928221Z",
     "iopub.status.idle": "2021-02-08T12:28:28.933810Z",
     "shell.execute_reply": "2021-02-08T12:28:28.933131Z"
    },
    "papermill": {
     "duration": 0.039911,
     "end_time": "2021-02-08T12:28:28.933969",
     "exception": false,
     "start_time": "2021-02-08T12:28:28.894058",
     "status": "completed"
    },
    "tags": []
   },
   "outputs": [
    {
     "data": {
      "text/plain": [
       "(42000,)"
      ]
     },
     "execution_count": 6,
     "metadata": {},
     "output_type": "execute_result"
    }
   ],
   "source": [
    "y_train.shape"
   ]
  },
  {
   "cell_type": "code",
   "execution_count": 7,
   "metadata": {
    "execution": {
     "iopub.execute_input": "2021-02-08T12:28:28.992286Z",
     "iopub.status.busy": "2021-02-08T12:28:28.991565Z",
     "iopub.status.idle": "2021-02-08T12:28:28.998839Z",
     "shell.execute_reply": "2021-02-08T12:28:28.997722Z"
    },
    "papermill": {
     "duration": 0.034076,
     "end_time": "2021-02-08T12:28:28.999061",
     "exception": false,
     "start_time": "2021-02-08T12:28:28.964985",
     "status": "completed"
    },
    "tags": []
   },
   "outputs": [
    {
     "data": {
      "text/plain": [
       "(42000, 784)"
      ]
     },
     "execution_count": 7,
     "metadata": {},
     "output_type": "execute_result"
    }
   ],
   "source": [
    "x_train.shape"
   ]
  },
  {
   "cell_type": "code",
   "execution_count": 8,
   "metadata": {
    "execution": {
     "iopub.execute_input": "2021-02-08T12:28:29.054324Z",
     "iopub.status.busy": "2021-02-08T12:28:29.053638Z",
     "iopub.status.idle": "2021-02-08T12:28:29.057319Z",
     "shell.execute_reply": "2021-02-08T12:28:29.057998Z"
    },
    "papermill": {
     "duration": 0.032624,
     "end_time": "2021-02-08T12:28:29.058191",
     "exception": false,
     "start_time": "2021-02-08T12:28:29.025567",
     "status": "completed"
    },
    "tags": []
   },
   "outputs": [
    {
     "data": {
      "text/plain": [
       "(28000, 784)"
      ]
     },
     "execution_count": 8,
     "metadata": {},
     "output_type": "execute_result"
    }
   ],
   "source": [
    "x_test.shape"
   ]
  },
  {
   "cell_type": "code",
   "execution_count": 9,
   "metadata": {
    "execution": {
     "iopub.execute_input": "2021-02-08T12:28:29.124553Z",
     "iopub.status.busy": "2021-02-08T12:28:29.123488Z",
     "iopub.status.idle": "2021-02-08T12:28:29.224969Z",
     "shell.execute_reply": "2021-02-08T12:28:29.223971Z"
    },
    "papermill": {
     "duration": 0.136303,
     "end_time": "2021-02-08T12:28:29.225187",
     "exception": false,
     "start_time": "2021-02-08T12:28:29.088884",
     "status": "completed"
    },
    "tags": []
   },
   "outputs": [
    {
     "data": {
      "image/png": "[encoded data removed]",
      "text/plain": [
       "<Figure size 432x288 with 1 Axes>"
      ]
     },
     "metadata": {
      "needs_background": "light"
     },
     "output_type": "display_data"
    }
   ],
   "source": [
    "#0번 데이터에 대해서 그림그리고 정답 알아보기\n",
    "data = x_train[0].reshape(28,28)\n",
    "label = y_train[0]\n",
    "\n",
    "plt.imshow(data, cmap='gray')\n",
    "plt.axis(False) #라벨없애기\n",
    "plt.title(label)\n",
    "plt.show()\n",
    "\n",
    "#for i in range(28):\n",
    "#    for j in range(28):\n",
    "#        print(\"%3d\" %x_train[0][28*i+j], end=\"\");\n",
    " #   print();"
   ]
  },
  {
   "cell_type": "code",
   "execution_count": 10,
   "metadata": {
    "execution": {
     "iopub.execute_input": "2021-02-08T12:28:29.302711Z",
     "iopub.status.busy": "2021-02-08T12:28:29.299484Z",
     "iopub.status.idle": "2021-02-08T12:28:29.628606Z",
     "shell.execute_reply": "2021-02-08T12:28:29.629100Z"
    },
    "papermill": {
     "duration": 0.376637,
     "end_time": "2021-02-08T12:28:29.629301",
     "exception": false,
     "start_time": "2021-02-08T12:28:29.252664",
     "status": "completed"
    },
    "tags": []
   },
   "outputs": [
    {
     "data": {
      "image/png": "[encoded data removed]",
      "text/plain": [
       "<Figure size 432x288 with 1 Axes>"
      ]
     },
     "metadata": {
      "needs_background": "light"
     },
     "output_type": "display_data"
    },
    {
     "data": {
      "image/png": "[encoded data removed]",
      "text/plain": [
       "<Figure size 432x288 with 1 Axes>"
      ]
     },
     "metadata": {
      "needs_background": "light"
     },
     "output_type": "display_data"
    },
    {
     "data": {
      "image/png": "[encoded data removed]",
      "text/plain": [
       "<Figure size 432x288 with 1 Axes>"
      ]
     },
     "metadata": {
      "needs_background": "light"
     },
     "output_type": "display_data"
    },
    {
     "data": {
      "image/png": "[encoded data removed]",
      "text/plain": [
       "<Figure size 432x288 with 1 Axes>"
      ]
     },
     "metadata": {
      "needs_background": "light"
     },
     "output_type": "display_data"
    },
    {
     "data": {
      "image/png": "[encoded data removed]",
      "text/plain": [
       "<Figure size 432x288 with 1 Axes>"
      ]
     },
     "metadata": {
      "needs_background": "light"
     },
     "output_type": "display_data"
    }
   ],
   "source": [
    "for index in range(5):\n",
    "    \n",
    "    \n",
    "    data = x_train[index].reshape(28,28)\n",
    "    label = y_train[index]\n",
    "\n",
    "    plt.imshow(data, cmap='gray')\n",
    "    plt.axis(False) #라벨없애기\n",
    "    plt.title(label)\n",
    "    plt.show()\n"
   ]
  },
  {
   "cell_type": "markdown",
   "metadata": {
    "tags": [
     "papermill-error-cell-tag"
    ]
   },
   "source": [
    "<span id=\"papermill-error-cell\" style=\"color:red; font-family:Helvetica Neue, Helvetica, Arial, sans-serif; font-size:2em;\">Execution using papermill encountered an exception here and stopped:</span>"
   ]
  },
  {
   "cell_type": "code",
   "execution_count": 11,
   "metadata": {
    "execution": {
     "iopub.execute_input": "2021-02-08T12:28:29.688410Z",
     "iopub.status.busy": "2021-02-08T12:28:29.687715Z",
     "iopub.status.idle": "2021-02-08T12:28:29.720706Z",
     "shell.execute_reply": "2021-02-08T12:28:29.720071Z"
    },
    "papermill": {
     "duration": 0.061727,
     "end_time": "2021-02-08T12:28:29.720878",
     "exception": false,
     "start_time": "2021-02-08T12:28:29.659151",
     "status": "completed"
    },
    "tags": []
   },
   "outputs": [
    {
     "ename": "NameError",
     "evalue": "name 'rows' is not defined",
     "output_type": "error",
     "traceback": [
      "\u001b[0;31m---------------------------------------------------------------------------\u001b[0m",
      "\u001b[0;31mNameError\u001b[0m                                 Traceback (most recent call last)",
      "\u001b[0;32m<ipython-input-11-81d352bfeeb9>\u001b[0m in \u001b[0;36m<module>\u001b[0;34m\u001b[0m\n\u001b[0;32m----> 1\u001b[0;31m \u001b[0mrandom\u001b[0m\u001b[0;34m.\u001b[0m\u001b[0msample\u001b[0m\u001b[0;34m(\u001b[0m\u001b[0mrange\u001b[0m\u001b[0;34m(\u001b[0m\u001b[0mlen\u001b[0m\u001b[0;34m(\u001b[0m\u001b[0mx_train\u001b[0m\u001b[0;34m)\u001b[0m\u001b[0;34m)\u001b[0m\u001b[0;34m,\u001b[0m\u001b[0mk\u001b[0m\u001b[0;34m=\u001b[0m\u001b[0mrows\u001b[0m\u001b[0;34m*\u001b[0m\u001b[0mcols\u001b[0m\u001b[0;34m)\u001b[0m\u001b[0;34m\u001b[0m\u001b[0;34m\u001b[0m\u001b[0m\n\u001b[0m",
      "\u001b[0;31mNameError\u001b[0m: name 'rows' is not defined"
     ]
    }
   ],
   "source": [
    "random.sample(range(len(x_train)),k=rows*cols)"
   ]
  },
  {
   "cell_type": "code",
   "execution_count": 12,
   "metadata": {
    "execution": {
     "iopub.execute_input": "2021-02-08T12:28:29.776240Z",
     "iopub.status.busy": "2021-02-08T12:28:29.775520Z",
     "iopub.status.idle": "2021-02-08T12:28:29.779604Z",
     "shell.execute_reply": "2021-02-08T12:28:29.779071Z"
    },
    "papermill": {
     "duration": 0.033592,
     "end_time": "2021-02-08T12:28:29.779763",
     "exception": false,
     "start_time": "2021-02-08T12:28:29.746171",
     "status": "completed"
    },
    "tags": []
   },
   "outputs": [
    {
     "data": {
      "text/plain": [
       "list"
      ]
     },
     "execution_count": 12,
     "metadata": {},
     "output_type": "execute_result"
    }
   ],
   "source": [
    "list"
   ]
  },
  {
   "cell_type": "code",
   "execution_count": 13,
   "metadata": {
    "execution": {
     "iopub.execute_input": "2021-02-08T12:28:29.836647Z",
     "iopub.status.busy": "2021-02-08T12:28:29.835708Z",
     "iopub.status.idle": "2021-02-08T12:28:30.623205Z",
     "shell.execute_reply": "2021-02-08T12:28:30.622313Z"
    },
    "papermill": {
     "duration": 0.817709,
     "end_time": "2021-02-08T12:28:30.623389",
     "exception": false,
     "start_time": "2021-02-08T12:28:29.805680",
     "status": "completed"
    },
    "tags": []
   },
   "outputs": [
    {
     "data": {
      "image/png": "[encoded data removed]",
      "text/plain": [
       "<Figure size 720x432 with 15 Axes>"
      ]
     },
     "metadata": {
      "needs_background": "light"
     },
     "output_type": "display_data"
    }
   ],
   "source": [
    "def plot_data(index):\n",
    "    \n",
    "    data = x_train[index].reshape(28,28)\n",
    "    label = y_train[index]\n",
    "\n",
    "    plt.imshow(data, cmap='gray')\n",
    "    plt.axis(False) #라벨없애기\n",
    "    plt.title(label)\n",
    "\n",
    "rows, cols = 3, 5   \n",
    "    \n",
    "    \n",
    "plt.figure(figsize=(10,6))  #도화지 사이즈\n",
    "nums = random.sample(range(len(x_train)),k=rows*cols)\n",
    "                     \n",
    "for i, num in enumerate(nums) :\n",
    "        plt.subplot(rows,cols,i+1)\n",
    "        plot_data(num)\n",
    "                     \n",
    "# for i in range(rows*cols):\n",
    " #   plt.subplot(rows, cols, i+1)\n",
    "  #  plot_data(i)\n",
    "    \n",
    "plt.tight_layout() #사진안겹치게\n",
    "plt.show()\n",
    "plt.close() # figure 선언하면 닫아줘야함"
   ]
  },
  {
   "cell_type": "code",
   "execution_count": 14,
   "metadata": {
    "execution": {
     "iopub.execute_input": "2021-02-08T12:28:30.682191Z",
     "iopub.status.busy": "2021-02-08T12:28:30.681128Z",
     "iopub.status.idle": "2021-02-08T12:28:30.722721Z",
     "shell.execute_reply": "2021-02-08T12:28:30.723182Z"
    },
    "papermill": {
     "duration": 0.072832,
     "end_time": "2021-02-08T12:28:30.723370",
     "exception": false,
     "start_time": "2021-02-08T12:28:30.650538",
     "status": "completed"
    },
    "tags": []
   },
   "outputs": [
    {
     "data": {
      "text/plain": [
       "255"
      ]
     },
     "execution_count": 14,
     "metadata": {},
     "output_type": "execute_result"
    }
   ],
   "source": [
    "x_train.max() #numpy 행렬안의 최고값 최소는 min"
   ]
  },
  {
   "cell_type": "code",
   "execution_count": 15,
   "metadata": {
    "execution": {
     "iopub.execute_input": "2021-02-08T12:28:30.780871Z",
     "iopub.status.busy": "2021-02-08T12:28:30.780119Z",
     "iopub.status.idle": "2021-02-08T12:28:31.030275Z",
     "shell.execute_reply": "2021-02-08T12:28:31.030849Z"
    },
    "papermill": {
     "duration": 0.280942,
     "end_time": "2021-02-08T12:28:31.031060",
     "exception": false,
     "start_time": "2021-02-08T12:28:30.750118",
     "status": "completed"
    },
    "tags": []
   },
   "outputs": [],
   "source": [
    "#데이터가 0-1 사이가 좋다 ???\n",
    "#데이터가 0~255까지 있기 때문에 => 전체 데이터 / 255 하기\n",
    "x_train = x_train / 255\n",
    "x_test = x_test / 255"
   ]
  },
  {
   "cell_type": "code",
   "execution_count": 16,
   "metadata": {
    "execution": {
     "iopub.execute_input": "2021-02-08T12:28:31.090918Z",
     "iopub.status.busy": "2021-02-08T12:28:31.090005Z",
     "iopub.status.idle": "2021-02-08T12:28:31.123147Z",
     "shell.execute_reply": "2021-02-08T12:28:31.122613Z"
    },
    "papermill": {
     "duration": 0.064968,
     "end_time": "2021-02-08T12:28:31.123310",
     "exception": false,
     "start_time": "2021-02-08T12:28:31.058342",
     "status": "completed"
    },
    "tags": []
   },
   "outputs": [
    {
     "data": {
      "text/plain": [
       "1.0"
      ]
     },
     "execution_count": 16,
     "metadata": {},
     "output_type": "execute_result"
    }
   ],
   "source": [
    "x_train.max() #오호라"
   ]
  },
  {
   "cell_type": "markdown",
   "metadata": {
    "papermill": {
     "duration": 0.027757,
     "end_time": "2021-02-08T12:28:31.178124",
     "exception": false,
     "start_time": "2021-02-08T12:28:31.150367",
     "status": "completed"
    },
    "tags": []
   },
   "source": [
    "## MLP\n",
    "Multi Layered Perceptron : 다층 퍼셉트론"
   ]
  },
  {
   "cell_type": "code",
   "execution_count": 17,
   "metadata": {
    "execution": {
     "iopub.execute_input": "2021-02-08T12:28:31.239786Z",
     "iopub.status.busy": "2021-02-08T12:28:31.238559Z",
     "iopub.status.idle": "2021-02-08T12:28:37.423271Z",
     "shell.execute_reply": "2021-02-08T12:28:37.422495Z"
    },
    "papermill": {
     "duration": 6.215731,
     "end_time": "2021-02-08T12:28:37.423439",
     "exception": false,
     "start_time": "2021-02-08T12:28:31.207708",
     "status": "completed"
    },
    "tags": []
   },
   "outputs": [],
   "source": [
    "import tensorflow as tf\n",
    "\n",
    "from tensorflow.keras import Sequential, Input\n",
    "from tensorflow.keras.layers import Dense, Dropout,ReLU, Softmax, BatchNormalization"
   ]
  },
  {
   "cell_type": "code",
   "execution_count": 18,
   "metadata": {
    "execution": {
     "iopub.execute_input": "2021-02-08T12:28:37.486358Z",
     "iopub.status.busy": "2021-02-08T12:28:37.485640Z",
     "iopub.status.idle": "2021-02-08T12:28:37.628098Z",
     "shell.execute_reply": "2021-02-08T12:28:37.628626Z"
    },
    "papermill": {
     "duration": 0.177462,
     "end_time": "2021-02-08T12:28:37.628837",
     "exception": false,
     "start_time": "2021-02-08T12:28:37.451375",
     "status": "completed"
    },
    "tags": []
   },
   "outputs": [],
   "source": [
    "model = Sequential([\n",
    "    Input(shape=(784,)),\n",
    "    Dense(50), BatchNormalization(), ReLU(), Dropout(0.2),\n",
    "    Dense(50), BatchNormalization(), ReLU(), Dropout(0.2),\n",
    "    Dense(10), Softmax()\n",
    "      \n",
    "])"
   ]
  },
  {
   "cell_type": "code",
   "execution_count": 19,
   "metadata": {
    "execution": {
     "iopub.execute_input": "2021-02-08T12:28:37.694018Z",
     "iopub.status.busy": "2021-02-08T12:28:37.693291Z",
     "iopub.status.idle": "2021-02-08T12:28:37.699926Z",
     "shell.execute_reply": "2021-02-08T12:28:37.699347Z"
    },
    "papermill": {
     "duration": 0.042979,
     "end_time": "2021-02-08T12:28:37.700071",
     "exception": false,
     "start_time": "2021-02-08T12:28:37.657092",
     "status": "completed"
    },
    "tags": []
   },
   "outputs": [
    {
     "name": "stdout",
     "output_type": "stream",
     "text": [
      "Model: \"sequential\"\n",
      "_________________________________________________________________\n",
      "Layer (type)                 Output Shape              Param #   \n",
      "=================================================================\n",
      "dense (Dense)                (None, 50)                39250     \n",
      "_________________________________________________________________\n",
      "batch_normalization (BatchNo (None, 50)                200       \n",
      "_________________________________________________________________\n",
      "re_lu (ReLU)                 (None, 50)                0         \n",
      "_________________________________________________________________\n",
      "dropout (Dropout)            (None, 50)                0         \n",
      "_________________________________________________________________\n",
      "dense_1 (Dense)              (None, 50)                2550      \n",
      "_________________________________________________________________\n",
      "batch_normalization_1 (Batch (None, 50)                200       \n",
      "_________________________________________________________________\n",
      "re_lu_1 (ReLU)               (None, 50)                0         \n",
      "_________________________________________________________________\n",
      "dropout_1 (Dropout)          (None, 50)                0         \n",
      "_________________________________________________________________\n",
      "dense_2 (Dense)              (None, 10)                510       \n",
      "_________________________________________________________________\n",
      "softmax (Softmax)            (None, 10)                0         \n",
      "=================================================================\n",
      "Total params: 42,710\n",
      "Trainable params: 42,510\n",
      "Non-trainable params: 200\n",
      "_________________________________________________________________\n"
     ]
    }
   ],
   "source": [
    "model.summary()"
   ]
  },
  {
   "cell_type": "code",
   "execution_count": 20,
   "metadata": {
    "execution": {
     "iopub.execute_input": "2021-02-08T12:28:37.767648Z",
     "iopub.status.busy": "2021-02-08T12:28:37.761226Z",
     "iopub.status.idle": "2021-02-08T12:28:37.778316Z",
     "shell.execute_reply": "2021-02-08T12:28:37.778814Z"
    },
    "papermill": {
     "duration": 0.050818,
     "end_time": "2021-02-08T12:28:37.779007",
     "exception": false,
     "start_time": "2021-02-08T12:28:37.728189",
     "status": "completed"
    },
    "tags": []
   },
   "outputs": [],
   "source": [
    "model.compile(\n",
    "    optimizer=\"adam\", #loss를 최적화시키는 알고리즘\n",
    "    loss =\"sparse_categorical_crossentropy\"  , #손실함수, 오차함수, 목적함수 : 모델이 낸 예측값과 실제정답이 얼마나 다른가\n",
    "    metrics=[\"sparse_categorical_accuracy\"] #평가지표\n",
    ")"
   ]
  },
  {
   "cell_type": "code",
   "execution_count": 21,
   "metadata": {
    "execution": {
     "iopub.execute_input": "2021-02-08T12:28:37.845367Z",
     "iopub.status.busy": "2021-02-08T12:28:37.844701Z",
     "iopub.status.idle": "2021-02-08T12:29:26.004285Z",
     "shell.execute_reply": "2021-02-08T12:29:26.005937Z"
    },
    "papermill": {
     "duration": 48.198034,
     "end_time": "2021-02-08T12:29:26.006203",
     "exception": false,
     "start_time": "2021-02-08T12:28:37.808169",
     "status": "completed"
    },
    "tags": []
   },
   "outputs": [
    {
     "name": "stdout",
     "output_type": "stream",
     "text": [
      "Epoch 1/30\n",
      "525/525 [==============================] - 3s 4ms/step - loss: 1.0633 - sparse_categorical_accuracy: 0.6731 - val_loss: 0.2380 - val_sparse_categorical_accuracy: 0.9304\n",
      "Epoch 2/30\n",
      "525/525 [==============================] - 2s 3ms/step - loss: 0.3487 - sparse_categorical_accuracy: 0.8974 - val_loss: 0.1857 - val_sparse_categorical_accuracy: 0.9449\n",
      "Epoch 3/30\n",
      "525/525 [==============================] - 2s 3ms/step - loss: 0.2814 - sparse_categorical_accuracy: 0.9157 - val_loss: 0.1609 - val_sparse_categorical_accuracy: 0.9524\n",
      "Epoch 4/30\n",
      "525/525 [==============================] - 2s 3ms/step - loss: 0.2373 - sparse_categorical_accuracy: 0.9262 - val_loss: 0.1407 - val_sparse_categorical_accuracy: 0.9577\n",
      "Epoch 5/30\n",
      "525/525 [==============================] - 2s 3ms/step - loss: 0.2215 - sparse_categorical_accuracy: 0.9334 - val_loss: 0.1324 - val_sparse_categorical_accuracy: 0.9577\n",
      "Epoch 6/30\n",
      "525/525 [==============================] - 2s 3ms/step - loss: 0.1980 - sparse_categorical_accuracy: 0.9387 - val_loss: 0.1217 - val_sparse_categorical_accuracy: 0.9618\n",
      "Epoch 7/30\n",
      "525/525 [==============================] - 1s 3ms/step - loss: 0.1838 - sparse_categorical_accuracy: 0.9437 - val_loss: 0.1216 - val_sparse_categorical_accuracy: 0.9639\n",
      "Epoch 8/30\n",
      "525/525 [==============================] - 2s 3ms/step - loss: 0.1830 - sparse_categorical_accuracy: 0.9426 - val_loss: 0.1239 - val_sparse_categorical_accuracy: 0.9635\n",
      "Epoch 9/30\n",
      "525/525 [==============================] - 2s 3ms/step - loss: 0.1759 - sparse_categorical_accuracy: 0.9448 - val_loss: 0.1243 - val_sparse_categorical_accuracy: 0.9611\n",
      "Epoch 10/30\n",
      "525/525 [==============================] - 2s 3ms/step - loss: 0.1683 - sparse_categorical_accuracy: 0.9470 - val_loss: 0.1157 - val_sparse_categorical_accuracy: 0.9646\n",
      "Epoch 11/30\n",
      "525/525 [==============================] - 1s 3ms/step - loss: 0.1594 - sparse_categorical_accuracy: 0.9491 - val_loss: 0.1179 - val_sparse_categorical_accuracy: 0.9633\n",
      "Epoch 12/30\n",
      "525/525 [==============================] - 2s 3ms/step - loss: 0.1512 - sparse_categorical_accuracy: 0.9534 - val_loss: 0.1174 - val_sparse_categorical_accuracy: 0.9654\n",
      "Epoch 13/30\n",
      "525/525 [==============================] - 2s 3ms/step - loss: 0.1479 - sparse_categorical_accuracy: 0.9537 - val_loss: 0.1097 - val_sparse_categorical_accuracy: 0.9671\n",
      "Epoch 14/30\n",
      "525/525 [==============================] - 2s 3ms/step - loss: 0.1424 - sparse_categorical_accuracy: 0.9553 - val_loss: 0.1174 - val_sparse_categorical_accuracy: 0.9643\n",
      "Epoch 15/30\n",
      "525/525 [==============================] - 2s 3ms/step - loss: 0.1358 - sparse_categorical_accuracy: 0.9571 - val_loss: 0.1139 - val_sparse_categorical_accuracy: 0.9664\n",
      "Epoch 16/30\n",
      "525/525 [==============================] - 2s 3ms/step - loss: 0.1373 - sparse_categorical_accuracy: 0.9569 - val_loss: 0.1092 - val_sparse_categorical_accuracy: 0.9670\n",
      "Epoch 17/30\n",
      "525/525 [==============================] - 2s 3ms/step - loss: 0.1366 - sparse_categorical_accuracy: 0.9575 - val_loss: 0.1059 - val_sparse_categorical_accuracy: 0.9680\n",
      "Epoch 18/30\n",
      "525/525 [==============================] - 2s 3ms/step - loss: 0.1264 - sparse_categorical_accuracy: 0.9595 - val_loss: 0.1053 - val_sparse_categorical_accuracy: 0.9686\n",
      "Epoch 19/30\n",
      "525/525 [==============================] - 2s 3ms/step - loss: 0.1220 - sparse_categorical_accuracy: 0.9596 - val_loss: 0.1102 - val_sparse_categorical_accuracy: 0.9654\n",
      "Epoch 20/30\n",
      "525/525 [==============================] - 2s 3ms/step - loss: 0.1314 - sparse_categorical_accuracy: 0.9588 - val_loss: 0.1044 - val_sparse_categorical_accuracy: 0.9682\n",
      "Epoch 21/30\n",
      "525/525 [==============================] - 2s 3ms/step - loss: 0.1249 - sparse_categorical_accuracy: 0.9580 - val_loss: 0.1011 - val_sparse_categorical_accuracy: 0.9679\n",
      "Epoch 22/30\n",
      "525/525 [==============================] - 2s 3ms/step - loss: 0.1165 - sparse_categorical_accuracy: 0.9632 - val_loss: 0.1196 - val_sparse_categorical_accuracy: 0.9654\n",
      "Epoch 23/30\n",
      "525/525 [==============================] - 1s 3ms/step - loss: 0.1197 - sparse_categorical_accuracy: 0.9610 - val_loss: 0.1046 - val_sparse_categorical_accuracy: 0.9689\n",
      "Epoch 24/30\n",
      "525/525 [==============================] - 2s 3ms/step - loss: 0.1187 - sparse_categorical_accuracy: 0.9615 - val_loss: 0.1073 - val_sparse_categorical_accuracy: 0.9676\n",
      "Epoch 25/30\n",
      "525/525 [==============================] - 2s 3ms/step - loss: 0.1209 - sparse_categorical_accuracy: 0.9616 - val_loss: 0.1056 - val_sparse_categorical_accuracy: 0.9680\n",
      "Epoch 26/30\n",
      "525/525 [==============================] - 2s 3ms/step - loss: 0.1111 - sparse_categorical_accuracy: 0.9638 - val_loss: 0.1044 - val_sparse_categorical_accuracy: 0.9671\n",
      "Epoch 27/30\n",
      "525/525 [==============================] - 2s 3ms/step - loss: 0.1126 - sparse_categorical_accuracy: 0.9625 - val_loss: 0.1022 - val_sparse_categorical_accuracy: 0.9682\n",
      "Epoch 28/30\n",
      "525/525 [==============================] - 2s 3ms/step - loss: 0.1088 - sparse_categorical_accuracy: 0.9639 - val_loss: 0.1139 - val_sparse_categorical_accuracy: 0.9657\n",
      "Epoch 29/30\n",
      "525/525 [==============================] - 2s 3ms/step - loss: 0.1063 - sparse_categorical_accuracy: 0.9651 - val_loss: 0.1080 - val_sparse_categorical_accuracy: 0.9668\n",
      "Epoch 30/30\n",
      "525/525 [==============================] - 2s 3ms/step - loss: 0.1086 - sparse_categorical_accuracy: 0.9646 - val_loss: 0.1091 - val_sparse_categorical_accuracy: 0.9667\n"
     ]
    }
   ],
   "source": [
    "history = model.fit(x_train, y_train, batch_size=64, epochs=30, validation_split=0.2)"
   ]
  },
  {
   "cell_type": "code",
   "execution_count": 22,
   "metadata": {
    "execution": {
     "iopub.execute_input": "2021-02-08T12:29:26.568355Z",
     "iopub.status.busy": "2021-02-08T12:29:26.567674Z",
     "iopub.status.idle": "2021-02-08T12:29:26.571125Z",
     "shell.execute_reply": "2021-02-08T12:29:26.570456Z"
    },
    "papermill": {
     "duration": 0.287022,
     "end_time": "2021-02-08T12:29:26.571268",
     "exception": false,
     "start_time": "2021-02-08T12:29:26.284246",
     "status": "completed"
    },
    "tags": []
   },
   "outputs": [],
   "source": [
    "train_loss = history.history['loss']\n",
    "train_acc = history.history['sparse_categorical_accuracy']\n",
    "\n",
    "valid_loss = history.history['val_loss']\n",
    "valid_acc = history.history['val_sparse_categorical_accuracy']"
   ]
  },
  {
   "cell_type": "code",
   "execution_count": 23,
   "metadata": {
    "execution": {
     "iopub.execute_input": "2021-02-08T12:29:27.149746Z",
     "iopub.status.busy": "2021-02-08T12:29:27.149075Z",
     "iopub.status.idle": "2021-02-08T12:29:27.498478Z",
     "shell.execute_reply": "2021-02-08T12:29:27.497343Z"
    },
    "papermill": {
     "duration": 0.648946,
     "end_time": "2021-02-08T12:29:27.498668",
     "exception": false,
     "start_time": "2021-02-08T12:29:26.849722",
     "status": "completed"
    },
    "tags": []
   },
   "outputs": [
    {
     "data": {
      "image/png": "[encoded data removed]",
      "text/plain": [
       "<Figure size 864x360 with 2 Axes>"
      ]
     },
     "metadata": {
      "needs_background": "light"
     },
     "output_type": "display_data"
    }
   ],
   "source": [
    "plt.figure(figsize=(12, 5))\n",
    "plt.subplot(1, 2, 1)\n",
    "plt.plot(train_loss, label='train loss')\n",
    "plt.plot(valid_loss, label='valid loss')\n",
    "plt.title(\"loss\")\n",
    "plt.legend()\n",
    "\n",
    "plt.subplot(1, 2, 2)\n",
    "plt.plot(train_acc, label='train acc')\n",
    "plt.plot(valid_acc, label='valid acc')\n",
    "plt.title('accuracy')\n",
    "plt.legend()\n",
    "\n",
    "plt.show()\n",
    "plt.close()"
   ]
  },
  {
   "cell_type": "code",
   "execution_count": 24,
   "metadata": {
    "execution": {
     "iopub.execute_input": "2021-02-08T12:29:28.062988Z",
     "iopub.status.busy": "2021-02-08T12:29:28.062116Z",
     "iopub.status.idle": "2021-02-08T12:29:29.014296Z",
     "shell.execute_reply": "2021-02-08T12:29:29.013503Z"
    },
    "papermill": {
     "duration": 1.237686,
     "end_time": "2021-02-08T12:29:29.014449",
     "exception": false,
     "start_time": "2021-02-08T12:29:27.776763",
     "status": "completed"
    },
    "tags": []
   },
   "outputs": [],
   "source": [
    "predictions = model.predict(x_test)"
   ]
  },
  {
   "cell_type": "code",
   "execution_count": 25,
   "metadata": {
    "execution": {
     "iopub.execute_input": "2021-02-08T12:29:29.583374Z",
     "iopub.status.busy": "2021-02-08T12:29:29.582407Z",
     "iopub.status.idle": "2021-02-08T12:29:29.586985Z",
     "shell.execute_reply": "2021-02-08T12:29:29.586273Z"
    },
    "papermill": {
     "duration": 0.294004,
     "end_time": "2021-02-08T12:29:29.587142",
     "exception": false,
     "start_time": "2021-02-08T12:29:29.293138",
     "status": "completed"
    },
    "tags": []
   },
   "outputs": [],
   "source": [
    "pred = np.argmax(predictions, axis=1)"
   ]
  },
  {
   "cell_type": "code",
   "execution_count": 26,
   "metadata": {
    "execution": {
     "iopub.execute_input": "2021-02-08T12:29:30.155370Z",
     "iopub.status.busy": "2021-02-08T12:29:30.154271Z",
     "iopub.status.idle": "2021-02-08T12:29:30.158784Z",
     "shell.execute_reply": "2021-02-08T12:29:30.158144Z"
    },
    "papermill": {
     "duration": 0.290877,
     "end_time": "2021-02-08T12:29:30.158929",
     "exception": false,
     "start_time": "2021-02-08T12:29:29.868052",
     "status": "completed"
    },
    "tags": []
   },
   "outputs": [
    {
     "data": {
      "text/plain": [
       "array([2, 0, 9, ..., 3, 9, 2])"
      ]
     },
     "execution_count": 26,
     "metadata": {},
     "output_type": "execute_result"
    }
   ],
   "source": [
    "pred"
   ]
  },
  {
   "cell_type": "code",
   "execution_count": 27,
   "metadata": {
    "execution": {
     "iopub.execute_input": "2021-02-08T12:29:30.736310Z",
     "iopub.status.busy": "2021-02-08T12:29:30.735574Z",
     "iopub.status.idle": "2021-02-08T12:29:30.822706Z",
     "shell.execute_reply": "2021-02-08T12:29:30.821972Z"
    },
    "papermill": {
     "duration": 0.374552,
     "end_time": "2021-02-08T12:29:30.822861",
     "exception": false,
     "start_time": "2021-02-08T12:29:30.448309",
     "status": "completed"
    },
    "tags": []
   },
   "outputs": [],
   "source": [
    "sub = pd.read_csv('../input/digit-recognizer/sample_submission.csv')\n",
    "sub['Label'] = pred\n",
    "sub.to_csv('AI 3주차.csv', index=False)"
   ]
  },
  {
   "cell_type": "code",
   "execution_count": null,
   "metadata": {
    "papermill": {
     "duration": 0.286138,
     "end_time": "2021-02-08T12:29:31.397891",
     "exception": false,
     "start_time": "2021-02-08T12:29:31.111753",
     "status": "completed"
    },
    "tags": []
   },
   "outputs": [],
   "source": []
  }
 ],
 "metadata": {
  "kernelspec": {
   "display_name": "Python 3",
   "language": "python",
   "name": "python3"
  },
  "language_info": {
   "codemirror_mode": {
    "name": "ipython",
    "version": 3
   },
   "file_extension": ".py",
   "mimetype": "text/x-python",
   "name": "python",
   "nbconvert_exporter": "python",
   "pygments_lexer": "ipython3",
   "version": "3.7.9"
  },
  "papermill": {
   "default_parameters": {},
   "duration": 76.948716,
   "end_time": "2021-02-08T12:29:32.817621",
   "environment_variables": {},
   "exception": null,
   "input_path": "__notebook__.ipynb",
   "output_path": "__notebook__.ipynb",
   "parameters": {},
   "start_time": "2021-02-08T12:28:15.868905",
   "version": "2.2.2"
  }
 },
 "nbformat": 4,
 "nbformat_minor": 4
}
