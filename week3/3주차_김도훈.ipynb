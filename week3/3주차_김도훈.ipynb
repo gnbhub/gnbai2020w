{
 "cells": [
  {
   "cell_type": "code",
   "execution_count": 1,
   "metadata": {
    "_cell_guid": "b1076dfc-b9ad-4769-8c92-a6c4dae69d19",
    "_uuid": "8f2839f25d086af736a60e9eeb907d3b93b6e0e5",
    "execution": {
     "iopub.execute_input": "2021-02-08T12:28:22.102198Z",
     "iopub.status.busy": "2021-02-08T12:28:22.101576Z",
     "iopub.status.idle": "2021-02-08T12:28:22.106073Z",
     "shell.execute_reply": "2021-02-08T12:28:22.106597Z"
    },
    "papermill": {
     "duration": 0.019824,
     "end_time": "2021-02-08T12:28:22.106890",
     "exception": false,
     "start_time": "2021-02-08T12:28:22.087066",
     "status": "completed"
    },
    "tags": []
   },
   "outputs": [],
   "source": [
    "import numpy as np\n",
    "import pandas as pd\n",
    "import matplotlib.pyplot as plt\n",
    "\n",
    "import random"
   ]
  },
  {
   "cell_type": "code",
   "execution_count": 2,
   "metadata": {
    "execution": {
     "iopub.execute_input": "2021-02-08T12:28:22.131293Z",
     "iopub.status.busy": "2021-02-08T12:28:22.130635Z",
     "iopub.status.idle": "2021-02-08T12:28:28.525931Z",
     "shell.execute_reply": "2021-02-08T12:28:28.525152Z"
    },
    "papermill": {
     "duration": 6.408528,
     "end_time": "2021-02-08T12:28:28.526122",
     "exception": false,
     "start_time": "2021-02-08T12:28:22.117594",
     "status": "completed"
    },
    "tags": []
   },
   "outputs": [],
   "source": [
    "train_df = pd.read_csv('../input/digit-recognizer/train.csv')\n",
    "test_df  = pd.read_csv('../input/digit-recognizer/test.csv')"
   ]
  },
  {
   "cell_type": "code",
   "execution_count": 3,
   "metadata": {
    "execution": {
     "iopub.execute_input": "2021-02-08T12:28:28.565634Z",
     "iopub.status.busy": "2021-02-08T12:28:28.564918Z",
     "iopub.status.idle": "2021-02-08T12:28:28.591747Z",
     "shell.execute_reply": "2021-02-08T12:28:28.591224Z"
    },
    "papermill": {
     "duration": 0.053798,
     "end_time": "2021-02-08T12:28:28.591901",
     "exception": false,
     "start_time": "2021-02-08T12:28:28.538103",
     "status": "completed"
    },
    "tags": []
   },
   "outputs": [
    {
     "data": {
      "text/html": [
       "<div>\n",
       "<style scoped>\n",
       "    .dataframe tbody tr th:only-of-type {\n",
       "        vertical-align: middle;\n",
       "    }\n",
       "\n",
       "    .dataframe tbody tr th {\n",
       "        vertical-align: top;\n",
       "    }\n",
       "\n",
       "    .dataframe thead th {\n",
       "        text-align: right;\n",
       "    }\n",
       "</style>\n",
       "<table border=\"1\" class=\"dataframe\">\n",
       "  <thead>\n",
       "    <tr style=\"text-align: right;\">\n",
       "      <th></th>\n",
       "      <th>label</th>\n",
       "      <th>pixel0</th>\n",
       "      <th>pixel1</th>\n",
       "      <th>pixel2</th>\n",
       "      <th>pixel3</th>\n",
       "      <th>pixel4</th>\n",
       "      <th>pixel5</th>\n",
       "      <th>pixel6</th>\n",
       "      <th>pixel7</th>\n",
       "      <th>pixel8</th>\n",
       "      <th>...</th>\n",
       "      <th>pixel774</th>\n",
       "      <th>pixel775</th>\n",
       "      <th>pixel776</th>\n",
       "      <th>pixel777</th>\n",
       "      <th>pixel778</th>\n",
       "      <th>pixel779</th>\n",
       "      <th>pixel780</th>\n",
       "      <th>pixel781</th>\n",
       "      <th>pixel782</th>\n",
       "      <th>pixel783</th>\n",
       "    </tr>\n",
       "  </thead>\n",
       "  <tbody>\n",
       "    <tr>\n",
       "      <th>0</th>\n",
       "      <td>1</td>\n",
       "      <td>0</td>\n",
       "      <td>0</td>\n",
       "      <td>0</td>\n",
       "      <td>0</td>\n",
       "      <td>0</td>\n",
       "      <td>0</td>\n",
       "      <td>0</td>\n",
       "      <td>0</td>\n",
       "      <td>0</td>\n",
       "      <td>...</td>\n",
       "      <td>0</td>\n",
       "      <td>0</td>\n",
       "      <td>0</td>\n",
       "      <td>0</td>\n",
       "      <td>0</td>\n",
       "      <td>0</td>\n",
       "      <td>0</td>\n",
       "      <td>0</td>\n",
       "      <td>0</td>\n",
       "      <td>0</td>\n",
       "    </tr>\n",
       "    <tr>\n",
       "      <th>1</th>\n",
       "      <td>0</td>\n",
       "      <td>0</td>\n",
       "      <td>0</td>\n",
       "      <td>0</td>\n",
       "      <td>0</td>\n",
       "      <td>0</td>\n",
       "      <td>0</td>\n",
       "      <td>0</td>\n",
       "      <td>0</td>\n",
       "      <td>0</td>\n",
       "      <td>...</td>\n",
       "      <td>0</td>\n",
       "      <td>0</td>\n",
       "      <td>0</td>\n",
       "      <td>0</td>\n",
       "      <td>0</td>\n",
       "      <td>0</td>\n",
       "      <td>0</td>\n",
       "      <td>0</td>\n",
       "      <td>0</td>\n",
       "      <td>0</td>\n",
       "    </tr>\n",
       "    <tr>\n",
       "      <th>2</th>\n",
       "      <td>1</td>\n",
       "      <td>0</td>\n",
       "      <td>0</td>\n",
       "      <td>0</td>\n",
       "      <td>0</td>\n",
       "      <td>0</td>\n",
       "      <td>0</td>\n",
       "      <td>0</td>\n",
       "      <td>0</td>\n",
       "      <td>0</td>\n",
       "      <td>...</td>\n",
       "      <td>0</td>\n",
       "      <td>0</td>\n",
       "      <td>0</td>\n",
       "      <td>0</td>\n",
       "      <td>0</td>\n",
       "      <td>0</td>\n",
       "      <td>0</td>\n",
       "      <td>0</td>\n",
       "      <td>0</td>\n",
       "      <td>0</td>\n",
       "    </tr>\n",
       "    <tr>\n",
       "      <th>3</th>\n",
       "      <td>4</td>\n",
       "      <td>0</td>\n",
       "      <td>0</td>\n",
       "      <td>0</td>\n",
       "      <td>0</td>\n",
       "      <td>0</td>\n",
       "      <td>0</td>\n",
       "      <td>0</td>\n",
       "      <td>0</td>\n",
       "      <td>0</td>\n",
       "      <td>...</td>\n",
       "      <td>0</td>\n",
       "      <td>0</td>\n",
       "      <td>0</td>\n",
       "      <td>0</td>\n",
       "      <td>0</td>\n",
       "      <td>0</td>\n",
       "      <td>0</td>\n",
       "      <td>0</td>\n",
       "      <td>0</td>\n",
       "      <td>0</td>\n",
       "    </tr>\n",
       "    <tr>\n",
       "      <th>4</th>\n",
       "      <td>0</td>\n",
       "      <td>0</td>\n",
       "      <td>0</td>\n",
       "      <td>0</td>\n",
       "      <td>0</td>\n",
       "      <td>0</td>\n",
       "      <td>0</td>\n",
       "      <td>0</td>\n",
       "      <td>0</td>\n",
       "      <td>0</td>\n",
       "      <td>...</td>\n",
       "      <td>0</td>\n",
       "      <td>0</td>\n",
       "      <td>0</td>\n",
       "      <td>0</td>\n",
       "      <td>0</td>\n",
       "      <td>0</td>\n",
       "      <td>0</td>\n",
       "      <td>0</td>\n",
       "      <td>0</td>\n",
       "      <td>0</td>\n",
       "    </tr>\n",
       "  </tbody>\n",
       "</table>\n",
       "<p>5 rows × 785 columns</p>\n",
       "</div>"
      ],
      "text/plain": [
       "   label  pixel0  pixel1  pixel2  pixel3  pixel4  pixel5  pixel6  pixel7  \\\n",
       "0      1       0       0       0       0       0       0       0       0   \n",
       "1      0       0       0       0       0       0       0       0       0   \n",
       "2      1       0       0       0       0       0       0       0       0   \n",
       "3      4       0       0       0       0       0       0       0       0   \n",
       "4      0       0       0       0       0       0       0       0       0   \n",
       "\n",
       "   pixel8  ...  pixel774  pixel775  pixel776  pixel777  pixel778  pixel779  \\\n",
       "0       0  ...         0         0         0         0         0         0   \n",
       "1       0  ...         0         0         0         0         0         0   \n",
       "2       0  ...         0         0         0         0         0         0   \n",
       "3       0  ...         0         0         0         0         0         0   \n",
       "4       0  ...         0         0         0         0         0         0   \n",
       "\n",
       "   pixel780  pixel781  pixel782  pixel783  \n",
       "0         0         0         0         0  \n",
       "1         0         0         0         0  \n",
       "2         0         0         0         0  \n",
       "3         0         0         0         0  \n",
       "4         0         0         0         0  \n",
       "\n",
       "[5 rows x 785 columns]"
      ]
     },
     "execution_count": 3,
     "metadata": {},
     "output_type": "execute_result"
    }
   ],
   "source": [
    "train_df.head()"
   ]
  },
  {
   "cell_type": "code",
   "execution_count": 4,
   "metadata": {
    "execution": {
     "iopub.execute_input": "2021-02-08T12:28:28.728461Z",
     "iopub.status.busy": "2021-02-08T12:28:28.727692Z",
     "iopub.status.idle": "2021-02-08T12:28:28.923171Z",
     "shell.execute_reply": "2021-02-08T12:28:28.922563Z"
    },
    "papermill": {
     "duration": 0.319997,
     "end_time": "2021-02-08T12:28:28.923328",
     "exception": false,
     "start_time": "2021-02-08T12:28:28.603331",
     "status": "completed"
    },
    "tags": []
   },
   "outputs": [],
   "source": [
    "y_train = np.array(train_df['label'])\n",
    "x_train = np.array(train_df.drop(['label'], axis=1))\n",
    "\n",
    "x_test = np.array(test_df)"
   ]
  },
  {
   "cell_type": "code",
   "execution_count": 5,
   "metadata": {
    "execution": {
     "iopub.execute_input": "2021-02-08T12:28:28.971035Z",
     "iopub.status.busy": "2021-02-08T12:28:28.968555Z",
     "iopub.status.idle": "2021-02-08T12:28:29.840923Z",
     "shell.execute_reply": "2021-02-08T12:28:29.841660Z"
    },
    "papermill": {
     "duration": 0.90722,
     "end_time": "2021-02-08T12:28:29.841898",
     "exception": false,
     "start_time": "2021-02-08T12:28:28.934678",
     "status": "completed"
    },
    "tags": []
   },
   "outputs": [
    {
     "data": {
      "image/png": "[encoded data removed]",
      "text/plain": [
       "<Figure size 720x432 with 18 Axes>"
      ]
     },
     "metadata": {
      "needs_background": "light"
     },
     "output_type": "display_data"
    }
   ],
   "source": [
    "def plot_data(index):\n",
    "    data = x_train[index].reshape((28, 28))\n",
    "    label = y_train[index]\n",
    "\n",
    "    plt.imshow(data, cmap='gray')\n",
    "    plt.axis(False)\n",
    "    plt.title(label)\n",
    "\n",
    "rows, cols = 3, 6\n",
    "\n",
    "plt.figure(figsize=(10, 6))\n",
    "nums = random.sample(range(len(x_train)),k=rows*cols)\n",
    "\n",
    "for i, num in enumerate(nums):\n",
    "    plt.subplot(rows, cols, i+1)\n",
    "    plot_data(num)\n",
    "\n",
    "plt.tight_layout()\n",
    "plt.show()\n",
    "plt.close()"
   ]
  },
  {
   "cell_type": "code",
   "execution_count": 6,
   "metadata": {
    "execution": {
     "iopub.execute_input": "2021-02-08T12:28:29.880022Z",
     "iopub.status.busy": "2021-02-08T12:28:29.878887Z",
     "iopub.status.idle": "2021-02-08T12:28:30.097346Z",
     "shell.execute_reply": "2021-02-08T12:28:30.096335Z"
    },
    "papermill": {
     "duration": 0.239244,
     "end_time": "2021-02-08T12:28:30.097550",
     "exception": false,
     "start_time": "2021-02-08T12:28:29.858306",
     "status": "completed"
    },
    "tags": []
   },
   "outputs": [],
   "source": [
    "# 0~255 -> 전체 데이터 / 255 -> 0~1\n",
    "x_train = x_train / 255\n",
    "x_test = x_test / 255"
   ]
  },
  {
   "cell_type": "markdown",
   "metadata": {
    "papermill": {
     "duration": 0.014817,
     "end_time": "2021-02-08T12:28:30.131134",
     "exception": false,
     "start_time": "2021-02-08T12:28:30.116317",
     "status": "completed"
    },
    "tags": []
   },
   "source": [
    "## MLP \n",
    "Multi Layered Perceptron : 다층 퍼셉트론"
   ]
  },
  {
   "cell_type": "code",
   "execution_count": 7,
   "metadata": {
    "execution": {
     "iopub.execute_input": "2021-02-08T12:28:30.171378Z",
     "iopub.status.busy": "2021-02-08T12:28:30.170645Z",
     "iopub.status.idle": "2021-02-08T12:28:36.649442Z",
     "shell.execute_reply": "2021-02-08T12:28:36.648340Z"
    },
    "papermill": {
     "duration": 6.503385,
     "end_time": "2021-02-08T12:28:36.649594",
     "exception": false,
     "start_time": "2021-02-08T12:28:30.146209",
     "status": "completed"
    },
    "tags": []
   },
   "outputs": [],
   "source": [
    "import tensorflow as tf\n",
    "\n",
    "from tensorflow.keras import Sequential, Input\n",
    "from tensorflow.keras.layers import Dense, Dropout, ReLU, Softmax, BatchNormalization"
   ]
  },
  {
   "cell_type": "code",
   "execution_count": 8,
   "metadata": {
    "execution": {
     "iopub.execute_input": "2021-02-08T12:28:36.682317Z",
     "iopub.status.busy": "2021-02-08T12:28:36.681571Z",
     "iopub.status.idle": "2021-02-08T12:28:36.855902Z",
     "shell.execute_reply": "2021-02-08T12:28:36.854639Z"
    },
    "papermill": {
     "duration": 0.193884,
     "end_time": "2021-02-08T12:28:36.856132",
     "exception": false,
     "start_time": "2021-02-08T12:28:36.662248",
     "status": "completed"
    },
    "tags": []
   },
   "outputs": [],
   "source": [
    "model = Sequential([\n",
    "    Input(shape=(784,)),\n",
    "    Dense(50), BatchNormalization(), ReLU(), Dropout(0.2),\n",
    "    Dense(50), BatchNormalization(), ReLU(), Dropout(0.2),\n",
    "    Dense(10), Softmax()\n",
    "])"
   ]
  },
  {
   "cell_type": "code",
   "execution_count": 9,
   "metadata": {
    "execution": {
     "iopub.execute_input": "2021-02-08T12:28:36.903924Z",
     "iopub.status.busy": "2021-02-08T12:28:36.902655Z",
     "iopub.status.idle": "2021-02-08T12:28:36.912984Z",
     "shell.execute_reply": "2021-02-08T12:28:36.912347Z"
    },
    "papermill": {
     "duration": 0.034445,
     "end_time": "2021-02-08T12:28:36.913125",
     "exception": false,
     "start_time": "2021-02-08T12:28:36.878680",
     "status": "completed"
    },
    "tags": []
   },
   "outputs": [
    {
     "name": "stdout",
     "output_type": "stream",
     "text": [
      "Model: \"sequential\"\n",
      "_________________________________________________________________\n",
      "Layer (type)                 Output Shape              Param #   \n",
      "=================================================================\n",
      "dense (Dense)                (None, 50)                39250     \n",
      "_________________________________________________________________\n",
      "batch_normalization (BatchNo (None, 50)                200       \n",
      "_________________________________________________________________\n",
      "re_lu (ReLU)                 (None, 50)                0         \n",
      "_________________________________________________________________\n",
      "dropout (Dropout)            (None, 50)                0         \n",
      "_________________________________________________________________\n",
      "dense_1 (Dense)              (None, 50)                2550      \n",
      "_________________________________________________________________\n",
      "batch_normalization_1 (Batch (None, 50)                200       \n",
      "_________________________________________________________________\n",
      "re_lu_1 (ReLU)               (None, 50)                0         \n",
      "_________________________________________________________________\n",
      "dropout_1 (Dropout)          (None, 50)                0         \n",
      "_________________________________________________________________\n",
      "dense_2 (Dense)              (None, 10)                510       \n",
      "_________________________________________________________________\n",
      "softmax (Softmax)            (None, 10)                0         \n",
      "=================================================================\n",
      "Total params: 42,710\n",
      "Trainable params: 42,510\n",
      "Non-trainable params: 200\n",
      "_________________________________________________________________\n"
     ]
    }
   ],
   "source": [
    "model.summary()"
   ]
  },
  {
   "cell_type": "code",
   "execution_count": 10,
   "metadata": {
    "execution": {
     "iopub.execute_input": "2021-02-08T12:28:36.949917Z",
     "iopub.status.busy": "2021-02-08T12:28:36.948789Z",
     "iopub.status.idle": "2021-02-08T12:28:37.104813Z",
     "shell.execute_reply": "2021-02-08T12:28:37.105377Z"
    },
    "papermill": {
     "duration": 0.174575,
     "end_time": "2021-02-08T12:28:37.105597",
     "exception": false,
     "start_time": "2021-02-08T12:28:36.931022",
     "status": "completed"
    },
    "tags": []
   },
   "outputs": [],
   "source": [
    "model.compile(\n",
    "    optimizer=\"adam\", #loss를 최적화시키는 알고리즘\n",
    "    loss=\"sparse_categorical_crossentropy\", #손실함수, 오차함수, 목적함수: 모델이 낸 예측값과 실제 정답이 얼마나 다른가\n",
    "    metrics=[\"sparse_categorical_accuracy\"] #평가 지표\n",
    ")"
   ]
  },
  {
   "cell_type": "code",
   "execution_count": 11,
   "metadata": {
    "execution": {
     "iopub.execute_input": "2021-02-08T12:28:37.138911Z",
     "iopub.status.busy": "2021-02-08T12:28:37.136190Z",
     "iopub.status.idle": "2021-02-08T12:29:19.409214Z",
     "shell.execute_reply": "2021-02-08T12:29:19.408306Z"
    },
    "papermill": {
     "duration": 42.289907,
     "end_time": "2021-02-08T12:29:19.409375",
     "exception": false,
     "start_time": "2021-02-08T12:28:37.119468",
     "status": "completed"
    },
    "tags": []
   },
   "outputs": [
    {
     "name": "stdout",
     "output_type": "stream",
     "text": [
      "Epoch 1/30\n",
      "525/525 [==============================] - 3s 4ms/step - loss: 0.9933 - sparse_categorical_accuracy: 0.7005 - val_loss: 0.2380 - val_sparse_categorical_accuracy: 0.9295\n",
      "Epoch 2/30\n",
      "525/525 [==============================] - 1s 3ms/step - loss: 0.3412 - sparse_categorical_accuracy: 0.8978 - val_loss: 0.1778 - val_sparse_categorical_accuracy: 0.9477\n",
      "Epoch 3/30\n",
      "525/525 [==============================] - 1s 3ms/step - loss: 0.2832 - sparse_categorical_accuracy: 0.9132 - val_loss: 0.1490 - val_sparse_categorical_accuracy: 0.9567\n",
      "Epoch 4/30\n",
      "525/525 [==============================] - 1s 3ms/step - loss: 0.2444 - sparse_categorical_accuracy: 0.9251 - val_loss: 0.1363 - val_sparse_categorical_accuracy: 0.9563\n",
      "Epoch 5/30\n",
      "525/525 [==============================] - 1s 3ms/step - loss: 0.2074 - sparse_categorical_accuracy: 0.9376 - val_loss: 0.1234 - val_sparse_categorical_accuracy: 0.9601\n",
      "Epoch 6/30\n",
      "525/525 [==============================] - 1s 2ms/step - loss: 0.1981 - sparse_categorical_accuracy: 0.9391 - val_loss: 0.1206 - val_sparse_categorical_accuracy: 0.9621\n",
      "Epoch 7/30\n",
      "525/525 [==============================] - 1s 3ms/step - loss: 0.1855 - sparse_categorical_accuracy: 0.9421 - val_loss: 0.1135 - val_sparse_categorical_accuracy: 0.9642\n",
      "Epoch 8/30\n",
      "525/525 [==============================] - 1s 2ms/step - loss: 0.1793 - sparse_categorical_accuracy: 0.9442 - val_loss: 0.1084 - val_sparse_categorical_accuracy: 0.9650\n",
      "Epoch 9/30\n",
      "525/525 [==============================] - 1s 2ms/step - loss: 0.1633 - sparse_categorical_accuracy: 0.9487 - val_loss: 0.1053 - val_sparse_categorical_accuracy: 0.9660\n",
      "Epoch 10/30\n",
      "525/525 [==============================] - 1s 3ms/step - loss: 0.1581 - sparse_categorical_accuracy: 0.9475 - val_loss: 0.1079 - val_sparse_categorical_accuracy: 0.9675\n",
      "Epoch 11/30\n",
      "525/525 [==============================] - 1s 3ms/step - loss: 0.1490 - sparse_categorical_accuracy: 0.9522 - val_loss: 0.0991 - val_sparse_categorical_accuracy: 0.9698\n",
      "Epoch 12/30\n",
      "525/525 [==============================] - 1s 3ms/step - loss: 0.1482 - sparse_categorical_accuracy: 0.9533 - val_loss: 0.1030 - val_sparse_categorical_accuracy: 0.9683\n",
      "Epoch 13/30\n",
      "525/525 [==============================] - 1s 2ms/step - loss: 0.1472 - sparse_categorical_accuracy: 0.9529 - val_loss: 0.0962 - val_sparse_categorical_accuracy: 0.9708\n",
      "Epoch 14/30\n",
      "525/525 [==============================] - 1s 2ms/step - loss: 0.1448 - sparse_categorical_accuracy: 0.9533 - val_loss: 0.0935 - val_sparse_categorical_accuracy: 0.9700\n",
      "Epoch 15/30\n",
      "525/525 [==============================] - 1s 3ms/step - loss: 0.1368 - sparse_categorical_accuracy: 0.9548 - val_loss: 0.0925 - val_sparse_categorical_accuracy: 0.9718\n",
      "Epoch 16/30\n",
      "525/525 [==============================] - 1s 2ms/step - loss: 0.1240 - sparse_categorical_accuracy: 0.9604 - val_loss: 0.0938 - val_sparse_categorical_accuracy: 0.9720\n",
      "Epoch 17/30\n",
      "525/525 [==============================] - 1s 3ms/step - loss: 0.1289 - sparse_categorical_accuracy: 0.9584 - val_loss: 0.0992 - val_sparse_categorical_accuracy: 0.9693\n",
      "Epoch 18/30\n",
      "525/525 [==============================] - 1s 3ms/step - loss: 0.1287 - sparse_categorical_accuracy: 0.9580 - val_loss: 0.0968 - val_sparse_categorical_accuracy: 0.9700\n",
      "Epoch 19/30\n",
      "525/525 [==============================] - 1s 3ms/step - loss: 0.1227 - sparse_categorical_accuracy: 0.9605 - val_loss: 0.0946 - val_sparse_categorical_accuracy: 0.9708\n",
      "Epoch 20/30\n",
      "525/525 [==============================] - 1s 3ms/step - loss: 0.1217 - sparse_categorical_accuracy: 0.9608 - val_loss: 0.0959 - val_sparse_categorical_accuracy: 0.9706\n",
      "Epoch 21/30\n",
      "525/525 [==============================] - 1s 2ms/step - loss: 0.1252 - sparse_categorical_accuracy: 0.9599 - val_loss: 0.0974 - val_sparse_categorical_accuracy: 0.9704\n",
      "Epoch 22/30\n",
      "525/525 [==============================] - 1s 3ms/step - loss: 0.1141 - sparse_categorical_accuracy: 0.9621 - val_loss: 0.1011 - val_sparse_categorical_accuracy: 0.9689\n",
      "Epoch 23/30\n",
      "525/525 [==============================] - 1s 3ms/step - loss: 0.1156 - sparse_categorical_accuracy: 0.9629 - val_loss: 0.0974 - val_sparse_categorical_accuracy: 0.9689\n",
      "Epoch 24/30\n",
      "525/525 [==============================] - 1s 3ms/step - loss: 0.1109 - sparse_categorical_accuracy: 0.9645 - val_loss: 0.0918 - val_sparse_categorical_accuracy: 0.9733\n",
      "Epoch 25/30\n",
      "525/525 [==============================] - 1s 3ms/step - loss: 0.1076 - sparse_categorical_accuracy: 0.9665 - val_loss: 0.0963 - val_sparse_categorical_accuracy: 0.9690\n",
      "Epoch 26/30\n",
      "525/525 [==============================] - 1s 3ms/step - loss: 0.1093 - sparse_categorical_accuracy: 0.9660 - val_loss: 0.0961 - val_sparse_categorical_accuracy: 0.9695\n",
      "Epoch 27/30\n",
      "525/525 [==============================] - 1s 3ms/step - loss: 0.1090 - sparse_categorical_accuracy: 0.9644 - val_loss: 0.0911 - val_sparse_categorical_accuracy: 0.9727\n",
      "Epoch 28/30\n",
      "525/525 [==============================] - 1s 3ms/step - loss: 0.1038 - sparse_categorical_accuracy: 0.9659 - val_loss: 0.0959 - val_sparse_categorical_accuracy: 0.9706\n",
      "Epoch 29/30\n",
      "525/525 [==============================] - 1s 3ms/step - loss: 0.1058 - sparse_categorical_accuracy: 0.9647 - val_loss: 0.0943 - val_sparse_categorical_accuracy: 0.9705\n",
      "Epoch 30/30\n",
      "525/525 [==============================] - 1s 3ms/step - loss: 0.1056 - sparse_categorical_accuracy: 0.9666 - val_loss: 0.0931 - val_sparse_categorical_accuracy: 0.9710\n"
     ]
    }
   ],
   "source": [
    "history = model.fit(x_train, y_train, batch_size=64, epochs=30, validation_split=0.2)"
   ]
  },
  {
   "cell_type": "code",
   "execution_count": 12,
   "metadata": {
    "execution": {
     "iopub.execute_input": "2021-02-08T12:29:19.885434Z",
     "iopub.status.busy": "2021-02-08T12:29:19.884598Z",
     "iopub.status.idle": "2021-02-08T12:29:19.887499Z",
     "shell.execute_reply": "2021-02-08T12:29:19.886820Z"
    },
    "papermill": {
     "duration": 0.244704,
     "end_time": "2021-02-08T12:29:19.887643",
     "exception": false,
     "start_time": "2021-02-08T12:29:19.642939",
     "status": "completed"
    },
    "tags": []
   },
   "outputs": [],
   "source": [
    "train_loss = history.history['loss']\n",
    "train_acc  = history.history['sparse_categorical_accuracy']\n",
    "\n",
    "valid_loss = history.history['val_loss']\n",
    "valid_acc  = history.history['val_sparse_categorical_accuracy']"
   ]
  },
  {
   "cell_type": "code",
   "execution_count": 13,
   "metadata": {
    "execution": {
     "iopub.execute_input": "2021-02-08T12:29:20.390242Z",
     "iopub.status.busy": "2021-02-08T12:29:20.383991Z",
     "iopub.status.idle": "2021-02-08T12:29:20.719566Z",
     "shell.execute_reply": "2021-02-08T12:29:20.718820Z"
    },
    "papermill": {
     "duration": 0.597714,
     "end_time": "2021-02-08T12:29:20.719730",
     "exception": false,
     "start_time": "2021-02-08T12:29:20.122016",
     "status": "completed"
    },
    "tags": []
   },
   "outputs": [
    {
     "data": {
      "image/png": "[encoded data removed]",
      "text/plain": [
       "<Figure size 864x360 with 2 Axes>"
      ]
     },
     "metadata": {
      "needs_background": "light"
     },
     "output_type": "display_data"
    }
   ],
   "source": [
    "plt.figure(figsize=(12, 5))\n",
    "plt.subplot(1, 2, 1)\n",
    "plt.plot(train_loss, label='train loss')\n",
    "plt.plot(valid_loss, label='valid loss')\n",
    "plt.title(\"loss\")\n",
    "plt.legend()\n",
    "\n",
    "plt.subplot(1, 2, 2)\n",
    "plt.plot(train_acc, label='train acc')\n",
    "plt.plot(valid_acc, label='valid acc')\n",
    "plt.title('accuracy')\n",
    "plt.legend()\n",
    "\n",
    "plt.show()\n",
    "plt.close()"
   ]
  },
  {
   "cell_type": "code",
   "execution_count": 14,
   "metadata": {
    "execution": {
     "iopub.execute_input": "2021-02-08T12:29:21.251018Z",
     "iopub.status.busy": "2021-02-08T12:29:21.249665Z",
     "iopub.status.idle": "2021-02-08T12:29:22.197769Z",
     "shell.execute_reply": "2021-02-08T12:29:22.197219Z"
    },
    "papermill": {
     "duration": 1.198027,
     "end_time": "2021-02-08T12:29:22.197919",
     "exception": false,
     "start_time": "2021-02-08T12:29:20.999892",
     "status": "completed"
    },
    "tags": []
   },
   "outputs": [
    {
     "data": {
      "text/plain": [
       "array([2, 0, 9, ..., 3, 9, 2])"
      ]
     },
     "execution_count": 14,
     "metadata": {},
     "output_type": "execute_result"
    }
   ],
   "source": [
    "predictions = model.predict(x_test)\n",
    "pred = np.argmax(predictions, axis=1)\n",
    "pred"
   ]
  },
  {
   "cell_type": "code",
   "execution_count": 15,
   "metadata": {
    "execution": {
     "iopub.execute_input": "2021-02-08T12:29:22.683820Z",
     "iopub.status.busy": "2021-02-08T12:29:22.683174Z",
     "iopub.status.idle": "2021-02-08T12:29:22.764320Z",
     "shell.execute_reply": "2021-02-08T12:29:22.763580Z"
    },
    "papermill": {
     "duration": 0.329871,
     "end_time": "2021-02-08T12:29:22.764475",
     "exception": false,
     "start_time": "2021-02-08T12:29:22.434604",
     "status": "completed"
    },
    "tags": []
   },
   "outputs": [],
   "source": [
    "sub = pd.read_csv('../input/digit-recognizer/sample_submission.csv')\n",
    "sub['Label'] = pred\n",
    "sub.to_csv('mnist-20210208.csv', index=False)"
   ]
  }
 ],
 "metadata": {
  "kernelspec": {
   "display_name": "Python 3",
   "language": "python",
   "name": "python3"
  },
  "language_info": {
   "codemirror_mode": {
    "name": "ipython",
    "version": 3
   },
   "file_extension": ".py",
   "mimetype": "text/x-python",
   "name": "python",
   "nbconvert_exporter": "python",
   "pygments_lexer": "ipython3",
   "version": "3.7.9"
  },
  "papermill": {
   "default_parameters": {},
   "duration": 68.231307,
   "end_time": "2021-02-08T12:29:24.122815",
   "environment_variables": {},
   "exception": null,
   "input_path": "__notebook__.ipynb",
   "output_path": "__notebook__.ipynb",
   "parameters": {},
   "start_time": "2021-02-08T12:28:15.891508",
   "version": "2.2.2"
  }
 },
 "nbformat": 4,
 "nbformat_minor": 4
}
