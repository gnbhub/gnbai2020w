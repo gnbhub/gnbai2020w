{
 "cells": [
  {
   "cell_type": "code",
   "execution_count": 1,
   "metadata": {
    "_cell_guid": "b1076dfc-b9ad-4769-8c92-a6c4dae69d19",
    "_uuid": "8f2839f25d086af736a60e9eeb907d3b93b6e0e5",
    "execution": {
     "iopub.execute_input": "2021-02-08T12:28:20.065134Z",
     "iopub.status.busy": "2021-02-08T12:28:20.064069Z",
     "iopub.status.idle": "2021-02-08T12:28:20.069506Z",
     "shell.execute_reply": "2021-02-08T12:28:20.070008Z"
    },
    "papermill": {
     "duration": 0.024174,
     "end_time": "2021-02-08T12:28:20.070326",
     "exception": false,
     "start_time": "2021-02-08T12:28:20.046152",
     "status": "completed"
    },
    "tags": []
   },
   "outputs": [],
   "source": [
    "import numpy as np\n",
    "import pandas as pd\n",
    "import matplotlib.pyplot as plt\n",
    "\n",
    "import random"
   ]
  },
  {
   "cell_type": "code",
   "execution_count": 2,
   "metadata": {
    "execution": {
     "iopub.execute_input": "2021-02-08T12:28:20.101246Z",
     "iopub.status.busy": "2021-02-08T12:28:20.100205Z",
     "iopub.status.idle": "2021-02-08T12:28:26.822687Z",
     "shell.execute_reply": "2021-02-08T12:28:26.823298Z"
    },
    "papermill": {
     "duration": 6.739837,
     "end_time": "2021-02-08T12:28:26.823496",
     "exception": false,
     "start_time": "2021-02-08T12:28:20.083659",
     "status": "completed"
    },
    "tags": []
   },
   "outputs": [],
   "source": [
    "train_df = pd.read_csv('../input/digit-recognizer/train.csv')\n",
    "test_df = pd.read_csv('../input/digit-recognizer/test.csv')"
   ]
  },
  {
   "cell_type": "code",
   "execution_count": 3,
   "metadata": {
    "execution": {
     "iopub.execute_input": "2021-02-08T12:28:26.854194Z",
     "iopub.status.busy": "2021-02-08T12:28:26.853482Z",
     "iopub.status.idle": "2021-02-08T12:28:26.898221Z",
     "shell.execute_reply": "2021-02-08T12:28:26.897518Z"
    },
    "papermill": {
     "duration": 0.061317,
     "end_time": "2021-02-08T12:28:26.898384",
     "exception": false,
     "start_time": "2021-02-08T12:28:26.837067",
     "status": "completed"
    },
    "tags": []
   },
   "outputs": [
    {
     "data": {
      "text/html": [
       "<div>\n",
       "<style scoped>\n",
       "    .dataframe tbody tr th:only-of-type {\n",
       "        vertical-align: middle;\n",
       "    }\n",
       "\n",
       "    .dataframe tbody tr th {\n",
       "        vertical-align: top;\n",
       "    }\n",
       "\n",
       "    .dataframe thead th {\n",
       "        text-align: right;\n",
       "    }\n",
       "</style>\n",
       "<table border=\"1\" class=\"dataframe\">\n",
       "  <thead>\n",
       "    <tr style=\"text-align: right;\">\n",
       "      <th></th>\n",
       "      <th>label</th>\n",
       "      <th>pixel0</th>\n",
       "      <th>pixel1</th>\n",
       "      <th>pixel2</th>\n",
       "      <th>pixel3</th>\n",
       "      <th>pixel4</th>\n",
       "      <th>pixel5</th>\n",
       "      <th>pixel6</th>\n",
       "      <th>pixel7</th>\n",
       "      <th>pixel8</th>\n",
       "      <th>...</th>\n",
       "      <th>pixel774</th>\n",
       "      <th>pixel775</th>\n",
       "      <th>pixel776</th>\n",
       "      <th>pixel777</th>\n",
       "      <th>pixel778</th>\n",
       "      <th>pixel779</th>\n",
       "      <th>pixel780</th>\n",
       "      <th>pixel781</th>\n",
       "      <th>pixel782</th>\n",
       "      <th>pixel783</th>\n",
       "    </tr>\n",
       "  </thead>\n",
       "  <tbody>\n",
       "    <tr>\n",
       "      <th>0</th>\n",
       "      <td>1</td>\n",
       "      <td>0</td>\n",
       "      <td>0</td>\n",
       "      <td>0</td>\n",
       "      <td>0</td>\n",
       "      <td>0</td>\n",
       "      <td>0</td>\n",
       "      <td>0</td>\n",
       "      <td>0</td>\n",
       "      <td>0</td>\n",
       "      <td>...</td>\n",
       "      <td>0</td>\n",
       "      <td>0</td>\n",
       "      <td>0</td>\n",
       "      <td>0</td>\n",
       "      <td>0</td>\n",
       "      <td>0</td>\n",
       "      <td>0</td>\n",
       "      <td>0</td>\n",
       "      <td>0</td>\n",
       "      <td>0</td>\n",
       "    </tr>\n",
       "    <tr>\n",
       "      <th>1</th>\n",
       "      <td>0</td>\n",
       "      <td>0</td>\n",
       "      <td>0</td>\n",
       "      <td>0</td>\n",
       "      <td>0</td>\n",
       "      <td>0</td>\n",
       "      <td>0</td>\n",
       "      <td>0</td>\n",
       "      <td>0</td>\n",
       "      <td>0</td>\n",
       "      <td>...</td>\n",
       "      <td>0</td>\n",
       "      <td>0</td>\n",
       "      <td>0</td>\n",
       "      <td>0</td>\n",
       "      <td>0</td>\n",
       "      <td>0</td>\n",
       "      <td>0</td>\n",
       "      <td>0</td>\n",
       "      <td>0</td>\n",
       "      <td>0</td>\n",
       "    </tr>\n",
       "    <tr>\n",
       "      <th>2</th>\n",
       "      <td>1</td>\n",
       "      <td>0</td>\n",
       "      <td>0</td>\n",
       "      <td>0</td>\n",
       "      <td>0</td>\n",
       "      <td>0</td>\n",
       "      <td>0</td>\n",
       "      <td>0</td>\n",
       "      <td>0</td>\n",
       "      <td>0</td>\n",
       "      <td>...</td>\n",
       "      <td>0</td>\n",
       "      <td>0</td>\n",
       "      <td>0</td>\n",
       "      <td>0</td>\n",
       "      <td>0</td>\n",
       "      <td>0</td>\n",
       "      <td>0</td>\n",
       "      <td>0</td>\n",
       "      <td>0</td>\n",
       "      <td>0</td>\n",
       "    </tr>\n",
       "    <tr>\n",
       "      <th>3</th>\n",
       "      <td>4</td>\n",
       "      <td>0</td>\n",
       "      <td>0</td>\n",
       "      <td>0</td>\n",
       "      <td>0</td>\n",
       "      <td>0</td>\n",
       "      <td>0</td>\n",
       "      <td>0</td>\n",
       "      <td>0</td>\n",
       "      <td>0</td>\n",
       "      <td>...</td>\n",
       "      <td>0</td>\n",
       "      <td>0</td>\n",
       "      <td>0</td>\n",
       "      <td>0</td>\n",
       "      <td>0</td>\n",
       "      <td>0</td>\n",
       "      <td>0</td>\n",
       "      <td>0</td>\n",
       "      <td>0</td>\n",
       "      <td>0</td>\n",
       "    </tr>\n",
       "    <tr>\n",
       "      <th>4</th>\n",
       "      <td>0</td>\n",
       "      <td>0</td>\n",
       "      <td>0</td>\n",
       "      <td>0</td>\n",
       "      <td>0</td>\n",
       "      <td>0</td>\n",
       "      <td>0</td>\n",
       "      <td>0</td>\n",
       "      <td>0</td>\n",
       "      <td>0</td>\n",
       "      <td>...</td>\n",
       "      <td>0</td>\n",
       "      <td>0</td>\n",
       "      <td>0</td>\n",
       "      <td>0</td>\n",
       "      <td>0</td>\n",
       "      <td>0</td>\n",
       "      <td>0</td>\n",
       "      <td>0</td>\n",
       "      <td>0</td>\n",
       "      <td>0</td>\n",
       "    </tr>\n",
       "  </tbody>\n",
       "</table>\n",
       "<p>5 rows × 785 columns</p>\n",
       "</div>"
      ],
      "text/plain": [
       "   label  pixel0  pixel1  pixel2  pixel3  pixel4  pixel5  pixel6  pixel7  \\\n",
       "0      1       0       0       0       0       0       0       0       0   \n",
       "1      0       0       0       0       0       0       0       0       0   \n",
       "2      1       0       0       0       0       0       0       0       0   \n",
       "3      4       0       0       0       0       0       0       0       0   \n",
       "4      0       0       0       0       0       0       0       0       0   \n",
       "\n",
       "   pixel8  ...  pixel774  pixel775  pixel776  pixel777  pixel778  pixel779  \\\n",
       "0       0  ...         0         0         0         0         0         0   \n",
       "1       0  ...         0         0         0         0         0         0   \n",
       "2       0  ...         0         0         0         0         0         0   \n",
       "3       0  ...         0         0         0         0         0         0   \n",
       "4       0  ...         0         0         0         0         0         0   \n",
       "\n",
       "   pixel780  pixel781  pixel782  pixel783  \n",
       "0         0         0         0         0  \n",
       "1         0         0         0         0  \n",
       "2         0         0         0         0  \n",
       "3         0         0         0         0  \n",
       "4         0         0         0         0  \n",
       "\n",
       "[5 rows x 785 columns]"
      ]
     },
     "execution_count": 3,
     "metadata": {},
     "output_type": "execute_result"
    }
   ],
   "source": [
    "train_df.head()"
   ]
  },
  {
   "cell_type": "code",
   "execution_count": 4,
   "metadata": {
    "execution": {
     "iopub.execute_input": "2021-02-08T12:28:27.107499Z",
     "iopub.status.busy": "2021-02-08T12:28:26.933283Z",
     "iopub.status.idle": "2021-02-08T12:28:27.443250Z",
     "shell.execute_reply": "2021-02-08T12:28:27.442652Z"
    },
    "papermill": {
     "duration": 0.530264,
     "end_time": "2021-02-08T12:28:27.443426",
     "exception": false,
     "start_time": "2021-02-08T12:28:26.913162",
     "status": "completed"
    },
    "tags": []
   },
   "outputs": [],
   "source": [
    "y_train = np.array(train_df['label'])\n",
    "x_train = np.array(train_df.drop(['label'], axis = 1))\n",
    "\n",
    "x_test = np.array(test_df)"
   ]
  },
  {
   "cell_type": "code",
   "execution_count": 5,
   "metadata": {
    "execution": {
     "iopub.execute_input": "2021-02-08T12:28:27.498199Z",
     "iopub.status.busy": "2021-02-08T12:28:27.496272Z",
     "iopub.status.idle": "2021-02-08T12:28:28.405715Z",
     "shell.execute_reply": "2021-02-08T12:28:28.406229Z"
    },
    "papermill": {
     "duration": 0.948725,
     "end_time": "2021-02-08T12:28:28.406412",
     "exception": false,
     "start_time": "2021-02-08T12:28:27.457687",
     "status": "completed"
    },
    "tags": []
   },
   "outputs": [
    {
     "data": {
      "image/png": "[encoded data removed]",
      "text/plain": [
       "<Figure size 720x432 with 18 Axes>"
      ]
     },
     "metadata": {
      "needs_background": "light"
     },
     "output_type": "display_data"
    }
   ],
   "source": [
    "def plot_data(index):\n",
    "    data = x_train[index].reshape((28, 28))\n",
    "    label = y_train[index]\n",
    "\n",
    "    plt.imshow(data, cmap='gray')\n",
    "    plt.axis(False)\n",
    "    plt.title(label)\n",
    "\n",
    "    \n",
    "rows, cols = 3, 6\n",
    "\n",
    "plt.figure(figsize=(10, 6))\n",
    "nums = random.sample(range(len(x_train)),k=rows*cols)\n",
    "    \n",
    "\n",
    "for i, num in enumerate(nums):\n",
    "    plt.subplot(rows, cols, i+1)\n",
    "    plot_data(num)\n",
    "\n",
    "plt.tight_layout()\n",
    "plt.show()\n",
    "plt.close()\n",
    "\n",
    "#for i in range(28) :\n",
    "#    for j in range(28) :\n",
    "#        print(\"%3d\", %(x_train[0][28*i+j]), end=\" \");\n",
    "#    print();"
   ]
  },
  {
   "cell_type": "code",
   "execution_count": 6,
   "metadata": {
    "execution": {
     "iopub.execute_input": "2021-02-08T12:28:28.440417Z",
     "iopub.status.busy": "2021-02-08T12:28:28.439811Z",
     "iopub.status.idle": "2021-02-08T12:28:28.491853Z",
     "shell.execute_reply": "2021-02-08T12:28:28.491244Z"
    },
    "papermill": {
     "duration": 0.070108,
     "end_time": "2021-02-08T12:28:28.492007",
     "exception": false,
     "start_time": "2021-02-08T12:28:28.421899",
     "status": "completed"
    },
    "tags": []
   },
   "outputs": [
    {
     "data": {
      "text/plain": [
       "0"
      ]
     },
     "execution_count": 6,
     "metadata": {},
     "output_type": "execute_result"
    }
   ],
   "source": [
    "x_train.min()"
   ]
  },
  {
   "cell_type": "code",
   "execution_count": 7,
   "metadata": {
    "execution": {
     "iopub.execute_input": "2021-02-08T12:28:28.529012Z",
     "iopub.status.busy": "2021-02-08T12:28:28.528159Z",
     "iopub.status.idle": "2021-02-08T12:28:28.825566Z",
     "shell.execute_reply": "2021-02-08T12:28:28.824953Z"
    },
    "papermill": {
     "duration": 0.317913,
     "end_time": "2021-02-08T12:28:28.825751",
     "exception": false,
     "start_time": "2021-02-08T12:28:28.507838",
     "status": "completed"
    },
    "tags": []
   },
   "outputs": [],
   "source": [
    "# 0 ~ 255 -> 전체 데이터 / 255 -> 0~1\n",
    "x_train = x_train / 255\n",
    "x_test = x_test / 255"
   ]
  },
  {
   "cell_type": "markdown",
   "metadata": {
    "papermill": {
     "duration": 0.016233,
     "end_time": "2021-02-08T12:28:28.859788",
     "exception": false,
     "start_time": "2021-02-08T12:28:28.843555",
     "status": "completed"
    },
    "tags": []
   },
   "source": [
    "## MLP\n",
    "Multi Layered Perceptron : 다층 퍼셉트론"
   ]
  },
  {
   "cell_type": "code",
   "execution_count": 8,
   "metadata": {
    "execution": {
     "iopub.execute_input": "2021-02-08T12:28:28.897707Z",
     "iopub.status.busy": "2021-02-08T12:28:28.897066Z",
     "iopub.status.idle": "2021-02-08T12:28:35.475924Z",
     "shell.execute_reply": "2021-02-08T12:28:35.476494Z"
    },
    "papermill": {
     "duration": 6.600968,
     "end_time": "2021-02-08T12:28:35.476707",
     "exception": false,
     "start_time": "2021-02-08T12:28:28.875739",
     "status": "completed"
    },
    "tags": []
   },
   "outputs": [],
   "source": [
    "import tensorflow as tf\n",
    "\n",
    "from tensorflow.keras import Sequential, Input\n",
    "from tensorflow.keras.layers import Dense, Dropout,ReLU, Softmax, BatchNormalization"
   ]
  },
  {
   "cell_type": "code",
   "execution_count": 9,
   "metadata": {
    "execution": {
     "iopub.execute_input": "2021-02-08T12:28:35.514644Z",
     "iopub.status.busy": "2021-02-08T12:28:35.513966Z",
     "iopub.status.idle": "2021-02-08T12:28:35.668782Z",
     "shell.execute_reply": "2021-02-08T12:28:35.669289Z"
    },
    "papermill": {
     "duration": 0.176181,
     "end_time": "2021-02-08T12:28:35.669493",
     "exception": false,
     "start_time": "2021-02-08T12:28:35.493312",
     "status": "completed"
    },
    "tags": []
   },
   "outputs": [],
   "source": [
    "model = Sequential([\n",
    "    Input(shape = (784,)),\n",
    "    Dense(50), BatchNormalization(), ReLU(), Dropout(0.2),\n",
    "    Dense(50), BatchNormalization(), ReLU(), Dropout(0.2),\n",
    "    Dense(10), Softmax()\n",
    "])"
   ]
  },
  {
   "cell_type": "code",
   "execution_count": 10,
   "metadata": {
    "execution": {
     "iopub.execute_input": "2021-02-08T12:28:35.710507Z",
     "iopub.status.busy": "2021-02-08T12:28:35.709742Z",
     "iopub.status.idle": "2021-02-08T12:28:35.719346Z",
     "shell.execute_reply": "2021-02-08T12:28:35.718338Z"
    },
    "papermill": {
     "duration": 0.033013,
     "end_time": "2021-02-08T12:28:35.719582",
     "exception": false,
     "start_time": "2021-02-08T12:28:35.686569",
     "status": "completed"
    },
    "tags": []
   },
   "outputs": [
    {
     "name": "stdout",
     "output_type": "stream",
     "text": [
      "Model: \"sequential\"\n",
      "_________________________________________________________________\n",
      "Layer (type)                 Output Shape              Param #   \n",
      "=================================================================\n",
      "dense (Dense)                (None, 50)                39250     \n",
      "_________________________________________________________________\n",
      "batch_normalization (BatchNo (None, 50)                200       \n",
      "_________________________________________________________________\n",
      "re_lu (ReLU)                 (None, 50)                0         \n",
      "_________________________________________________________________\n",
      "dropout (Dropout)            (None, 50)                0         \n",
      "_________________________________________________________________\n",
      "dense_1 (Dense)              (None, 50)                2550      \n",
      "_________________________________________________________________\n",
      "batch_normalization_1 (Batch (None, 50)                200       \n",
      "_________________________________________________________________\n",
      "re_lu_1 (ReLU)               (None, 50)                0         \n",
      "_________________________________________________________________\n",
      "dropout_1 (Dropout)          (None, 50)                0         \n",
      "_________________________________________________________________\n",
      "dense_2 (Dense)              (None, 10)                510       \n",
      "_________________________________________________________________\n",
      "softmax (Softmax)            (None, 10)                0         \n",
      "=================================================================\n",
      "Total params: 42,710\n",
      "Trainable params: 42,510\n",
      "Non-trainable params: 200\n",
      "_________________________________________________________________\n"
     ]
    }
   ],
   "source": [
    "model.summary()"
   ]
  },
  {
   "cell_type": "code",
   "execution_count": 11,
   "metadata": {
    "execution": {
     "iopub.execute_input": "2021-02-08T12:28:35.760269Z",
     "iopub.status.busy": "2021-02-08T12:28:35.759338Z",
     "iopub.status.idle": "2021-02-08T12:28:35.764401Z",
     "shell.execute_reply": "2021-02-08T12:28:35.763761Z"
    },
    "papermill": {
     "duration": 0.027627,
     "end_time": "2021-02-08T12:28:35.764548",
     "exception": false,
     "start_time": "2021-02-08T12:28:35.736921",
     "status": "completed"
    },
    "tags": []
   },
   "outputs": [
    {
     "data": {
      "text/plain": [
       "array([1, 0, 1, ..., 7, 6, 9])"
      ]
     },
     "execution_count": 11,
     "metadata": {},
     "output_type": "execute_result"
    }
   ],
   "source": [
    "y_train\n",
    "\n",
    "# 3 -> [0, 0, 0, 1, 0, 0, 0, 0, 0, 0]"
   ]
  },
  {
   "cell_type": "code",
   "execution_count": 12,
   "metadata": {
    "execution": {
     "iopub.execute_input": "2021-02-08T12:28:36.028388Z",
     "iopub.status.busy": "2021-02-08T12:28:36.027235Z",
     "iopub.status.idle": "2021-02-08T12:28:36.034966Z",
     "shell.execute_reply": "2021-02-08T12:28:36.035482Z"
    },
    "papermill": {
     "duration": 0.254026,
     "end_time": "2021-02-08T12:28:36.035805",
     "exception": false,
     "start_time": "2021-02-08T12:28:35.781779",
     "status": "completed"
    },
    "tags": []
   },
   "outputs": [],
   "source": [
    "model.compile(\n",
    "    optimizer=\"adam\",#lose를 최적화시키는 알고리즘\n",
    "    loss=\"sparse_categorical_crossentropy\", #손실함수, 오차함수, 목적함수: 모델이 낸 예측값과 실제 정답이 얼마나 다른가\n",
    "    metrics=[\"sparse_categorical_accuracy\"] #평가 지표\n",
    ")"
   ]
  },
  {
   "cell_type": "code",
   "execution_count": 13,
   "metadata": {
    "execution": {
     "iopub.execute_input": "2021-02-08T12:28:36.077507Z",
     "iopub.status.busy": "2021-02-08T12:28:36.074371Z",
     "iopub.status.idle": "2021-02-08T12:29:23.629852Z",
     "shell.execute_reply": "2021-02-08T12:29:23.629266Z"
    },
    "papermill": {
     "duration": 47.576721,
     "end_time": "2021-02-08T12:29:23.630028",
     "exception": false,
     "start_time": "2021-02-08T12:28:36.053307",
     "status": "completed"
    },
    "tags": []
   },
   "outputs": [
    {
     "name": "stdout",
     "output_type": "stream",
     "text": [
      "Epoch 1/30\n",
      "525/525 [==============================] - 3s 4ms/step - loss: 1.0164 - sparse_categorical_accuracy: 0.6916 - val_loss: 0.2513 - val_sparse_categorical_accuracy: 0.9251\n",
      "Epoch 2/30\n",
      "525/525 [==============================] - 1s 3ms/step - loss: 0.3459 - sparse_categorical_accuracy: 0.8965 - val_loss: 0.1952 - val_sparse_categorical_accuracy: 0.9399\n",
      "Epoch 3/30\n",
      "525/525 [==============================] - 2s 3ms/step - loss: 0.2741 - sparse_categorical_accuracy: 0.9159 - val_loss: 0.1567 - val_sparse_categorical_accuracy: 0.9525\n",
      "Epoch 4/30\n",
      "525/525 [==============================] - 2s 3ms/step - loss: 0.2440 - sparse_categorical_accuracy: 0.9234 - val_loss: 0.1424 - val_sparse_categorical_accuracy: 0.9576\n",
      "Epoch 5/30\n",
      "525/525 [==============================] - 2s 3ms/step - loss: 0.2260 - sparse_categorical_accuracy: 0.9310 - val_loss: 0.1388 - val_sparse_categorical_accuracy: 0.9561\n",
      "Epoch 6/30\n",
      "525/525 [==============================] - 1s 3ms/step - loss: 0.1969 - sparse_categorical_accuracy: 0.9386 - val_loss: 0.1288 - val_sparse_categorical_accuracy: 0.9611\n",
      "Epoch 7/30\n",
      "525/525 [==============================] - 1s 3ms/step - loss: 0.1948 - sparse_categorical_accuracy: 0.9387 - val_loss: 0.1178 - val_sparse_categorical_accuracy: 0.9636\n",
      "Epoch 8/30\n",
      "525/525 [==============================] - 1s 3ms/step - loss: 0.1802 - sparse_categorical_accuracy: 0.9456 - val_loss: 0.1190 - val_sparse_categorical_accuracy: 0.9637\n",
      "Epoch 9/30\n",
      "525/525 [==============================] - 1s 3ms/step - loss: 0.1667 - sparse_categorical_accuracy: 0.9489 - val_loss: 0.1202 - val_sparse_categorical_accuracy: 0.9640\n",
      "Epoch 10/30\n",
      "525/525 [==============================] - 1s 3ms/step - loss: 0.1573 - sparse_categorical_accuracy: 0.9514 - val_loss: 0.1087 - val_sparse_categorical_accuracy: 0.9670\n",
      "Epoch 11/30\n",
      "525/525 [==============================] - 1s 3ms/step - loss: 0.1553 - sparse_categorical_accuracy: 0.9516 - val_loss: 0.1173 - val_sparse_categorical_accuracy: 0.9635\n",
      "Epoch 12/30\n",
      "525/525 [==============================] - 2s 3ms/step - loss: 0.1485 - sparse_categorical_accuracy: 0.9523 - val_loss: 0.1083 - val_sparse_categorical_accuracy: 0.9661\n",
      "Epoch 13/30\n",
      "525/525 [==============================] - 2s 3ms/step - loss: 0.1401 - sparse_categorical_accuracy: 0.9553 - val_loss: 0.1037 - val_sparse_categorical_accuracy: 0.9692\n",
      "Epoch 14/30\n",
      "525/525 [==============================] - 2s 4ms/step - loss: 0.1390 - sparse_categorical_accuracy: 0.9563 - val_loss: 0.1011 - val_sparse_categorical_accuracy: 0.9699\n",
      "Epoch 15/30\n",
      "525/525 [==============================] - 2s 3ms/step - loss: 0.1400 - sparse_categorical_accuracy: 0.9550 - val_loss: 0.1062 - val_sparse_categorical_accuracy: 0.9692\n",
      "Epoch 16/30\n",
      "525/525 [==============================] - 2s 3ms/step - loss: 0.1273 - sparse_categorical_accuracy: 0.9587 - val_loss: 0.1030 - val_sparse_categorical_accuracy: 0.9688\n",
      "Epoch 17/30\n",
      "525/525 [==============================] - 2s 3ms/step - loss: 0.1314 - sparse_categorical_accuracy: 0.9577 - val_loss: 0.0988 - val_sparse_categorical_accuracy: 0.9701\n",
      "Epoch 18/30\n",
      "525/525 [==============================] - 1s 3ms/step - loss: 0.1251 - sparse_categorical_accuracy: 0.9601 - val_loss: 0.1101 - val_sparse_categorical_accuracy: 0.9680\n",
      "Epoch 19/30\n",
      "525/525 [==============================] - 2s 3ms/step - loss: 0.1295 - sparse_categorical_accuracy: 0.9606 - val_loss: 0.1029 - val_sparse_categorical_accuracy: 0.9707\n",
      "Epoch 20/30\n",
      "525/525 [==============================] - 1s 3ms/step - loss: 0.1224 - sparse_categorical_accuracy: 0.9593 - val_loss: 0.1063 - val_sparse_categorical_accuracy: 0.9683\n",
      "Epoch 21/30\n",
      "525/525 [==============================] - 1s 3ms/step - loss: 0.1176 - sparse_categorical_accuracy: 0.9634 - val_loss: 0.0991 - val_sparse_categorical_accuracy: 0.9708\n",
      "Epoch 22/30\n",
      "525/525 [==============================] - 1s 3ms/step - loss: 0.1128 - sparse_categorical_accuracy: 0.9631 - val_loss: 0.1053 - val_sparse_categorical_accuracy: 0.9690\n",
      "Epoch 23/30\n",
      "525/525 [==============================] - 1s 3ms/step - loss: 0.1198 - sparse_categorical_accuracy: 0.9599 - val_loss: 0.0975 - val_sparse_categorical_accuracy: 0.9711\n",
      "Epoch 24/30\n",
      "525/525 [==============================] - 2s 3ms/step - loss: 0.1145 - sparse_categorical_accuracy: 0.9614 - val_loss: 0.1018 - val_sparse_categorical_accuracy: 0.9700\n",
      "Epoch 25/30\n",
      "525/525 [==============================] - 1s 3ms/step - loss: 0.1101 - sparse_categorical_accuracy: 0.9655 - val_loss: 0.1015 - val_sparse_categorical_accuracy: 0.9702\n",
      "Epoch 26/30\n",
      "525/525 [==============================] - 1s 3ms/step - loss: 0.1078 - sparse_categorical_accuracy: 0.9653 - val_loss: 0.1023 - val_sparse_categorical_accuracy: 0.9699\n",
      "Epoch 27/30\n",
      "525/525 [==============================] - 1s 3ms/step - loss: 0.1062 - sparse_categorical_accuracy: 0.9658 - val_loss: 0.1005 - val_sparse_categorical_accuracy: 0.9720\n",
      "Epoch 28/30\n",
      "525/525 [==============================] - 1s 3ms/step - loss: 0.1114 - sparse_categorical_accuracy: 0.9635 - val_loss: 0.1036 - val_sparse_categorical_accuracy: 0.9700\n",
      "Epoch 29/30\n",
      "525/525 [==============================] - 1s 3ms/step - loss: 0.1099 - sparse_categorical_accuracy: 0.9650 - val_loss: 0.1091 - val_sparse_categorical_accuracy: 0.9695\n",
      "Epoch 30/30\n",
      "525/525 [==============================] - 1s 3ms/step - loss: 0.1031 - sparse_categorical_accuracy: 0.9674 - val_loss: 0.1022 - val_sparse_categorical_accuracy: 0.9706\n"
     ]
    }
   ],
   "source": [
    "history = model.fit(x_train, y_train, batch_size=64, epochs=30, validation_split=0.2)"
   ]
  },
  {
   "cell_type": "code",
   "execution_count": 14,
   "metadata": {
    "execution": {
     "iopub.execute_input": "2021-02-08T12:29:24.158342Z",
     "iopub.status.busy": "2021-02-08T12:29:24.157354Z",
     "iopub.status.idle": "2021-02-08T12:29:24.160746Z",
     "shell.execute_reply": "2021-02-08T12:29:24.160084Z"
    },
    "papermill": {
     "duration": 0.267034,
     "end_time": "2021-02-08T12:29:24.160905",
     "exception": false,
     "start_time": "2021-02-08T12:29:23.893871",
     "status": "completed"
    },
    "tags": []
   },
   "outputs": [],
   "source": [
    "train_loss = history.history['loss']\n",
    "train_acc = history.history['sparse_categorical_accuracy']\n",
    "\n",
    "valid_loss = history.history['val_loss']\n",
    "valid_acc = history.history['val_sparse_categorical_accuracy']"
   ]
  },
  {
   "cell_type": "code",
   "execution_count": 15,
   "metadata": {
    "execution": {
     "iopub.execute_input": "2021-02-08T12:29:24.730225Z",
     "iopub.status.busy": "2021-02-08T12:29:24.706268Z",
     "iopub.status.idle": "2021-02-08T12:29:25.061012Z",
     "shell.execute_reply": "2021-02-08T12:29:25.060383Z"
    },
    "papermill": {
     "duration": 0.641617,
     "end_time": "2021-02-08T12:29:25.061186",
     "exception": false,
     "start_time": "2021-02-08T12:29:24.419569",
     "status": "completed"
    },
    "tags": []
   },
   "outputs": [
    {
     "data": {
      "image/png": "[encoded data removed]",
      "text/plain": [
       "<Figure size 864x432 with 2 Axes>"
      ]
     },
     "metadata": {
      "needs_background": "light"
     },
     "output_type": "display_data"
    }
   ],
   "source": [
    "plt.figure(figsize=(12, 6))\n",
    "plt.subplot(1, 2, 1)\n",
    "\n",
    "plt.plot(train_loss, label='train loss')\n",
    "plt.plot(valid_loss, label= 'valid loss')\n",
    "plt.title(\"loss\")\n",
    "plt.legend()\n",
    "\n",
    "plt.subplot(1, 2, 2)\n",
    "plt.plot(train_acc, label='train acc')\n",
    "plt.plot(valid_acc, label='valid acc')\n",
    "plt.title('accuracy')\n",
    "plt.legend()\n",
    "\n",
    "plt.show()\n",
    "plt.close()"
   ]
  },
  {
   "cell_type": "code",
   "execution_count": 16,
   "metadata": {
    "execution": {
     "iopub.execute_input": "2021-02-08T12:29:25.591963Z",
     "iopub.status.busy": "2021-02-08T12:29:25.591195Z",
     "iopub.status.idle": "2021-02-08T12:29:26.577531Z",
     "shell.execute_reply": "2021-02-08T12:29:26.576898Z"
    },
    "papermill": {
     "duration": 1.253037,
     "end_time": "2021-02-08T12:29:26.577715",
     "exception": false,
     "start_time": "2021-02-08T12:29:25.324678",
     "status": "completed"
    },
    "tags": []
   },
   "outputs": [],
   "source": [
    "predictions = model.predict(x_test)"
   ]
  },
  {
   "cell_type": "code",
   "execution_count": 17,
   "metadata": {
    "execution": {
     "iopub.execute_input": "2021-02-08T12:29:27.116431Z",
     "iopub.status.busy": "2021-02-08T12:29:27.115377Z",
     "iopub.status.idle": "2021-02-08T12:29:27.119786Z",
     "shell.execute_reply": "2021-02-08T12:29:27.119256Z"
    },
    "papermill": {
     "duration": 0.274117,
     "end_time": "2021-02-08T12:29:27.119945",
     "exception": false,
     "start_time": "2021-02-08T12:29:26.845828",
     "status": "completed"
    },
    "tags": []
   },
   "outputs": [],
   "source": [
    "pred = np.argmax(predictions, axis=1)"
   ]
  },
  {
   "cell_type": "code",
   "execution_count": 18,
   "metadata": {
    "execution": {
     "iopub.execute_input": "2021-02-08T12:29:27.655703Z",
     "iopub.status.busy": "2021-02-08T12:29:27.654459Z",
     "iopub.status.idle": "2021-02-08T12:29:27.659017Z",
     "shell.execute_reply": "2021-02-08T12:29:27.658327Z"
    },
    "papermill": {
     "duration": 0.276358,
     "end_time": "2021-02-08T12:29:27.659228",
     "exception": false,
     "start_time": "2021-02-08T12:29:27.382870",
     "status": "completed"
    },
    "tags": []
   },
   "outputs": [
    {
     "data": {
      "text/plain": [
       "array([2, 0, 9, ..., 3, 9, 2])"
      ]
     },
     "execution_count": 18,
     "metadata": {},
     "output_type": "execute_result"
    }
   ],
   "source": [
    "pred"
   ]
  },
  {
   "cell_type": "code",
   "execution_count": 19,
   "metadata": {
    "execution": {
     "iopub.execute_input": "2021-02-08T12:29:28.194273Z",
     "iopub.status.busy": "2021-02-08T12:29:28.193464Z",
     "iopub.status.idle": "2021-02-08T12:29:28.216100Z",
     "shell.execute_reply": "2021-02-08T12:29:28.215498Z"
    },
    "papermill": {
     "duration": 0.290008,
     "end_time": "2021-02-08T12:29:28.216265",
     "exception": false,
     "start_time": "2021-02-08T12:29:27.926257",
     "status": "completed"
    },
    "tags": []
   },
   "outputs": [],
   "source": [
    "sub = pd.read_csv('../input/digit-recognizer/sample_submission.csv')\n",
    "sub['Label'] = pred"
   ]
  },
  {
   "cell_type": "code",
   "execution_count": 20,
   "metadata": {
    "execution": {
     "iopub.execute_input": "2021-02-08T12:29:28.745553Z",
     "iopub.status.busy": "2021-02-08T12:29:28.744913Z",
     "iopub.status.idle": "2021-02-08T12:29:28.805389Z",
     "shell.execute_reply": "2021-02-08T12:29:28.804718Z"
    },
    "papermill": {
     "duration": 0.327452,
     "end_time": "2021-02-08T12:29:28.805541",
     "exception": false,
     "start_time": "2021-02-08T12:29:28.478089",
     "status": "completed"
    },
    "tags": []
   },
   "outputs": [],
   "source": [
    "sub.to_csv('mnist-20210208.csv', index=False)"
   ]
  }
 ],
 "metadata": {
  "kernelspec": {
   "display_name": "Python 3",
   "language": "python",
   "name": "python3"
  },
  "language_info": {
   "codemirror_mode": {
    "name": "ipython",
    "version": 3
   },
   "file_extension": ".py",
   "mimetype": "text/x-python",
   "name": "python",
   "nbconvert_exporter": "python",
   "pygments_lexer": "ipython3",
   "version": "3.7.9"
  },
  "papermill": {
   "default_parameters": {},
   "duration": 76.852179,
   "end_time": "2021-02-08T12:29:30.580433",
   "environment_variables": {},
   "exception": null,
   "input_path": "__notebook__.ipynb",
   "output_path": "__notebook__.ipynb",
   "parameters": {},
   "start_time": "2021-02-08T12:28:13.728254",
   "version": "2.2.2"
  }
 },
 "nbformat": 4,
 "nbformat_minor": 4
}
