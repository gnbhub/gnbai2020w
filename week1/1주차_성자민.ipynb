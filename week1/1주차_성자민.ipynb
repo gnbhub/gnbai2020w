{
  "nbformat": 4,
  "nbformat_minor": 0,
  "metadata": {
    "colab": {
      "name": "ai study1주차.ipynb",
      "provenance": [],
      "collapsed_sections": [],
      "authorship_tag": "ABX9TyMKmYGF0YTBbW15gsjsBVxh",
      "include_colab_link": true
    },
    "kernelspec": {
      "name": "python3",
      "display_name": "Python 3"
    }
  },
  "cells": [
    {
      "cell_type": "markdown",
      "metadata": {
        "id": "view-in-github",
        "colab_type": "text"
      },
      "source": [
        "<a href=\"https://colab.research.google.com/github/gnbhub/gnbai2020w/blob/main/week1/1%EC%A3%BC%EC%B0%A8_%EC%84%B1%EC%9E%90%EB%AF%BC.ipynb\" target=\"_parent\"><img src=\"https://colab.research.google.com/assets/colab-badge.svg\" alt=\"Open In Colab\"/></a>"
      ]
    },
    {
      "cell_type": "markdown",
      "metadata": {
        "id": "89_MmrXIJ07e"
      },
      "source": [
        "#Jupyter notebook 사용법\r\n",
        "\r\n",
        "```\r\n",
        "# 제목 1\r\n",
        "## 제목 2\r\n",
        "### 제목 3\r\n",
        "```\r\n",
        "\r\n"
      ]
    },
    {
      "cell_type": "markdown",
      "metadata": {
        "id": "TlDl8QRRKEcf"
      },
      "source": [
        "#2. Python 기본 문법\r\n",
        "\r\n",
        "ctrl + enter : 현재 선택한 블럭 실행\r\n",
        "\r\n",
        "shift + enter : 현재 선택한 블럭 실행하고 다음 블럭으로 넘어감\r\n",
        "\r\n",
        "ctrl + F9 : 모든 블럭 실행\r\n",
        "\r\n",
        "ctrl + / : 현재 라인 주석\r\n",
        "\r\n",
        "\r\n"
      ]
    },
    {
      "cell_type": "markdown",
      "metadata": {
        "id": "9JTclUS2hd7r"
      },
      "source": [
        "1)Hello world"
      ]
    },
    {
      "cell_type": "code",
      "metadata": {
        "colab": {
          "base_uri": "https://localhost:8080/"
        },
        "id": "kmHCbXPiIvWF",
        "outputId": "364d08f8-7593-4599-9b3f-b6d9998dac7f"
      },
      "source": [
        "print('hello')"
      ],
      "execution_count": null,
      "outputs": [
        {
          "output_type": "stream",
          "text": [
            "hello\n"
          ],
          "name": "stdout"
        }
      ]
    },
    {
      "cell_type": "code",
      "metadata": {
        "colab": {
          "base_uri": "https://localhost:8080/"
        },
        "id": "oaBx3iwdI84g",
        "outputId": "38a6ab94-9e14-4d8d-a207-c708a3370218"
      },
      "source": [
        "for i in range(10):\r\n",
        "  print(i)"
      ],
      "execution_count": null,
      "outputs": [
        {
          "output_type": "stream",
          "text": [
            "0\n",
            "1\n",
            "2\n",
            "3\n",
            "4\n",
            "5\n",
            "6\n",
            "7\n",
            "8\n",
            "9\n"
          ],
          "name": "stdout"
        }
      ]
    },
    {
      "cell_type": "markdown",
      "metadata": {
        "id": "xGIp6S4SN6H-"
      },
      "source": [
        "### 2) if문\r\n",
        "else if 대신에 elif!!"
      ]
    },
    {
      "cell_type": "code",
      "metadata": {
        "id": "zLlQDc4EK7rX"
      },
      "source": [
        "n = 5"
      ],
      "execution_count": null,
      "outputs": []
    },
    {
      "cell_type": "code",
      "metadata": {
        "colab": {
          "base_uri": "https://localhost:8080/"
        },
        "id": "V4Fd3RE1LiaG",
        "outputId": "f9bc6025-157e-4d36-ef7b-7b0e7b66bf4f"
      },
      "source": [
        "\r\n",
        "if n>5:\r\n",
        "  print('5보다 큽니다')\r\n",
        "\r\n",
        "elif n==5:\r\n",
        "  print('5입니다')\r\n",
        "else:\r\n",
        "  print('5보다 작거나 같습니다')"
      ],
      "execution_count": null,
      "outputs": [
        {
          "output_type": "stream",
          "text": [
            "5입니다\n"
          ],
          "name": "stdout"
        }
      ]
    },
    {
      "cell_type": "markdown",
      "metadata": {
        "id": "fLhCd63tNz1z"
      },
      "source": [
        "### 3) for 문\r\n",
        "반복 횟수를 알고 있을 때 사용"
      ]
    },
    {
      "cell_type": "code",
      "metadata": {
        "colab": {
          "base_uri": "https://localhost:8080/"
        },
        "id": "HStdvXc6OnkH",
        "outputId": "a25a3d80-9ea7-4040-c29e-52b567e1e386"
      },
      "source": [
        "type(range(10))"
      ],
      "execution_count": null,
      "outputs": [
        {
          "output_type": "execute_result",
          "data": {
            "text/plain": [
              "range"
            ]
          },
          "metadata": {
            "tags": []
          },
          "execution_count": 29
        }
      ]
    },
    {
      "cell_type": "code",
      "metadata": {
        "id": "M-77UPr6MPbZ"
      },
      "source": [
        "A = list(range(10))"
      ],
      "execution_count": null,
      "outputs": []
    },
    {
      "cell_type": "code",
      "metadata": {
        "colab": {
          "base_uri": "https://localhost:8080/"
        },
        "id": "2iT3jYnTMqOe",
        "outputId": "3f87e5a5-c02f-4346-9543-d0e517321aea"
      },
      "source": [
        "A"
      ],
      "execution_count": null,
      "outputs": [
        {
          "output_type": "execute_result",
          "data": {
            "text/plain": [
              "[0, 1, 2, 3, 4, 5, 6, 7, 8, 9]"
            ]
          },
          "metadata": {
            "tags": []
          },
          "execution_count": 19
        }
      ]
    },
    {
      "cell_type": "code",
      "metadata": {
        "colab": {
          "base_uri": "https://localhost:8080/"
        },
        "id": "wU1aelNCMr2N",
        "outputId": "a64d0784-2761-4898-e64d-caa5083dbf75"
      },
      "source": [
        "for a in A:\r\n",
        "    print(a, end=' ')\r\n"
      ],
      "execution_count": null,
      "outputs": [
        {
          "output_type": "stream",
          "text": [
            "0 1 2 3 4 5 6 7 8 9 "
          ],
          "name": "stdout"
        }
      ]
    },
    {
      "cell_type": "code",
      "metadata": {
        "colab": {
          "base_uri": "https://localhost:8080/"
        },
        "id": "MlBcku6CNaoy",
        "outputId": "3e233444-ab40-4a50-9ff1-396abf2a44d2"
      },
      "source": [
        "for i in range(10):\r\n",
        "  print(i, end=' ')"
      ],
      "execution_count": null,
      "outputs": [
        {
          "output_type": "stream",
          "text": [
            "0 1 2 3 4 5 6 7 8 9 "
          ],
          "name": "stdout"
        }
      ]
    },
    {
      "cell_type": "markdown",
      "metadata": {
        "id": "HKvnM4UkNlgh"
      },
      "source": [
        "### 4)while문\r\n",
        "반복 끝내는 조건을 할 때"
      ]
    },
    {
      "cell_type": "code",
      "metadata": {
        "colab": {
          "base_uri": "https://localhost:8080/"
        },
        "id": "TEuKCNLENe9h",
        "outputId": "b77df60c-e62b-4775-a7dc-3aff2f84fc39"
      },
      "source": [
        "i = 0\r\n",
        "\r\n",
        "while i < 10:\r\n",
        "  print(i, end=' ')\r\n",
        "  #i++\r\n",
        "  i+= 1"
      ],
      "execution_count": null,
      "outputs": [
        {
          "output_type": "stream",
          "text": [
            "0 1 2 3 4 5 6 7 8 9 "
          ],
          "name": "stdout"
        }
      ]
    },
    {
      "cell_type": "markdown",
      "metadata": {
        "id": "NiC7UxSdORQa"
      },
      "source": [
        "### Containers"
      ]
    },
    {
      "cell_type": "markdown",
      "metadata": {
        "id": "rt0Y3Pn0OWaQ"
      },
      "source": [
        "#### list\r\n"
      ]
    },
    {
      "cell_type": "code",
      "metadata": {
        "colab": {
          "base_uri": "https://localhost:8080/"
        },
        "id": "e6NeFxShOVjl",
        "outputId": "9107eccb-d3cd-441b-f938-2d645022ee6a"
      },
      "source": [
        "lst = [1, 2, 3, 4, 5]\r\n",
        "print(type(lst))"
      ],
      "execution_count": null,
      "outputs": [
        {
          "output_type": "stream",
          "text": [
            "<class 'list'>\n"
          ],
          "name": "stdout"
        }
      ]
    },
    {
      "cell_type": "code",
      "metadata": {
        "colab": {
          "base_uri": "https://localhost:8080/"
        },
        "id": "WfsJejqjOZ_1",
        "outputId": "470a9bf3-cd6d-463d-e099-332f9e9bdf00"
      },
      "source": [
        "lst"
      ],
      "execution_count": null,
      "outputs": [
        {
          "output_type": "execute_result",
          "data": {
            "text/plain": [
              "[1, 2, 3, 4, 5]"
            ]
          },
          "metadata": {
            "tags": []
          },
          "execution_count": 28
        }
      ]
    },
    {
      "cell_type": "code",
      "metadata": {
        "id": "2n76kHkbOgia"
      },
      "source": [
        "a = [1, 'abcd', 3.14, [3, 4, 5], (6, 7)]"
      ],
      "execution_count": null,
      "outputs": []
    },
    {
      "cell_type": "code",
      "metadata": {
        "id": "qAryJgpxPESa"
      },
      "source": [
        "b = [[1,2],\r\n",
        "     [3,4]]"
      ],
      "execution_count": null,
      "outputs": []
    },
    {
      "cell_type": "code",
      "metadata": {
        "id": "wnGhSb1GPGid"
      },
      "source": [
        "a.append(10)"
      ],
      "execution_count": null,
      "outputs": []
    },
    {
      "cell_type": "code",
      "metadata": {
        "colab": {
          "base_uri": "https://localhost:8080/"
        },
        "id": "X5dM_F6fPPc4",
        "outputId": "b64883fe-8277-420a-c759-5390b7df9aa4"
      },
      "source": [
        "print(a)"
      ],
      "execution_count": null,
      "outputs": [
        {
          "output_type": "stream",
          "text": [
            "[1, 'abcd', 3.14, [3, 4, 5], (6, 7), 10]\n"
          ],
          "name": "stdout"
        }
      ]
    },
    {
      "cell_type": "markdown",
      "metadata": {
        "id": "9IU9d0uvPoEP"
      },
      "source": [
        "pop 뒤에 입력값(index)넣으면 걔가 빠지고\r\n",
        "아무것도 넣지 않으면 마지막이 빠짐"
      ]
    },
    {
      "cell_type": "code",
      "metadata": {
        "colab": {
          "base_uri": "https://localhost:8080/"
        },
        "id": "vuF_WgvePSpS",
        "outputId": "2d67334a-4812-4b54-8e51-bc7bc08d6cb8"
      },
      "source": [
        "a.pop()\r\n",
        "print(a)"
      ],
      "execution_count": null,
      "outputs": [
        {
          "output_type": "stream",
          "text": [
            "[1, 'abcd', 3.14, [3, 4, 5]]\n"
          ],
          "name": "stdout"
        }
      ]
    },
    {
      "cell_type": "markdown",
      "metadata": {
        "id": "DCXyRjmCP5xS"
      },
      "source": [
        "### Tuple"
      ]
    },
    {
      "cell_type": "code",
      "metadata": {
        "id": "8ztnrWWqPYR8"
      },
      "source": [
        "tpl = (1,2,3,4,5)"
      ],
      "execution_count": null,
      "outputs": []
    },
    {
      "cell_type": "code",
      "metadata": {
        "colab": {
          "base_uri": "https://localhost:8080/"
        },
        "id": "QXiknokHP_sl",
        "outputId": "b09c2949-79c4-4ea0-9d5b-b1ce2e986a85"
      },
      "source": [
        "(x, y) = (1, 2)\r\n",
        "print(x, y)"
      ],
      "execution_count": null,
      "outputs": [
        {
          "output_type": "stream",
          "text": [
            "1 2\n"
          ],
          "name": "stdout"
        }
      ]
    },
    {
      "cell_type": "code",
      "metadata": {
        "colab": {
          "base_uri": "https://localhost:8080/"
        },
        "id": "kFxUdewoQX2E",
        "outputId": "bb736198-b8b9-43a6-f00d-649e65d181e8"
      },
      "source": [
        "# unpacking\r\n",
        "x, y = 3,4\r\n",
        "print(x,y)"
      ],
      "execution_count": null,
      "outputs": [
        {
          "output_type": "stream",
          "text": [
            "3 4\n"
          ],
          "name": "stdout"
        }
      ]
    },
    {
      "cell_type": "markdown",
      "metadata": {
        "id": "b0uPLck9Qxdu"
      },
      "source": [
        "#### indexing"
      ]
    },
    {
      "cell_type": "code",
      "metadata": {
        "colab": {
          "base_uri": "https://localhost:8080/"
        },
        "id": "kfkirNf0QZX8",
        "outputId": "44b7725b-20de-4833-f663-7c3ce6a517ba"
      },
      "source": [
        "tpl[1]"
      ],
      "execution_count": null,
      "outputs": [
        {
          "output_type": "execute_result",
          "data": {
            "text/plain": [
              "2"
            ]
          },
          "metadata": {
            "tags": []
          },
          "execution_count": 49
        }
      ]
    },
    {
      "cell_type": "code",
      "metadata": {
        "colab": {
          "base_uri": "https://localhost:8080/"
        },
        "id": "kj_sUoqZQ1tK",
        "outputId": "b7284f1b-1187-4e4d-c111-7c46d09bd970"
      },
      "source": [
        "tpl[1:4]"
      ],
      "execution_count": null,
      "outputs": [
        {
          "output_type": "execute_result",
          "data": {
            "text/plain": [
              "(2, 3, 4)"
            ]
          },
          "metadata": {
            "tags": []
          },
          "execution_count": 51
        }
      ]
    },
    {
      "cell_type": "code",
      "metadata": {
        "id": "l3K3z7oWRHFe"
      },
      "source": [
        "arr=[[1,2,3,4],\r\n",
        "     [5,6,7,8],\r\n",
        "     [9,10,11,12]]"
      ],
      "execution_count": null,
      "outputs": []
    },
    {
      "cell_type": "markdown",
      "metadata": {
        "id": "NxNasYzQRiHq"
      },
      "source": [
        "#### OPERATORS"
      ]
    },
    {
      "cell_type": "code",
      "metadata": {
        "colab": {
          "base_uri": "https://localhost:8080/"
        },
        "id": "8IknsQZVRLcB",
        "outputId": "804b5223-18ee-4663-88c4-97f75e756163"
      },
      "source": [
        "7/5"
      ],
      "execution_count": null,
      "outputs": [
        {
          "output_type": "execute_result",
          "data": {
            "text/plain": [
              "1.4"
            ]
          },
          "metadata": {
            "tags": []
          },
          "execution_count": 55
        }
      ]
    },
    {
      "cell_type": "code",
      "metadata": {
        "colab": {
          "base_uri": "https://localhost:8080/"
        },
        "id": "_TzRNDu2RPez",
        "outputId": "a7b9716b-a398-47ab-86ad-f37fe8fbc82c"
      },
      "source": [
        "#몫\r\n",
        "7//5"
      ],
      "execution_count": null,
      "outputs": [
        {
          "output_type": "execute_result",
          "data": {
            "text/plain": [
              "1"
            ]
          },
          "metadata": {
            "tags": []
          },
          "execution_count": 59
        }
      ]
    },
    {
      "cell_type": "code",
      "metadata": {
        "colab": {
          "base_uri": "https://localhost:8080/"
        },
        "id": "NpRYoaCGR06M",
        "outputId": "80bbd19c-78a5-49eb-e4b5-058861b6755d"
      },
      "source": [
        "#제곱 연산\r\n",
        "2**4"
      ],
      "execution_count": null,
      "outputs": [
        {
          "output_type": "execute_result",
          "data": {
            "text/plain": [
              "16"
            ]
          },
          "metadata": {
            "tags": []
          },
          "execution_count": 60
        }
      ]
    },
    {
      "cell_type": "markdown",
      "metadata": {
        "id": "rwFXeNAZSfnW"
      },
      "source": [
        "### Function"
      ]
    },
    {
      "cell_type": "code",
      "metadata": {
        "id": "p9hCYcoYR-D6"
      },
      "source": [
        "def func():\r\n",
        "  return 'hello'"
      ],
      "execution_count": null,
      "outputs": []
    },
    {
      "cell_type": "code",
      "metadata": {
        "colab": {
          "base_uri": "https://localhost:8080/"
        },
        "id": "XPgftSoBSn7_",
        "outputId": "d440d9b5-987e-4934-8dc3-8fb9a6861009"
      },
      "source": [
        "print(func())"
      ],
      "execution_count": null,
      "outputs": [
        {
          "output_type": "stream",
          "text": [
            "hello\n"
          ],
          "name": "stdout"
        }
      ]
    },
    {
      "cell_type": "markdown",
      "metadata": {
        "id": "3U5x4Zl8S1-p"
      },
      "source": [
        "## 3.Numpy\r\n",
        "행렬을 다루기 쉽게 만들어주는 라이브러리"
      ]
    },
    {
      "cell_type": "code",
      "metadata": {
        "id": "k_zEMeLgSpAk"
      },
      "source": [
        "#include<stdio.h>\r\n",
        "import numpy as np"
      ],
      "execution_count": null,
      "outputs": []
    },
    {
      "cell_type": "markdown",
      "metadata": {
        "id": "hjkWSp70TpR4"
      },
      "source": [
        "####1)행렬 생성"
      ]
    },
    {
      "cell_type": "code",
      "metadata": {
        "id": "Wp2sQvhDTNCj"
      },
      "source": [
        "lst = [[1,2],\r\n",
        "       [3,4]]"
      ],
      "execution_count": null,
      "outputs": []
    },
    {
      "cell_type": "code",
      "metadata": {
        "id": "efXLZD2PTtGr"
      },
      "source": [
        "a = np.array(lst)"
      ],
      "execution_count": null,
      "outputs": []
    },
    {
      "cell_type": "code",
      "metadata": {
        "colab": {
          "base_uri": "https://localhost:8080/"
        },
        "id": "pLXj6QOoTt9v",
        "outputId": "d2659e8f-95dd-4cd2-dd17-595199410b49"
      },
      "source": [
        "type(lst), type(a)"
      ],
      "execution_count": null,
      "outputs": [
        {
          "output_type": "execute_result",
          "data": {
            "text/plain": [
              "(list, numpy.ndarray)"
            ]
          },
          "metadata": {
            "tags": []
          },
          "execution_count": 69
        }
      ]
    },
    {
      "cell_type": "markdown",
      "metadata": {
        "id": "JjeUhoYfUCnK"
      },
      "source": [
        "### 2)행렬 곱\r\n",
        "\r\n",
        "A : [a, b] B : [c, d]\r\n",
        "\r\n",
        "b = c 이어야 행렬 곱이 정의됨\r\n",
        "\r\n",
        "곱하기 결과 AB : [a, d]"
      ]
    },
    {
      "cell_type": "code",
      "metadata": {
        "colab": {
          "base_uri": "https://localhost:8080/"
        },
        "id": "cNpMhbHkTwzS",
        "outputId": "1ee5b392-b179-44e3-9e28-7b2b72d0c7b6"
      },
      "source": [
        "a"
      ],
      "execution_count": null,
      "outputs": [
        {
          "output_type": "execute_result",
          "data": {
            "text/plain": [
              "array([[1, 2],\n",
              "       [3, 4]])"
            ]
          },
          "metadata": {
            "tags": []
          },
          "execution_count": 70
        }
      ]
    },
    {
      "cell_type": "code",
      "metadata": {
        "id": "bUo99tfSVu4k"
      },
      "source": [
        "b = np.array([[5, 6, 7],\r\n",
        "             [8, 9, 10]])"
      ],
      "execution_count": null,
      "outputs": []
    },
    {
      "cell_type": "code",
      "metadata": {
        "colab": {
          "base_uri": "https://localhost:8080/"
        },
        "id": "G05rZ0zbV4z0",
        "outputId": "94848252-de59-44c8-8ab2-33110172894b"
      },
      "source": [
        "b"
      ],
      "execution_count": null,
      "outputs": [
        {
          "output_type": "execute_result",
          "data": {
            "text/plain": [
              "array([[ 5,  6,  7],\n",
              "       [ 8,  9, 10]])"
            ]
          },
          "metadata": {
            "tags": []
          },
          "execution_count": 73
        }
      ]
    },
    {
      "cell_type": "code",
      "metadata": {
        "id": "GG0xMgAoV86j"
      },
      "source": [
        "# a:[2x2] b:[2x3] ab:[2x3]\r\n",
        "ab = np.matmul(a, b)"
      ],
      "execution_count": null,
      "outputs": []
    },
    {
      "cell_type": "code",
      "metadata": {
        "colab": {
          "base_uri": "https://localhost:8080/"
        },
        "id": "xzVkypAeWJrG",
        "outputId": "b08ad0e8-a3fb-40bd-a1a2-9c073ee8e300"
      },
      "source": [
        "ab"
      ],
      "execution_count": null,
      "outputs": [
        {
          "output_type": "execute_result",
          "data": {
            "text/plain": [
              "array([[21, 24, 27],\n",
              "       [47, 54, 61]])"
            ]
          },
          "metadata": {
            "tags": []
          },
          "execution_count": 75
        }
      ]
    },
    {
      "cell_type": "code",
      "metadata": {
        "colab": {
          "base_uri": "https://localhost:8080/"
        },
        "id": "6kfZiknRWKyT",
        "outputId": "2af7c53b-c0ba-4935-9508-cb103b51519d"
      },
      "source": [
        "a @ b"
      ],
      "execution_count": null,
      "outputs": [
        {
          "output_type": "execute_result",
          "data": {
            "text/plain": [
              "array([[21, 24, 27],\n",
              "       [47, 54, 61]])"
            ]
          },
          "metadata": {
            "tags": []
          },
          "execution_count": 76
        }
      ]
    },
    {
      "cell_type": "markdown",
      "metadata": {
        "id": "CM0XRCg0XKBp"
      },
      "source": [
        "###  전치행렬"
      ]
    },
    {
      "cell_type": "code",
      "metadata": {
        "id": "H-NSL0gBW2mn"
      },
      "source": [
        "d = np.transpose(ab)"
      ],
      "execution_count": null,
      "outputs": []
    },
    {
      "cell_type": "code",
      "metadata": {
        "colab": {
          "base_uri": "https://localhost:8080/"
        },
        "id": "c0hOV-xeXtIv",
        "outputId": "fe56e389-6f92-4256-dd34-6b9233b67969"
      },
      "source": [
        "ab"
      ],
      "execution_count": null,
      "outputs": [
        {
          "output_type": "execute_result",
          "data": {
            "text/plain": [
              "array([[21, 24, 27],\n",
              "       [47, 54, 61]])"
            ]
          },
          "metadata": {
            "tags": []
          },
          "execution_count": 80
        }
      ]
    },
    {
      "cell_type": "code",
      "metadata": {
        "colab": {
          "base_uri": "https://localhost:8080/"
        },
        "id": "m_J7bIk2XqkW",
        "outputId": "222da8e3-0a79-4157-8d0f-421f9774f1ed"
      },
      "source": [
        "d"
      ],
      "execution_count": null,
      "outputs": [
        {
          "output_type": "execute_result",
          "data": {
            "text/plain": [
              "array([[21, 47],\n",
              "       [24, 54],\n",
              "       [27, 61]])"
            ]
          },
          "metadata": {
            "tags": []
          },
          "execution_count": 81
        }
      ]
    },
    {
      "cell_type": "markdown",
      "metadata": {
        "id": "UDCPkQvlX-Em"
      },
      "source": [
        "###numpy 문법"
      ]
    },
    {
      "cell_type": "code",
      "metadata": {
        "colab": {
          "base_uri": "https://localhost:8080/"
        },
        "id": "16uoyf82XrIB",
        "outputId": "72e9b2bb-868e-4a62-bc92-2df4a928e8ae"
      },
      "source": [
        "a"
      ],
      "execution_count": null,
      "outputs": [
        {
          "output_type": "execute_result",
          "data": {
            "text/plain": [
              "array([[1, 2],\n",
              "       [3, 4]])"
            ]
          },
          "metadata": {
            "tags": []
          },
          "execution_count": 82
        }
      ]
    },
    {
      "cell_type": "code",
      "metadata": {
        "id": "HaCnQMYbYAWr"
      },
      "source": [
        "a+=1"
      ],
      "execution_count": null,
      "outputs": []
    },
    {
      "cell_type": "code",
      "metadata": {
        "colab": {
          "base_uri": "https://localhost:8080/"
        },
        "id": "PzncOf3kYFkd",
        "outputId": "327f15f1-9a2a-4a10-fdc2-a2e9ec595e28"
      },
      "source": [
        "a"
      ],
      "execution_count": null,
      "outputs": [
        {
          "output_type": "execute_result",
          "data": {
            "text/plain": [
              "array([[2, 3],\n",
              "       [4, 5]])"
            ]
          },
          "metadata": {
            "tags": []
          },
          "execution_count": 84
        }
      ]
    },
    {
      "cell_type": "markdown",
      "metadata": {
        "id": "yHSAX1lSYe7f"
      },
      "source": [
        "### 행렬 인덱싱"
      ]
    },
    {
      "cell_type": "code",
      "metadata": {
        "id": "FxgBdGGPYeXn"
      },
      "source": [
        "arr = [[1, 2, 3, 4],\r\n",
        "       [5,6,7,8],\r\n",
        "       [9,10,11,12]]"
      ],
      "execution_count": null,
      "outputs": []
    },
    {
      "cell_type": "code",
      "metadata": {
        "id": "cDpvP1tfYn67"
      },
      "source": [
        "A = np.random.randint(1, 100, (4, 5))\r\n",
        "## 4행 5열"
      ],
      "execution_count": null,
      "outputs": []
    },
    {
      "cell_type": "code",
      "metadata": {
        "colab": {
          "base_uri": "https://localhost:8080/"
        },
        "id": "9HkYRM3FYpak",
        "outputId": "146a4fbf-1e2e-42e4-a5d9-17620b6275a9"
      },
      "source": [
        "A"
      ],
      "execution_count": null,
      "outputs": [
        {
          "output_type": "execute_result",
          "data": {
            "text/plain": [
              "array([[ 9, 77, 46, 48, 97],\n",
              "       [83, 27, 49, 28, 97],\n",
              "       [32, 66, 76, 53, 59],\n",
              "       [28, 14, 22, 16, 34]])"
            ]
          },
          "metadata": {
            "tags": []
          },
          "execution_count": 93
        }
      ]
    },
    {
      "cell_type": "code",
      "metadata": {
        "colab": {
          "base_uri": "https://localhost:8080/"
        },
        "id": "vZl7sd4bYqbV",
        "outputId": "e6dd4b88-278f-4be2-f287-34931fe39316"
      },
      "source": [
        "A[1,3]"
      ],
      "execution_count": null,
      "outputs": [
        {
          "output_type": "execute_result",
          "data": {
            "text/plain": [
              "28"
            ]
          },
          "metadata": {
            "tags": []
          },
          "execution_count": 94
        }
      ]
    },
    {
      "cell_type": "code",
      "metadata": {
        "colab": {
          "base_uri": "https://localhost:8080/"
        },
        "id": "sxnpPAnsZP4q",
        "outputId": "8d63438d-c079-4256-fb1f-405b0ada89c2"
      },
      "source": [
        "A[2:4, 0:4]\r\n",
        "## ':' 앞의 것은 들어가고 ':' 뒤의것은 안들어감!"
      ],
      "execution_count": null,
      "outputs": [
        {
          "output_type": "execute_result",
          "data": {
            "text/plain": [
              "array([[32, 66, 76, 53],\n",
              "       [28, 14, 22, 16]])"
            ]
          },
          "metadata": {
            "tags": []
          },
          "execution_count": 98
        }
      ]
    },
    {
      "cell_type": "code",
      "metadata": {
        "colab": {
          "base_uri": "https://localhost:8080/"
        },
        "id": "qWocsV1DZdeT",
        "outputId": "c27e4fdf-7d23-4a36-803d-8dea194217af"
      },
      "source": [
        "A[:, 1:3]"
      ],
      "execution_count": null,
      "outputs": [
        {
          "output_type": "execute_result",
          "data": {
            "text/plain": [
              "array([[77, 46],\n",
              "       [27, 49],\n",
              "       [66, 76],\n",
              "       [14, 22]])"
            ]
          },
          "metadata": {
            "tags": []
          },
          "execution_count": 100
        }
      ]
    },
    {
      "cell_type": "code",
      "metadata": {
        "colab": {
          "base_uri": "https://localhost:8080/"
        },
        "id": "1rU0wdK-ZomT",
        "outputId": "a33e6fd8-b614-40fe-8423-33cfac7f7e05"
      },
      "source": [
        "A[:, [1, 3]]"
      ],
      "execution_count": null,
      "outputs": [
        {
          "output_type": "execute_result",
          "data": {
            "text/plain": [
              "array([[77, 48],\n",
              "       [27, 28],\n",
              "       [66, 53],\n",
              "       [14, 16]])"
            ]
          },
          "metadata": {
            "tags": []
          },
          "execution_count": 101
        }
      ]
    },
    {
      "cell_type": "code",
      "metadata": {
        "colab": {
          "base_uri": "https://localhost:8080/"
        },
        "id": "ZXDMLmD-ZxJZ",
        "outputId": "4024e18c-8289-4bef-a72f-02439f31f85e"
      },
      "source": [
        "A[1:, 2:]#1행부터 마지막 행까지, 2열부터 마지막 열까지"
      ],
      "execution_count": null,
      "outputs": [
        {
          "output_type": "execute_result",
          "data": {
            "text/plain": [
              "array([[49, 28, 97],\n",
              "       [76, 53, 59],\n",
              "       [22, 16, 34]])"
            ]
          },
          "metadata": {
            "tags": []
          },
          "execution_count": 102
        }
      ]
    },
    {
      "cell_type": "markdown",
      "metadata": {
        "id": "sAZCPjrfa10X"
      },
      "source": [
        "## 4. Pandas로 데이터 읽기\r\n",
        "csv : comma separated values\r\n",
        "```\r\n",
        "1,2,3\r\n",
        "4,5,6\r\n",
        "```\r\n"
      ]
    },
    {
      "cell_type": "code",
      "metadata": {
        "id": "K2a2zMPBaKiT"
      },
      "source": [
        "import pandas as pd"
      ],
      "execution_count": null,
      "outputs": []
    },
    {
      "cell_type": "code",
      "metadata": {
        "id": "1AnSlP1fa0tS"
      },
      "source": [
        "path = '/content/data_lab1.txt'\r\n",
        "columns = ['x', 'y']"
      ],
      "execution_count": null,
      "outputs": []
    },
    {
      "cell_type": "code",
      "metadata": {
        "id": "CjqDsprZcMiI"
      },
      "source": [
        "data = pd.read_csv(path, sep=' ',names=columns)\r\n",
        "#csv라는 형식의 파일을 읽는다"
      ],
      "execution_count": null,
      "outputs": []
    },
    {
      "cell_type": "code",
      "metadata": {
        "colab": {
          "base_uri": "https://localhost:8080/"
        },
        "id": "bKYpCjF5c-cm",
        "outputId": "559e7675-9abf-4898-b964-6d716d478d64"
      },
      "source": [
        "type(data)"
      ],
      "execution_count": null,
      "outputs": [
        {
          "output_type": "execute_result",
          "data": {
            "text/plain": [
              "pandas.core.frame.DataFrame"
            ]
          },
          "metadata": {
            "tags": []
          },
          "execution_count": 109
        }
      ]
    },
    {
      "cell_type": "code",
      "metadata": {
        "colab": {
          "base_uri": "https://localhost:8080/",
          "height": 402
        },
        "id": "H8xPBGrUdNEF",
        "outputId": "7815f8be-13db-4ab2-e891-ba3607241292"
      },
      "source": [
        "data"
      ],
      "execution_count": null,
      "outputs": [
        {
          "output_type": "execute_result",
          "data": {
            "text/html": [
              "<div>\n",
              "<style scoped>\n",
              "    .dataframe tbody tr th:only-of-type {\n",
              "        vertical-align: middle;\n",
              "    }\n",
              "\n",
              "    .dataframe tbody tr th {\n",
              "        vertical-align: top;\n",
              "    }\n",
              "\n",
              "    .dataframe thead th {\n",
              "        text-align: right;\n",
              "    }\n",
              "</style>\n",
              "<table border=\"1\" class=\"dataframe\">\n",
              "  <thead>\n",
              "    <tr style=\"text-align: right;\">\n",
              "      <th></th>\n",
              "      <th>x</th>\n",
              "      <th>y</th>\n",
              "    </tr>\n",
              "  </thead>\n",
              "  <tbody>\n",
              "    <tr>\n",
              "      <th>0</th>\n",
              "      <td>0.000000</td>\n",
              "      <td>0.685785</td>\n",
              "    </tr>\n",
              "    <tr>\n",
              "      <th>1</th>\n",
              "      <td>0.020202</td>\n",
              "      <td>1.671735</td>\n",
              "    </tr>\n",
              "    <tr>\n",
              "      <th>2</th>\n",
              "      <td>0.040404</td>\n",
              "      <td>2.406276</td>\n",
              "    </tr>\n",
              "    <tr>\n",
              "      <th>3</th>\n",
              "      <td>0.060606</td>\n",
              "      <td>0.375167</td>\n",
              "    </tr>\n",
              "    <tr>\n",
              "      <th>4</th>\n",
              "      <td>0.080808</td>\n",
              "      <td>4.355949</td>\n",
              "    </tr>\n",
              "    <tr>\n",
              "      <th>...</th>\n",
              "      <td>...</td>\n",
              "      <td>...</td>\n",
              "    </tr>\n",
              "    <tr>\n",
              "      <th>95</th>\n",
              "      <td>1.919192</td>\n",
              "      <td>19.975148</td>\n",
              "    </tr>\n",
              "    <tr>\n",
              "      <th>96</th>\n",
              "      <td>1.939394</td>\n",
              "      <td>20.358975</td>\n",
              "    </tr>\n",
              "    <tr>\n",
              "      <th>97</th>\n",
              "      <td>1.959596</td>\n",
              "      <td>22.849086</td>\n",
              "    </tr>\n",
              "    <tr>\n",
              "      <th>98</th>\n",
              "      <td>1.979798</td>\n",
              "      <td>19.977494</td>\n",
              "    </tr>\n",
              "    <tr>\n",
              "      <th>99</th>\n",
              "      <td>2.000000</td>\n",
              "      <td>20.861562</td>\n",
              "    </tr>\n",
              "  </tbody>\n",
              "</table>\n",
              "<p>100 rows × 2 columns</p>\n",
              "</div>"
            ],
            "text/plain": [
              "           x          y\n",
              "0   0.000000   0.685785\n",
              "1   0.020202   1.671735\n",
              "2   0.040404   2.406276\n",
              "3   0.060606   0.375167\n",
              "4   0.080808   4.355949\n",
              "..       ...        ...\n",
              "95  1.919192  19.975148\n",
              "96  1.939394  20.358975\n",
              "97  1.959596  22.849086\n",
              "98  1.979798  19.977494\n",
              "99  2.000000  20.861562\n",
              "\n",
              "[100 rows x 2 columns]"
            ]
          },
          "metadata": {
            "tags": []
          },
          "execution_count": 110
        }
      ]
    },
    {
      "cell_type": "code",
      "metadata": {
        "colab": {
          "base_uri": "https://localhost:8080/"
        },
        "id": "kUtDA1ZsdVb_",
        "outputId": "fdfd2db0-3583-432d-8cdd-dc189c1b1a38"
      },
      "source": [
        "type(data['x'])"
      ],
      "execution_count": null,
      "outputs": [
        {
          "output_type": "execute_result",
          "data": {
            "text/plain": [
              "pandas.core.series.Series"
            ]
          },
          "metadata": {
            "tags": []
          },
          "execution_count": 111
        }
      ]
    },
    {
      "cell_type": "code",
      "metadata": {
        "colab": {
          "base_uri": "https://localhost:8080/"
        },
        "id": "0FWowwk_do-3",
        "outputId": "d2dc5b63-2025-40ce-8b3d-ce0b3c4193a7"
      },
      "source": [
        "data['x']"
      ],
      "execution_count": null,
      "outputs": [
        {
          "output_type": "execute_result",
          "data": {
            "text/plain": [
              "0     0.000000\n",
              "1     0.020202\n",
              "2     0.040404\n",
              "3     0.060606\n",
              "4     0.080808\n",
              "        ...   \n",
              "95    1.919192\n",
              "96    1.939394\n",
              "97    1.959596\n",
              "98    1.979798\n",
              "99    2.000000\n",
              "Name: x, Length: 100, dtype: float64"
            ]
          },
          "metadata": {
            "tags": []
          },
          "execution_count": 112
        }
      ]
    },
    {
      "cell_type": "code",
      "metadata": {
        "id": "PhQdLPF0dqiU"
      },
      "source": [
        "x = np.asarray(data['x'])\r\n",
        "y = np.asarray(data['y'])"
      ],
      "execution_count": null,
      "outputs": []
    },
    {
      "cell_type": "code",
      "metadata": {
        "colab": {
          "base_uri": "https://localhost:8080/"
        },
        "id": "dUzny15vd5c2",
        "outputId": "5a73fdc4-5c21-4c2a-f44b-74447860309c"
      },
      "source": [
        "x"
      ],
      "execution_count": null,
      "outputs": [
        {
          "output_type": "execute_result",
          "data": {
            "text/plain": [
              "array([0.        , 0.02020202, 0.04040404, 0.06060606, 0.08080808,\n",
              "       0.1010101 , 0.12121212, 0.14141414, 0.16161616, 0.18181818,\n",
              "       0.2020202 , 0.22222222, 0.24242424, 0.26262626, 0.28282828,\n",
              "       0.3030303 , 0.32323232, 0.34343434, 0.36363636, 0.38383838,\n",
              "       0.4040404 , 0.42424242, 0.44444444, 0.46464646, 0.48484848,\n",
              "       0.50505051, 0.52525253, 0.54545455, 0.56565657, 0.58585859,\n",
              "       0.60606061, 0.62626263, 0.64646465, 0.66666667, 0.68686869,\n",
              "       0.70707071, 0.72727273, 0.74747475, 0.76767677, 0.78787879,\n",
              "       0.80808081, 0.82828283, 0.84848485, 0.86868687, 0.88888889,\n",
              "       0.90909091, 0.92929293, 0.94949495, 0.96969697, 0.98989899,\n",
              "       1.01010101, 1.03030303, 1.05050505, 1.07070707, 1.09090909,\n",
              "       1.11111111, 1.13131313, 1.15151515, 1.17171717, 1.19191919,\n",
              "       1.21212121, 1.23232323, 1.25252525, 1.27272727, 1.29292929,\n",
              "       1.31313131, 1.33333333, 1.35353535, 1.37373737, 1.39393939,\n",
              "       1.41414141, 1.43434343, 1.45454545, 1.47474747, 1.49494949,\n",
              "       1.51515152, 1.53535354, 1.55555556, 1.57575758, 1.5959596 ,\n",
              "       1.61616162, 1.63636364, 1.65656566, 1.67676768, 1.6969697 ,\n",
              "       1.71717172, 1.73737374, 1.75757576, 1.77777778, 1.7979798 ,\n",
              "       1.81818182, 1.83838384, 1.85858586, 1.87878788, 1.8989899 ,\n",
              "       1.91919192, 1.93939394, 1.95959596, 1.97979798, 2.        ])"
            ]
          },
          "metadata": {
            "tags": []
          },
          "execution_count": 114
        }
      ]
    },
    {
      "cell_type": "code",
      "metadata": {
        "colab": {
          "base_uri": "https://localhost:8080/"
        },
        "id": "gIFiBLgsd7vK",
        "outputId": "4b07fb38-4edd-40de-edc4-110b768a0296"
      },
      "source": [
        "y"
      ],
      "execution_count": null,
      "outputs": [
        {
          "output_type": "execute_result",
          "data": {
            "text/plain": [
              "array([ 0.68578517,  1.67173466,  2.40627588,  0.3751675 ,  4.35594913,\n",
              "        2.10969915,  2.79043498,  3.10140969,  2.27021292,  3.04895187,\n",
              "        1.36062133,  3.35708102,  2.16839923,  0.28828214,  1.74450885,\n",
              "        2.41744988,  3.80594814,  3.80438108,  2.16199538,  2.42897795,\n",
              "       -0.44996801, -0.53637656,  4.87055098,  4.03894968,  3.73009408,\n",
              "        2.70617406,  4.0571623 ,  4.50248236,  6.06706501,  3.12170854,\n",
              "        5.31650846,  2.30738535,  5.36486812,  4.06768674,  6.78099526,\n",
              "        6.79484468,  7.32837586,  4.54617582,  6.66892731,  7.19489156,\n",
              "        2.03825055,  6.66442701, 10.03002174,  8.67924421,  7.68844157,\n",
              "        6.76491835,  8.66236511,  6.06810032,  4.36557123,  6.20852952,\n",
              "        9.76477405,  6.40222252, 10.58672732, 11.65365249, 10.83726014,\n",
              "        7.63963357, 10.09047527, 11.06861667, 10.19156167, 10.16350382,\n",
              "       10.96861744,  8.99116146, 11.54593506, 12.77806509, 11.33858064,\n",
              "       12.54740803,  8.15455114, 13.34701127, 13.62986868, 12.79246749,\n",
              "        9.89197943, 11.6865094 , 11.53848848, 12.32661975, 13.16357636,\n",
              "       13.40694922, 17.57099426, 14.84506798, 14.77371664, 16.22418102,\n",
              "       16.96656139, 15.94898632, 17.14578365, 17.41877791, 16.69669184,\n",
              "       18.04152905, 19.84652478, 15.49139032, 17.60194456, 17.17544837,\n",
              "       18.55359153, 19.44156575, 21.326892  , 18.6737602 , 22.59004404,\n",
              "       19.97514836, 20.35897525, 22.84908603, 19.97749417, 20.86156222])"
            ]
          },
          "metadata": {
            "tags": []
          },
          "execution_count": 115
        }
      ]
    },
    {
      "cell_type": "code",
      "metadata": {
        "colab": {
          "base_uri": "https://localhost:8080/"
        },
        "id": "QPEzXapld8gP",
        "outputId": "4740c7fc-4f65-4b74-9f37-c467244cd733"
      },
      "source": [
        "x.shape, y.shape"
      ],
      "execution_count": null,
      "outputs": [
        {
          "output_type": "execute_result",
          "data": {
            "text/plain": [
              "((100,), (100,))"
            ]
          },
          "metadata": {
            "tags": []
          },
          "execution_count": 116
        }
      ]
    },
    {
      "cell_type": "code",
      "metadata": {
        "colab": {
          "base_uri": "https://localhost:8080/"
        },
        "id": "XL8inzzleAAU",
        "outputId": "711ef7a9-0969-4327-8083-502820ea9ee9"
      },
      "source": [
        "ab.shape"
      ],
      "execution_count": null,
      "outputs": [
        {
          "output_type": "execute_result",
          "data": {
            "text/plain": [
              "(2, 3)"
            ]
          },
          "metadata": {
            "tags": []
          },
          "execution_count": 117
        }
      ]
    },
    {
      "cell_type": "markdown",
      "metadata": {
        "id": "K5_4BevceV5q"
      },
      "source": [
        "## 5. Matplotlib으로 시각화하기\r\n",
        "MATLAB에서 그래프 그리는 문법을 거의 그대로 파이썬으로 가져온 라이브러리"
      ]
    },
    {
      "cell_type": "code",
      "metadata": {
        "id": "MetJmm4geDbq"
      },
      "source": [
        "import matplotlib.pyplot as plt"
      ],
      "execution_count": null,
      "outputs": []
    },
    {
      "cell_type": "code",
      "metadata": {
        "colab": {
          "base_uri": "https://localhost:8080/",
          "height": 282
        },
        "id": "Z9VNiYa9efyp",
        "outputId": "fb3db9e7-1261-4235-df0b-29c83a1650ef"
      },
      "source": [
        "plt.plot(x, y)"
      ],
      "execution_count": null,
      "outputs": [
        {
          "output_type": "execute_result",
          "data": {
            "text/plain": [
              "[<matplotlib.lines.Line2D at 0x7f630fead710>]"
            ]
          },
          "metadata": {
            "tags": []
          },
          "execution_count": 120
        },
        {
          "output_type": "display_data",
          "data": {
            "image/png": "[encoded data removed]",
            "text/plain": [
              "<Figure size 432x288 with 1 Axes>"
            ]
          },
          "metadata": {
            "tags": [],
            "needs_background": "light"
          }
        }
      ]
    },
    {
      "cell_type": "code",
      "metadata": {
        "colab": {
          "base_uri": "https://localhost:8080/",
          "height": 282
        },
        "id": "U4PmABeSeyRQ",
        "outputId": "6127d54c-9064-4eee-d279-7cf08670c57c"
      },
      "source": [
        "plt.plot(x,y, 'ro')#red 빨간색 동그라미"
      ],
      "execution_count": null,
      "outputs": [
        {
          "output_type": "execute_result",
          "data": {
            "text/plain": [
              "[<matplotlib.lines.Line2D at 0x7f630f9f92b0>]"
            ]
          },
          "metadata": {
            "tags": []
          },
          "execution_count": 121
        },
        {
          "output_type": "display_data",
          "data": {
            "image/png": "[encoded data removed]",
            "text/plain": [
              "<Figure size 432x288 with 1 Axes>"
            ]
          },
          "metadata": {
            "tags": [],
            "needs_background": "light"
          }
        }
      ]
    },
    {
      "cell_type": "code",
      "metadata": {
        "colab": {
          "base_uri": "https://localhost:8080/",
          "height": 282
        },
        "id": "6T_HyTDffI0d",
        "outputId": "f81d17e1-da23-46ba-c1c2-a566bf279ee4"
      },
      "source": [
        "plt.plot(x, y, 'b.')# 파란색 점"
      ],
      "execution_count": null,
      "outputs": [
        {
          "output_type": "execute_result",
          "data": {
            "text/plain": [
              "[<matplotlib.lines.Line2D at 0x7f630f9467f0>]"
            ]
          },
          "metadata": {
            "tags": []
          },
          "execution_count": 123
        },
        {
          "output_type": "display_data",
          "data": {
            "image/png": "[encoded data removed]",
            "text/plain": [
              "<Figure size 432x288 with 1 Axes>"
            ]
          },
          "metadata": {
            "tags": [],
            "needs_background": "light"
          }
        }
      ]
    },
    {
      "cell_type": "code",
      "metadata": {
        "colab": {
          "base_uri": "https://localhost:8080/",
          "height": 282
        },
        "id": "Lr3vyJRLfMQz",
        "outputId": "b775b18f-eaf7-41ea-9cd8-5194208fd0ee"
      },
      "source": [
        "plt.plot(x, y, 'k*')# 검은색 별"
      ],
      "execution_count": null,
      "outputs": [
        {
          "output_type": "execute_result",
          "data": {
            "text/plain": [
              "[<matplotlib.lines.Line2D at 0x7f630f8aa6a0>]"
            ]
          },
          "metadata": {
            "tags": []
          },
          "execution_count": 124
        },
        {
          "output_type": "display_data",
          "data": {
            "image/png": "[encoded data removed]",
            "text/plain": [
              "<Figure size 432x288 with 1 Axes>"
            ]
          },
          "metadata": {
            "tags": [],
            "needs_background": "light"
          }
        }
      ]
    },
    {
      "cell_type": "code",
      "metadata": {
        "colab": {
          "base_uri": "https://localhost:8080/",
          "height": 282
        },
        "id": "h88MsPjHfVom",
        "outputId": "6f238987-5630-4021-dc4d-e61b78b21d02"
      },
      "source": [
        "plt.plot(x, y, 'g-')# 초록색 선"
      ],
      "execution_count": null,
      "outputs": [
        {
          "output_type": "execute_result",
          "data": {
            "text/plain": [
              "[<matplotlib.lines.Line2D at 0x7f6310b86550>]"
            ]
          },
          "metadata": {
            "tags": []
          },
          "execution_count": 132
        },
        {
          "output_type": "display_data",
          "data": {
            "image/png": "[encoded data removed]",
            "text/plain": [
              "<Figure size 432x288 with 1 Axes>"
            ]
          },
          "metadata": {
            "tags": [],
            "needs_background": "light"
          }
        }
      ]
    },
    {
      "cell_type": "code",
      "metadata": {
        "colab": {
          "base_uri": "https://localhost:8080/",
          "height": 265
        },
        "id": "eAxiVrC6fZKT",
        "outputId": "0e878173-b059-411e-da24-0674034e3be6"
      },
      "source": [
        "plt.plot(x, y, 'k*')# 검은색 별\r\n",
        "plt.show()\r\n",
        "# 위에 글자 없어짐"
      ],
      "execution_count": null,
      "outputs": [
        {
          "output_type": "display_data",
          "data": {
            "image/png": "[encoded data removed]",
            "text/plain": [
              "<Figure size 432x288 with 1 Axes>"
            ]
          },
          "metadata": {
            "tags": [],
            "needs_background": "light"
          }
        }
      ]
    },
    {
      "cell_type": "code",
      "metadata": {
        "colab": {
          "base_uri": "https://localhost:8080/",
          "height": 295
        },
        "id": "K9kEs0GTfyXK",
        "outputId": "a9680675-a0b3-4c6e-96e1-cac4337d3cf9"
      },
      "source": [
        "plt.plot(x, y, 'y^', label='abcd')\r\n",
        "\r\n",
        "#축 제목\r\n",
        "plt.xlabel('x')\r\n",
        "plt.ylabel('y')\r\n",
        "\r\n",
        "#그래프 제목\r\n",
        "plt.title('Plot of data')\r\n",
        "\r\n",
        "#범례 추가\r\n",
        "plt.legend(loc='lower right')\r\n",
        "#loc='lower right'괄호안에 추가시 위치 조정 가능\r\n",
        "#없으면 그냥 왼쪽 위에 위치함\r\n",
        "\r\n",
        "plt.show()"
      ],
      "execution_count": null,
      "outputs": [
        {
          "output_type": "display_data",
          "data": {
            "image/png": "[encoded data removed]",
            "text/plain": [
              "<Figure size 432x288 with 1 Axes>"
            ]
          },
          "metadata": {
            "tags": [],
            "needs_background": "light"
          }
        }
      ]
    },
    {
      "cell_type": "code",
      "metadata": {
        "id": "WKjFxk_Nf_kK"
      },
      "source": [
        ""
      ],
      "execution_count": null,
      "outputs": []
    }
  ]
}
