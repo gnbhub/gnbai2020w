{
  "nbformat": 4,
  "nbformat_minor": 0,
  "metadata": {
    "colab": {
      "name": "GNBAi스터디1주차.ipynb",
      "provenance": [],
      "collapsed_sections": [],
      "authorship_tag": "ABX9TyM1PWS89i7McPQAkJrP1Tq5",
      "include_colab_link": true
    },
    "kernelspec": {
      "name": "python3",
      "display_name": "Python 3"
    }
  },
  "cells": [
    {
      "cell_type": "markdown",
      "metadata": {
        "id": "view-in-github",
        "colab_type": "text"
      },
      "source": [
        "<a href=\"https://colab.research.google.com/github/gnbhub/gnbai2020w/blob/main/week1/1%EC%A3%BC%EC%B0%A8_%EA%B9%80%EB%AF%BC%EC%84%9D.ipynb\" target=\"_parent\"><img src=\"https://colab.research.google.com/assets/colab-badge.svg\" alt=\"Open In Colab\"/></a>"
      ]
    },
    {
      "cell_type": "markdown",
      "metadata": {
        "id": "5YFcW8J0JdCB"
      },
      "source": [
        "# 제목 \r\n",
        "## 하위 제목\r\n",
        "### 그 밑의 제목\r\n",
        "\r\n",
        "줄바꿈이\r\n",
        "안됩니다. 즉 엔터를 쳐도 안된다\r\n",
        "\r\n",
        "엔터 두번 = 줄바꿈\r\n",
        "\r\n",
        "```\r\n",
        "코드블럭(역따옴표3개로 감싸준다)\r\n",
        "```\r\n",
        "\r\n",
        "\r\n",
        "\r\n",
        "$$\r\n",
        "f(x) = 2x 수식(달러 2개)\r\n",
        "$$\r\n"
      ]
    },
    {
      "cell_type": "markdown",
      "metadata": {
        "id": "aAoFOjXbJBx9"
      },
      "source": [
        "#GNB AI 스터디 1주차\r\n",
        "\r\n",
        "구글에서 제공하는 주피터 노트북 클라우드 서비스"
      ]
    },
    {
      "cell_type": "code",
      "metadata": {
        "id": "PXFgwedUKAZN"
      },
      "source": [
        ""
      ],
      "execution_count": null,
      "outputs": []
    },
    {
      "cell_type": "markdown",
      "metadata": {
        "id": "E4AcUwmLKqIl"
      },
      "source": [
        "##Python 기본 문법"
      ]
    },
    {
      "cell_type": "code",
      "metadata": {
        "colab": {
          "base_uri": "https://localhost:8080/"
        },
        "id": "Tx6tmDhqIk45",
        "outputId": "22a97d5a-e4c3-4065-c91c-b10e0dc471de"
      },
      "source": [
        "print(\"hello world\")\r\n",
        "## 따옴표 구별 없다"
      ],
      "execution_count": null,
      "outputs": [
        {
          "output_type": "stream",
          "text": [
            "hello world\n"
          ],
          "name": "stdout"
        }
      ]
    },
    {
      "cell_type": "code",
      "metadata": {
        "colab": {
          "base_uri": "https://localhost:8080/"
        },
        "id": "DiN17gO9K714",
        "outputId": "188f1d33-3851-4eee-be14-8a5468df63f4"
      },
      "source": [
        "for i in range(10):\r\n",
        "  print(i)"
      ],
      "execution_count": null,
      "outputs": [
        {
          "output_type": "stream",
          "text": [
            "0\n",
            "1\n",
            "2\n",
            "3\n",
            "4\n",
            "5\n",
            "6\n",
            "7\n",
            "8\n",
            "9\n"
          ],
          "name": "stdout"
        }
      ]
    },
    {
      "cell_type": "code",
      "metadata": {
        "colab": {
          "base_uri": "https://localhost:8080/"
        },
        "id": "UaWCi0usLLk4",
        "outputId": "00d01634-b15e-4b07-8eb4-b1cdb4c8b9e2"
      },
      "source": [
        "n = 10\r\n",
        "if n > 5:\r\n",
        "  print('5보다큽니다')\r\n",
        "elif n==5:\r\n",
        "  print('5입니다')\r\n",
        "else:\r\n",
        "   print('5보다 작다')"
      ],
      "execution_count": null,
      "outputs": [
        {
          "output_type": "stream",
          "text": [
            "5보다큽니다\n"
          ],
          "name": "stdout"
        }
      ]
    },
    {
      "cell_type": "code",
      "metadata": {
        "colab": {
          "base_uri": "https://localhost:8080/"
        },
        "id": "iBVnGEWkLsZV",
        "outputId": "cc8ef3d8-d63f-4654-b262-5005cc369bf5"
      },
      "source": [
        "for i in range(10):\r\n",
        "  print(i)"
      ],
      "execution_count": null,
      "outputs": [
        {
          "output_type": "stream",
          "text": [
            "0\n",
            "1\n",
            "2\n",
            "3\n",
            "4\n",
            "5\n",
            "6\n",
            "7\n",
            "8\n",
            "9\n"
          ],
          "name": "stdout"
        }
      ]
    },
    {
      "cell_type": "code",
      "metadata": {
        "colab": {
          "base_uri": "https://localhost:8080/"
        },
        "id": "i2V0gx3pMSls",
        "outputId": "d9dafcdb-c596-457c-93ed-082f8c974faa"
      },
      "source": [
        "A = list(range(10))\r\n",
        "A\r\n",
        "print(type(range(10)))"
      ],
      "execution_count": null,
      "outputs": [
        {
          "output_type": "stream",
          "text": [
            "<class 'range'>\n"
          ],
          "name": "stdout"
        }
      ]
    },
    {
      "cell_type": "code",
      "metadata": {
        "colab": {
          "base_uri": "https://localhost:8080/"
        },
        "id": "v0uiw2dXMxFv",
        "outputId": "8900e98a-3897-4034-efc7-f3277620e680"
      },
      "source": [
        "for a in A:\r\n",
        "  print(a,end = ' ')"
      ],
      "execution_count": null,
      "outputs": [
        {
          "output_type": "stream",
          "text": [
            "0 1 2 3 4 5 6 7 8 9 "
          ],
          "name": "stdout"
        }
      ]
    },
    {
      "cell_type": "code",
      "metadata": {
        "colab": {
          "base_uri": "https://localhost:8080/"
        },
        "id": "iYafEQKLM3GN",
        "outputId": "e7e2d31c-1118-4b12-bfc9-dec67a49d253"
      },
      "source": [
        "for i in range(10):\r\n",
        "  print(i,end='')"
      ],
      "execution_count": null,
      "outputs": [
        {
          "output_type": "stream",
          "text": [
            "0123456789"
          ],
          "name": "stdout"
        }
      ]
    },
    {
      "cell_type": "code",
      "metadata": {
        "colab": {
          "base_uri": "https://localhost:8080/"
        },
        "id": "rZT4qJ29Ne94",
        "outputId": "dbc2a1f9-4e91-4bc3-cd7d-f38957d3c0fa"
      },
      "source": [
        "i=0\r\n",
        "while i<10:\r\n",
        "  print(i,end=\"\")\r\n",
        "  i +=1"
      ],
      "execution_count": null,
      "outputs": [
        {
          "output_type": "stream",
          "text": [
            "0123456789"
          ],
          "name": "stdout"
        }
      ]
    },
    {
      "cell_type": "markdown",
      "metadata": {
        "id": "P6pUrfyrOQqb"
      },
      "source": [
        "####Containers"
      ]
    },
    {
      "cell_type": "markdown",
      "metadata": {
        "id": "rv4v_2wGOVkD"
      },
      "source": [
        "####list"
      ]
    },
    {
      "cell_type": "code",
      "metadata": {
        "colab": {
          "base_uri": "https://localhost:8080/"
        },
        "id": "M35fK-nHOHA8",
        "outputId": "b386b827-1bd5-4070-dcae-716ad7750683"
      },
      "source": [
        "lst = [1,2,3,4,5]\r\n",
        "print(type(lst))"
      ],
      "execution_count": null,
      "outputs": [
        {
          "output_type": "stream",
          "text": [
            "<class 'list'>\n"
          ],
          "name": "stdout"
        }
      ]
    },
    {
      "cell_type": "code",
      "metadata": {
        "colab": {
          "base_uri": "https://localhost:8080/"
        },
        "id": "NnEpFpDIOagb",
        "outputId": "cb778b40-0dde-46e8-f492-4af0f8702a4e"
      },
      "source": [
        "lst"
      ],
      "execution_count": null,
      "outputs": [
        {
          "output_type": "execute_result",
          "data": {
            "text/plain": [
              "[1, 2, 3, 4, 5]"
            ]
          },
          "metadata": {
            "tags": []
          },
          "execution_count": 104
        }
      ]
    },
    {
      "cell_type": "code",
      "metadata": {
        "colab": {
          "base_uri": "https://localhost:8080/"
        },
        "id": "uqJbfQ_WOb0E",
        "outputId": "1e374ce5-f7d8-4026-82f7-a3eca0841afb"
      },
      "source": [
        "a= [1,'abcd',3.14, [3,4,5],(6,7)]\r\n",
        "a"
      ],
      "execution_count": null,
      "outputs": [
        {
          "output_type": "execute_result",
          "data": {
            "text/plain": [
              "[1, 'abcd', 3.14, [3, 4, 5], (6, 7)]"
            ]
          },
          "metadata": {
            "tags": []
          },
          "execution_count": 105
        }
      ]
    },
    {
      "cell_type": "code",
      "metadata": {
        "colab": {
          "base_uri": "https://localhost:8080/"
        },
        "id": "kDiruEXGPAlr",
        "outputId": "c1ab4e48-ca4c-4dcf-c638-1370f90c5476"
      },
      "source": [
        "print(a)"
      ],
      "execution_count": null,
      "outputs": [
        {
          "output_type": "stream",
          "text": [
            "[1, 'abcd', 3.14, [3, 4, 5], (6, 7)]\n"
          ],
          "name": "stdout"
        }
      ]
    },
    {
      "cell_type": "code",
      "metadata": {
        "id": "FLbG92vaPDca"
      },
      "source": [
        "b = [[1,2],\r\n",
        "     [3,4]]"
      ],
      "execution_count": null,
      "outputs": []
    },
    {
      "cell_type": "code",
      "metadata": {
        "colab": {
          "base_uri": "https://localhost:8080/"
        },
        "id": "fh8wb-1NPJRx",
        "outputId": "c59eecf3-b155-4cc4-f52f-36924f04cb29"
      },
      "source": [
        "b"
      ],
      "execution_count": null,
      "outputs": [
        {
          "output_type": "execute_result",
          "data": {
            "text/plain": [
              "[[1, 2], [3, 4]]"
            ]
          },
          "metadata": {
            "tags": []
          },
          "execution_count": 108
        }
      ]
    },
    {
      "cell_type": "code",
      "metadata": {
        "id": "izOmEvgePJ4v"
      },
      "source": [
        "a.append(10)\r\n"
      ],
      "execution_count": null,
      "outputs": []
    },
    {
      "cell_type": "code",
      "metadata": {
        "colab": {
          "base_uri": "https://localhost:8080/"
        },
        "id": "SQFTYud_PPGE",
        "outputId": "39b159bd-9fc9-4469-b0c2-a76f2a4dc3d5"
      },
      "source": [
        "a"
      ],
      "execution_count": null,
      "outputs": [
        {
          "output_type": "execute_result",
          "data": {
            "text/plain": [
              "[1, 'abcd', 3.14, [3, 4, 5], (6, 7), 10]"
            ]
          },
          "metadata": {
            "tags": []
          },
          "execution_count": 110
        }
      ]
    },
    {
      "cell_type": "code",
      "metadata": {
        "colab": {
          "base_uri": "https://localhost:8080/"
        },
        "id": "EDmpnXatPPWT",
        "outputId": "aba5cdf6-a2e8-4ffc-a9b7-71a4d1e0ed6f"
      },
      "source": [
        "a.pop()"
      ],
      "execution_count": null,
      "outputs": [
        {
          "output_type": "execute_result",
          "data": {
            "text/plain": [
              "10"
            ]
          },
          "metadata": {
            "tags": []
          },
          "execution_count": 111
        }
      ]
    },
    {
      "cell_type": "code",
      "metadata": {
        "colab": {
          "base_uri": "https://localhost:8080/"
        },
        "id": "vwea5mpgPaei",
        "outputId": "90df81d5-0e15-405b-faed-833229f14f7b"
      },
      "source": [
        "a.pop(2)\r\n",
        "print(a)"
      ],
      "execution_count": null,
      "outputs": [
        {
          "output_type": "stream",
          "text": [
            "[1, 'abcd', [3, 4, 5], (6, 7)]\n"
          ],
          "name": "stdout"
        }
      ]
    },
    {
      "cell_type": "markdown",
      "metadata": {
        "id": "vC292BWVP_sc"
      },
      "source": [
        "###Tuple"
      ]
    },
    {
      "cell_type": "code",
      "metadata": {
        "id": "uDT_v7tQPwPF"
      },
      "source": [
        "tpl = (1,2,3,4,5)"
      ],
      "execution_count": null,
      "outputs": []
    },
    {
      "cell_type": "code",
      "metadata": {
        "colab": {
          "base_uri": "https://localhost:8080/"
        },
        "id": "oM80uFCCQECE",
        "outputId": "dcf656b3-a68b-4c06-ceed-665fa87f4ec9"
      },
      "source": [
        "tpl"
      ],
      "execution_count": null,
      "outputs": [
        {
          "output_type": "execute_result",
          "data": {
            "text/plain": [
              "(1, 2, 3, 4, 5)"
            ]
          },
          "metadata": {
            "tags": []
          },
          "execution_count": 114
        }
      ]
    },
    {
      "cell_type": "code",
      "metadata": {
        "colab": {
          "base_uri": "https://localhost:8080/"
        },
        "id": "XMcxmQk5QFkI",
        "outputId": "a5a9d66b-c78f-4a6f-c164-be9a4c792536"
      },
      "source": [
        "(x,y) = (1,2)\r\n",
        "print (x,y)"
      ],
      "execution_count": null,
      "outputs": [
        {
          "output_type": "stream",
          "text": [
            "1 2\n"
          ],
          "name": "stdout"
        }
      ]
    },
    {
      "cell_type": "code",
      "metadata": {
        "colab": {
          "base_uri": "https://localhost:8080/"
        },
        "id": "nJd7H1fKQRNH",
        "outputId": "00677243-21da-435e-ebe6-a76e09da8b3b"
      },
      "source": [
        "##튜플은 괄호 생략해서 쓸수도 있다\r\n",
        "x,y = 3,4\r\n",
        "\r\n",
        "print(x,y)"
      ],
      "execution_count": null,
      "outputs": [
        {
          "output_type": "stream",
          "text": [
            "3 4\n"
          ],
          "name": "stdout"
        }
      ]
    },
    {
      "cell_type": "markdown",
      "metadata": {
        "id": "bPUyAjSnQnvY"
      },
      "source": [
        "###Indexing"
      ]
    },
    {
      "cell_type": "code",
      "metadata": {
        "colab": {
          "base_uri": "https://localhost:8080/"
        },
        "id": "uhQsWfQVQT5C",
        "outputId": "60495077-96e4-419a-a626-30689700c5f7"
      },
      "source": [
        "tpl[1]"
      ],
      "execution_count": null,
      "outputs": [
        {
          "output_type": "execute_result",
          "data": {
            "text/plain": [
              "2"
            ]
          },
          "metadata": {
            "tags": []
          },
          "execution_count": 117
        }
      ]
    },
    {
      "cell_type": "code",
      "metadata": {
        "colab": {
          "base_uri": "https://localhost:8080/"
        },
        "id": "daUiF8ISQuYb",
        "outputId": "6acda4c7-52ff-4c69-9783-a82b90762466"
      },
      "source": [
        "tpl[1:4]\r\n",
        "##구간을 의미하는것 1번쨰 자리부터 4번쨰자리 전까지"
      ],
      "execution_count": null,
      "outputs": [
        {
          "output_type": "execute_result",
          "data": {
            "text/plain": [
              "(2, 3, 4)"
            ]
          },
          "metadata": {
            "tags": []
          },
          "execution_count": 118
        }
      ]
    },
    {
      "cell_type": "code",
      "metadata": {
        "id": "TEbUcooTQ5Yy"
      },
      "source": [
        "arr = [[1,2,3,4],\r\n",
        "       [5,6,7,8],\r\n",
        "       [9,10,11,12]]"
      ],
      "execution_count": null,
      "outputs": []
    },
    {
      "cell_type": "code",
      "metadata": {
        "colab": {
          "base_uri": "https://localhost:8080/"
        },
        "id": "MbYbDvkaREvm",
        "outputId": "321e6e2a-27e7-4773-983e-cf204cc2f45b"
      },
      "source": [
        "arr[1:3]"
      ],
      "execution_count": null,
      "outputs": [
        {
          "output_type": "execute_result",
          "data": {
            "text/plain": [
              "[[5, 6, 7, 8], [9, 10, 11, 12]]"
            ]
          },
          "metadata": {
            "tags": []
          },
          "execution_count": 120
        }
      ]
    },
    {
      "cell_type": "markdown",
      "metadata": {
        "id": "GmL03FKZRoXW"
      },
      "source": [
        "#### OPERATOR"
      ]
    },
    {
      "cell_type": "code",
      "metadata": {
        "colab": {
          "base_uri": "https://localhost:8080/"
        },
        "id": "jT5PFy9mRlEG",
        "outputId": "1498bb43-a03b-4aa0-ce23-af09bd741957"
      },
      "source": [
        "7/5"
      ],
      "execution_count": null,
      "outputs": [
        {
          "output_type": "execute_result",
          "data": {
            "text/plain": [
              "1.4"
            ]
          },
          "metadata": {
            "tags": []
          },
          "execution_count": 121
        }
      ]
    },
    {
      "cell_type": "code",
      "metadata": {
        "colab": {
          "base_uri": "https://localhost:8080/"
        },
        "id": "yVyk2SgRRt-3",
        "outputId": "39213492-6c6c-4828-c6d8-87f021349ef6"
      },
      "source": [
        "7//5"
      ],
      "execution_count": null,
      "outputs": [
        {
          "output_type": "execute_result",
          "data": {
            "text/plain": [
              "1"
            ]
          },
          "metadata": {
            "tags": []
          },
          "execution_count": 122
        }
      ]
    },
    {
      "cell_type": "code",
      "metadata": {
        "colab": {
          "base_uri": "https://localhost:8080/"
        },
        "id": "jD4sAZezR0T0",
        "outputId": "0b0f2973-d056-4da4-8711-94922f1cd273"
      },
      "source": [
        "2**4"
      ],
      "execution_count": null,
      "outputs": [
        {
          "output_type": "execute_result",
          "data": {
            "text/plain": [
              "16"
            ]
          },
          "metadata": {
            "tags": []
          },
          "execution_count": 123
        }
      ]
    },
    {
      "cell_type": "markdown",
      "metadata": {
        "id": "FNKQG9s7SiME"
      },
      "source": [
        "####Function"
      ]
    },
    {
      "cell_type": "code",
      "metadata": {
        "id": "WRxb1AvOSEcG"
      },
      "source": [
        "def func() :\r\n",
        "  return 'hello'"
      ],
      "execution_count": null,
      "outputs": []
    },
    {
      "cell_type": "code",
      "metadata": {
        "colab": {
          "base_uri": "https://localhost:8080/"
        },
        "id": "FjAT_08ySqO9",
        "outputId": "5117a74d-9324-45d0-bf7b-54767076f5a0"
      },
      "source": [
        "print(func())"
      ],
      "execution_count": null,
      "outputs": [
        {
          "output_type": "stream",
          "text": [
            "hello\n"
          ],
          "name": "stdout"
        }
      ]
    },
    {
      "cell_type": "code",
      "metadata": {
        "id": "I_tF923iSsL9"
      },
      "source": [
        "#include <stdio.h>\r\n",
        "import numpy as np"
      ],
      "execution_count": null,
      "outputs": []
    },
    {
      "cell_type": "code",
      "metadata": {
        "id": "vEHQASpoTq8M"
      },
      "source": [
        "lst = [[1,2],\r\n",
        "       [3,4]]"
      ],
      "execution_count": null,
      "outputs": []
    },
    {
      "cell_type": "code",
      "metadata": {
        "id": "jKrO8fgyTwRF"
      },
      "source": [
        "a = np.array(lst)"
      ],
      "execution_count": null,
      "outputs": []
    },
    {
      "cell_type": "code",
      "metadata": {
        "colab": {
          "base_uri": "https://localhost:8080/"
        },
        "id": "brUl2FMgT36H",
        "outputId": "4f00f993-b901-4436-dbc1-3d55300a09c8"
      },
      "source": [
        "type(lst), type(a)"
      ],
      "execution_count": null,
      "outputs": [
        {
          "output_type": "execute_result",
          "data": {
            "text/plain": [
              "(list, numpy.ndarray)"
            ]
          },
          "metadata": {
            "tags": []
          },
          "execution_count": 129
        }
      ]
    },
    {
      "cell_type": "markdown",
      "metadata": {
        "id": "ZaVbcc-CUJRk"
      },
      "source": [
        "####행렬곱"
      ]
    },
    {
      "cell_type": "code",
      "metadata": {
        "id": "NYkn_ZYzT6RU"
      },
      "source": [
        "b = np.array([[5,6,7],\r\n",
        "             [8,9,10]])"
      ],
      "execution_count": null,
      "outputs": []
    },
    {
      "cell_type": "code",
      "metadata": {
        "colab": {
          "base_uri": "https://localhost:8080/"
        },
        "id": "NuJv9fI1V_fg",
        "outputId": "e8fe8cdd-a206-4e85-bf85-35fde41f1eb9"
      },
      "source": [
        "b"
      ],
      "execution_count": null,
      "outputs": [
        {
          "output_type": "execute_result",
          "data": {
            "text/plain": [
              "array([[ 5,  6,  7],\n",
              "       [ 8,  9, 10]])"
            ]
          },
          "metadata": {
            "tags": []
          },
          "execution_count": 131
        }
      ]
    },
    {
      "cell_type": "code",
      "metadata": {
        "id": "VRe4fp3QWAJi"
      },
      "source": [
        "# a : [2x2] b:[2x3] ab:[2x3]\r\n",
        "ab = np.matmul(a,b)"
      ],
      "execution_count": null,
      "outputs": []
    },
    {
      "cell_type": "code",
      "metadata": {
        "colab": {
          "base_uri": "https://localhost:8080/"
        },
        "id": "kgaQpSkkWUjd",
        "outputId": "6482166a-548f-470f-d1c5-aacbc8204c71"
      },
      "source": [
        "ab"
      ],
      "execution_count": null,
      "outputs": [
        {
          "output_type": "execute_result",
          "data": {
            "text/plain": [
              "array([[21, 24, 27],\n",
              "       [47, 54, 61]])"
            ]
          },
          "metadata": {
            "tags": []
          },
          "execution_count": 133
        }
      ]
    },
    {
      "cell_type": "code",
      "metadata": {
        "id": "yrDaYbcLWVkU"
      },
      "source": [
        "d = np.transpose(ab)"
      ],
      "execution_count": null,
      "outputs": []
    },
    {
      "cell_type": "code",
      "metadata": {
        "colab": {
          "base_uri": "https://localhost:8080/"
        },
        "id": "b2MQfxKgXrLD",
        "outputId": "cd9a1389-439e-4980-aae1-eace0ecfdd95"
      },
      "source": [
        "ab"
      ],
      "execution_count": null,
      "outputs": [
        {
          "output_type": "execute_result",
          "data": {
            "text/plain": [
              "array([[21, 24, 27],\n",
              "       [47, 54, 61]])"
            ]
          },
          "metadata": {
            "tags": []
          },
          "execution_count": 135
        }
      ]
    },
    {
      "cell_type": "code",
      "metadata": {
        "colab": {
          "base_uri": "https://localhost:8080/"
        },
        "id": "_gjLjcdoXsQ0",
        "outputId": "9e1d4b8b-be56-4f21-c1a5-4aeb855fb46a"
      },
      "source": [
        "d"
      ],
      "execution_count": null,
      "outputs": [
        {
          "output_type": "execute_result",
          "data": {
            "text/plain": [
              "array([[21, 47],\n",
              "       [24, 54],\n",
              "       [27, 61]])"
            ]
          },
          "metadata": {
            "tags": []
          },
          "execution_count": 136
        }
      ]
    },
    {
      "cell_type": "code",
      "metadata": {
        "id": "ix7V4VDIXtU_"
      },
      "source": [
        "arr = [[1,2,3,4],\r\n",
        "       [5,6,7,8],\r\n",
        "       [9,10,11,12]]"
      ],
      "execution_count": null,
      "outputs": []
    },
    {
      "cell_type": "code",
      "metadata": {
        "id": "iKhpY-FlYtcp"
      },
      "source": [
        "A = np.random.randint(1,100,(4,5))"
      ],
      "execution_count": null,
      "outputs": []
    },
    {
      "cell_type": "code",
      "metadata": {
        "colab": {
          "base_uri": "https://localhost:8080/"
        },
        "id": "9xnceKF4Yx7B",
        "outputId": "29f67d7e-5ba8-4416-e005-b2641e813ad4"
      },
      "source": [
        "A"
      ],
      "execution_count": null,
      "outputs": [
        {
          "output_type": "execute_result",
          "data": {
            "text/plain": [
              "array([[19, 38, 59, 64, 23],\n",
              "       [24,  9, 84, 15, 87],\n",
              "       [90, 35, 49, 23, 19],\n",
              "       [46, 55, 63, 43, 81]])"
            ]
          },
          "metadata": {
            "tags": []
          },
          "execution_count": 139
        }
      ]
    },
    {
      "cell_type": "code",
      "metadata": {
        "colab": {
          "base_uri": "https://localhost:8080/"
        },
        "id": "N62IgibRYzC0",
        "outputId": "77d2875f-082c-4b4b-9af2-1d1ea609e02e"
      },
      "source": [
        "A[1,3]"
      ],
      "execution_count": null,
      "outputs": [
        {
          "output_type": "execute_result",
          "data": {
            "text/plain": [
              "15"
            ]
          },
          "metadata": {
            "tags": []
          },
          "execution_count": 140
        }
      ]
    },
    {
      "cell_type": "code",
      "metadata": {
        "colab": {
          "base_uri": "https://localhost:8080/"
        },
        "id": "RQuB88USZRXs",
        "outputId": "897e8eeb-1325-4711-fc55-bca3eeb75dda"
      },
      "source": [
        "A[1:3]"
      ],
      "execution_count": null,
      "outputs": [
        {
          "output_type": "execute_result",
          "data": {
            "text/plain": [
              "array([[24,  9, 84, 15, 87],\n",
              "       [90, 35, 49, 23, 19]])"
            ]
          },
          "metadata": {
            "tags": []
          },
          "execution_count": 141
        }
      ]
    },
    {
      "cell_type": "code",
      "metadata": {
        "colab": {
          "base_uri": "https://localhost:8080/"
        },
        "id": "pYxRwt8FZYtu",
        "outputId": "4b45cd14-a7c5-419b-ea8a-af7561c036b2"
      },
      "source": [
        "A[:,[1,3]]"
      ],
      "execution_count": null,
      "outputs": [
        {
          "output_type": "execute_result",
          "data": {
            "text/plain": [
              "array([[38, 64],\n",
              "       [ 9, 15],\n",
              "       [35, 23],\n",
              "       [55, 43]])"
            ]
          },
          "metadata": {
            "tags": []
          },
          "execution_count": 142
        }
      ]
    },
    {
      "cell_type": "markdown",
      "metadata": {
        "id": "pn0dr659ayvj"
      },
      "source": [
        "##Pandas로 데이터 읽기"
      ]
    },
    {
      "cell_type": "code",
      "metadata": {
        "id": "mqjyYqnIZxQN"
      },
      "source": [
        "import pandas as pd"
      ],
      "execution_count": null,
      "outputs": []
    },
    {
      "cell_type": "code",
      "metadata": {
        "id": "CQkmy_2-b88G"
      },
      "source": [
        "path = '/content/data_lab1.txt'\r\n",
        "columns = ['x','y']"
      ],
      "execution_count": null,
      "outputs": []
    },
    {
      "cell_type": "code",
      "metadata": {
        "id": "qdWkwcHxclXN"
      },
      "source": [
        "data = pd.read_csv(path, sep=' ', names=columns)"
      ],
      "execution_count": null,
      "outputs": []
    },
    {
      "cell_type": "code",
      "metadata": {
        "colab": {
          "base_uri": "https://localhost:8080/",
          "height": 419
        },
        "id": "jF0uZ2yLdRFk",
        "outputId": "504afea6-13d4-4544-fe56-30605b01e547"
      },
      "source": [
        "data"
      ],
      "execution_count": null,
      "outputs": [
        {
          "output_type": "execute_result",
          "data": {
            "text/html": [
              "<div>\n",
              "<style scoped>\n",
              "    .dataframe tbody tr th:only-of-type {\n",
              "        vertical-align: middle;\n",
              "    }\n",
              "\n",
              "    .dataframe tbody tr th {\n",
              "        vertical-align: top;\n",
              "    }\n",
              "\n",
              "    .dataframe thead th {\n",
              "        text-align: right;\n",
              "    }\n",
              "</style>\n",
              "<table border=\"1\" class=\"dataframe\">\n",
              "  <thead>\n",
              "    <tr style=\"text-align: right;\">\n",
              "      <th></th>\n",
              "      <th>x</th>\n",
              "      <th>y</th>\n",
              "    </tr>\n",
              "  </thead>\n",
              "  <tbody>\n",
              "    <tr>\n",
              "      <th>0</th>\n",
              "      <td>0.000000</td>\n",
              "      <td>0.685785</td>\n",
              "    </tr>\n",
              "    <tr>\n",
              "      <th>1</th>\n",
              "      <td>0.020202</td>\n",
              "      <td>1.671735</td>\n",
              "    </tr>\n",
              "    <tr>\n",
              "      <th>2</th>\n",
              "      <td>0.040404</td>\n",
              "      <td>2.406276</td>\n",
              "    </tr>\n",
              "    <tr>\n",
              "      <th>3</th>\n",
              "      <td>0.060606</td>\n",
              "      <td>0.375167</td>\n",
              "    </tr>\n",
              "    <tr>\n",
              "      <th>4</th>\n",
              "      <td>0.080808</td>\n",
              "      <td>4.355949</td>\n",
              "    </tr>\n",
              "    <tr>\n",
              "      <th>...</th>\n",
              "      <td>...</td>\n",
              "      <td>...</td>\n",
              "    </tr>\n",
              "    <tr>\n",
              "      <th>95</th>\n",
              "      <td>1.919192</td>\n",
              "      <td>19.975148</td>\n",
              "    </tr>\n",
              "    <tr>\n",
              "      <th>96</th>\n",
              "      <td>1.939394</td>\n",
              "      <td>20.358975</td>\n",
              "    </tr>\n",
              "    <tr>\n",
              "      <th>97</th>\n",
              "      <td>1.959596</td>\n",
              "      <td>22.849086</td>\n",
              "    </tr>\n",
              "    <tr>\n",
              "      <th>98</th>\n",
              "      <td>1.979798</td>\n",
              "      <td>19.977494</td>\n",
              "    </tr>\n",
              "    <tr>\n",
              "      <th>99</th>\n",
              "      <td>2.000000</td>\n",
              "      <td>20.861562</td>\n",
              "    </tr>\n",
              "  </tbody>\n",
              "</table>\n",
              "<p>100 rows × 2 columns</p>\n",
              "</div>"
            ],
            "text/plain": [
              "           x          y\n",
              "0   0.000000   0.685785\n",
              "1   0.020202   1.671735\n",
              "2   0.040404   2.406276\n",
              "3   0.060606   0.375167\n",
              "4   0.080808   4.355949\n",
              "..       ...        ...\n",
              "95  1.919192  19.975148\n",
              "96  1.939394  20.358975\n",
              "97  1.959596  22.849086\n",
              "98  1.979798  19.977494\n",
              "99  2.000000  20.861562\n",
              "\n",
              "[100 rows x 2 columns]"
            ]
          },
          "metadata": {
            "tags": []
          },
          "execution_count": 146
        }
      ]
    },
    {
      "cell_type": "code",
      "metadata": {
        "colab": {
          "base_uri": "https://localhost:8080/"
        },
        "id": "ATez76iVdZ5s",
        "outputId": "109770a3-4c3a-4598-cf3e-ff83e648205c"
      },
      "source": [
        "data['x']"
      ],
      "execution_count": null,
      "outputs": [
        {
          "output_type": "execute_result",
          "data": {
            "text/plain": [
              "0     0.000000\n",
              "1     0.020202\n",
              "2     0.040404\n",
              "3     0.060606\n",
              "4     0.080808\n",
              "        ...   \n",
              "95    1.919192\n",
              "96    1.939394\n",
              "97    1.959596\n",
              "98    1.979798\n",
              "99    2.000000\n",
              "Name: x, Length: 100, dtype: float64"
            ]
          },
          "metadata": {
            "tags": []
          },
          "execution_count": 147
        }
      ]
    },
    {
      "cell_type": "code",
      "metadata": {
        "id": "uDUfdf7xdxtg"
      },
      "source": [
        "x = np.asarray(data['x'])\r\n",
        "y = np.asarray(data['y'])"
      ],
      "execution_count": null,
      "outputs": []
    },
    {
      "cell_type": "code",
      "metadata": {
        "colab": {
          "base_uri": "https://localhost:8080/"
        },
        "id": "K8tNejLwd5uD",
        "outputId": "8172fddc-d795-42ed-927a-699d019d1ff6"
      },
      "source": [
        "x"
      ],
      "execution_count": null,
      "outputs": [
        {
          "output_type": "execute_result",
          "data": {
            "text/plain": [
              "array([0.        , 0.02020202, 0.04040404, 0.06060606, 0.08080808,\n",
              "       0.1010101 , 0.12121212, 0.14141414, 0.16161616, 0.18181818,\n",
              "       0.2020202 , 0.22222222, 0.24242424, 0.26262626, 0.28282828,\n",
              "       0.3030303 , 0.32323232, 0.34343434, 0.36363636, 0.38383838,\n",
              "       0.4040404 , 0.42424242, 0.44444444, 0.46464646, 0.48484848,\n",
              "       0.50505051, 0.52525253, 0.54545455, 0.56565657, 0.58585859,\n",
              "       0.60606061, 0.62626263, 0.64646465, 0.66666667, 0.68686869,\n",
              "       0.70707071, 0.72727273, 0.74747475, 0.76767677, 0.78787879,\n",
              "       0.80808081, 0.82828283, 0.84848485, 0.86868687, 0.88888889,\n",
              "       0.90909091, 0.92929293, 0.94949495, 0.96969697, 0.98989899,\n",
              "       1.01010101, 1.03030303, 1.05050505, 1.07070707, 1.09090909,\n",
              "       1.11111111, 1.13131313, 1.15151515, 1.17171717, 1.19191919,\n",
              "       1.21212121, 1.23232323, 1.25252525, 1.27272727, 1.29292929,\n",
              "       1.31313131, 1.33333333, 1.35353535, 1.37373737, 1.39393939,\n",
              "       1.41414141, 1.43434343, 1.45454545, 1.47474747, 1.49494949,\n",
              "       1.51515152, 1.53535354, 1.55555556, 1.57575758, 1.5959596 ,\n",
              "       1.61616162, 1.63636364, 1.65656566, 1.67676768, 1.6969697 ,\n",
              "       1.71717172, 1.73737374, 1.75757576, 1.77777778, 1.7979798 ,\n",
              "       1.81818182, 1.83838384, 1.85858586, 1.87878788, 1.8989899 ,\n",
              "       1.91919192, 1.93939394, 1.95959596, 1.97979798, 2.        ])"
            ]
          },
          "metadata": {
            "tags": []
          },
          "execution_count": 149
        }
      ]
    },
    {
      "cell_type": "code",
      "metadata": {
        "colab": {
          "base_uri": "https://localhost:8080/"
        },
        "id": "m9cGPhPVd68r",
        "outputId": "de83f53b-9e4e-40e6-ae02-2c266860ca82"
      },
      "source": [
        "x.shape, y.shape"
      ],
      "execution_count": null,
      "outputs": [
        {
          "output_type": "execute_result",
          "data": {
            "text/plain": [
              "((100,), (100,))"
            ]
          },
          "metadata": {
            "tags": []
          },
          "execution_count": 150
        }
      ]
    },
    {
      "cell_type": "code",
      "metadata": {
        "id": "FrXXW6XSd_GD"
      },
      "source": [
        "##즉 1차원 행렬이란 뜻이다 , 뒤에가 비어있다는것은"
      ],
      "execution_count": null,
      "outputs": []
    },
    {
      "cell_type": "code",
      "metadata": {
        "colab": {
          "base_uri": "https://localhost:8080/"
        },
        "id": "xw2-NZKyeDLe",
        "outputId": "9adbcbe6-0cb4-438d-ed1c-7d2f6f458fdf"
      },
      "source": [
        "ab"
      ],
      "execution_count": null,
      "outputs": [
        {
          "output_type": "execute_result",
          "data": {
            "text/plain": [
              "array([[21, 24, 27],\n",
              "       [47, 54, 61]])"
            ]
          },
          "metadata": {
            "tags": []
          },
          "execution_count": 152
        }
      ]
    },
    {
      "cell_type": "code",
      "metadata": {
        "colab": {
          "base_uri": "https://localhost:8080/"
        },
        "id": "rPir_rqkeF2Q",
        "outputId": "26dd4ffe-038f-49cd-a65b-79f18a835418"
      },
      "source": [
        "ab.shape"
      ],
      "execution_count": null,
      "outputs": [
        {
          "output_type": "execute_result",
          "data": {
            "text/plain": [
              "(2, 3)"
            ]
          },
          "metadata": {
            "tags": []
          },
          "execution_count": 153
        }
      ]
    },
    {
      "cell_type": "markdown",
      "metadata": {
        "id": "MpkbrDJGeeCn"
      },
      "source": [
        "###5.Matplotlib으로 시각화하기"
      ]
    },
    {
      "cell_type": "code",
      "metadata": {
        "id": "bft7Ri_8eHI9"
      },
      "source": [
        "import matplotlib.pyplot as plt"
      ],
      "execution_count": null,
      "outputs": []
    },
    {
      "cell_type": "code",
      "metadata": {
        "colab": {
          "base_uri": "https://localhost:8080/",
          "height": 283
        },
        "id": "ljIZNxo7eu7Q",
        "outputId": "f2f61088-fc21-471d-c2be-3b674acca03c"
      },
      "source": [
        "plt.plot(x, y)"
      ],
      "execution_count": null,
      "outputs": [
        {
          "output_type": "execute_result",
          "data": {
            "text/plain": [
              "[<matplotlib.lines.Line2D at 0x7f73aedffe80>]"
            ]
          },
          "metadata": {
            "tags": []
          },
          "execution_count": 155
        },
        {
          "output_type": "display_data",
          "data": {
            "image/png": "[encoded data removed]",
            "text/plain": [
              "<Figure size 432x288 with 1 Axes>"
            ]
          },
          "metadata": {
            "tags": [],
            "needs_background": "light"
          }
        }
      ]
    },
    {
      "cell_type": "code",
      "metadata": {
        "colab": {
          "base_uri": "https://localhost:8080/",
          "height": 283
        },
        "id": "TGE6owHJeyP5",
        "outputId": "b686c605-8531-47c2-dd72-a936aadebd80"
      },
      "source": [
        "plt.plot(x, y, 'ro')"
      ],
      "execution_count": null,
      "outputs": [
        {
          "output_type": "execute_result",
          "data": {
            "text/plain": [
              "[<matplotlib.lines.Line2D at 0x7f73aef655c0>]"
            ]
          },
          "metadata": {
            "tags": []
          },
          "execution_count": 156
        },
        {
          "output_type": "display_data",
          "data": {
            "image/png": "[encoded data removed]",
            "text/plain": [
              "<Figure size 432x288 with 1 Axes>"
            ]
          },
          "metadata": {
            "tags": [],
            "needs_background": "light"
          }
        }
      ]
    },
    {
      "cell_type": "code",
      "metadata": {
        "colab": {
          "base_uri": "https://localhost:8080/",
          "height": 283
        },
        "id": "lXI3IX-6fNVa",
        "outputId": "ec7e3e0b-2fcb-448e-e3b6-571dc044eb78"
      },
      "source": [
        "plt.plot(x,y,'k*')"
      ],
      "execution_count": null,
      "outputs": [
        {
          "output_type": "execute_result",
          "data": {
            "text/plain": [
              "[<matplotlib.lines.Line2D at 0x7f73af0fd898>]"
            ]
          },
          "metadata": {
            "tags": []
          },
          "execution_count": 157
        },
        {
          "output_type": "display_data",
          "data": {
            "image/png": "[encoded data removed]",
            "text/plain": [
              "<Figure size 432x288 with 1 Axes>"
            ]
          },
          "metadata": {
            "tags": [],
            "needs_background": "light"
          }
        }
      ]
    },
    {
      "cell_type": "code",
      "metadata": {
        "colab": {
          "base_uri": "https://localhost:8080/",
          "height": 283
        },
        "id": "OQE8WiGYfVPv",
        "outputId": "20f2d9c3-e801-4321-fa36-ae906c1cc4de"
      },
      "source": [
        "plt.plot(x,y,'g-')"
      ],
      "execution_count": null,
      "outputs": [
        {
          "output_type": "execute_result",
          "data": {
            "text/plain": [
              "[<matplotlib.lines.Line2D at 0x7f73af09c630>]"
            ]
          },
          "metadata": {
            "tags": []
          },
          "execution_count": 158
        },
        {
          "output_type": "display_data",
          "data": {
            "image/png": "[encoded data removed]",
            "text/plain": [
              "<Figure size 432x288 with 1 Axes>"
            ]
          },
          "metadata": {
            "tags": [],
            "needs_background": "light"
          }
        }
      ]
    },
    {
      "cell_type": "code",
      "metadata": {
        "colab": {
          "base_uri": "https://localhost:8080/",
          "height": 295
        },
        "id": "LliL65NbfeT3",
        "outputId": "5b4abd63-e579-44f5-80d8-170d487b1222"
      },
      "source": [
        "plt.plot(x,y,'y^',label='data')\r\n",
        "plt.xlabel('x')\r\n",
        "plt.ylabel('y')\r\n",
        "plt.title('Plot of data')\r\n",
        "plt.legend(loc='lower left')\r\n",
        "plt.show()"
      ],
      "execution_count": null,
      "outputs": [
        {
          "output_type": "display_data",
          "data": {
            "image/png": "[encoded data removed]",
            "text/plain": [
              "<Figure size 432x288 with 1 Axes>"
            ]
          },
          "metadata": {
            "tags": [],
            "needs_background": "light"
          }
        }
      ]
    },
    {
      "cell_type": "code",
      "metadata": {
        "id": "v5DxFvhUgIkA"
      },
      "source": [
        ""
      ],
      "execution_count": null,
      "outputs": []
    }
  ]
}