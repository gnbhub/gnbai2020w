{
  "nbformat": 4,
  "nbformat_minor": 0,
  "metadata": {
    "colab": {
      "name": "AIstudy1주차.ipynb",
      "provenance": [],
      "collapsed_sections": [],
      "authorship_tag": "ABX9TyPtS5teVpsovlvoefBsgpMz",
      "include_colab_link": true
    },
    "kernelspec": {
      "name": "python3",
      "display_name": "Python 3"
    }
  },
  "cells": [
    {
      "cell_type": "markdown",
      "metadata": {
        "id": "view-in-github",
        "colab_type": "text"
      },
      "source": [
        "<a href=\"https://colab.research.google.com/github/gnbhub/gnbai2020w/blob/main/week1/1%EC%A3%BC%EC%B0%A8_%EA%B9%80%EB%AF%B8%EC%84%B1.ipynb\" target=\"_parent\"><img src=\"https://colab.research.google.com/assets/colab-badge.svg\" alt=\"Open In Colab\"/></a>"
      ]
    },
    {
      "cell_type": "markdown",
      "metadata": {
        "id": "y-9lIbSlI_k0"
      },
      "source": [
        "# GNB AI 스터디 1주차\r\n",
        "\r\n",
        "Colab : 구글에서 제공하는 Jupyter notebook의 클라우드 서비스"
      ]
    },
    {
      "cell_type": "markdown",
      "metadata": {
        "id": "5YmqWfcGJbTA"
      },
      "source": [
        "## 1. Jupyter notebook 사용법\r\n",
        "```\r\n",
        "# 제목 1\r\n",
        "## 제목 2\r\n",
        "### 제목 3 ( 5까지 가능)\r\n",
        "```\r\n",
        "줄바꿈이\r\n",
        "안됩니다\r\n",
        "\r\n",
        "\r\n",
        "줄바꿈\r\n",
        "\r\n",
        "된다!\r\n",
        "\r\n",
        "```python\r\n",
        "# 코드블럭\r\n",
        "print(\"hello world\")\r\n",
        "```\r\n",
        "\r\n",
        "$$f(x) = 2x\r\n",
        "$$\r\n",
        "\r\n"
      ]
    },
    {
      "cell_type": "code",
      "metadata": {
        "colab": {
          "base_uri": "https://localhost:8080/"
        },
        "id": "Es_6Zt1BItLr",
        "outputId": "26e9e57d-fa50-45c9-cada-bbd9c89c4d0c"
      },
      "source": [
        "print(\"hello\")"
      ],
      "execution_count": 1,
      "outputs": [
        {
          "output_type": "stream",
          "text": [
            "hello\n"
          ],
          "name": "stdout"
        }
      ]
    },
    {
      "cell_type": "markdown",
      "metadata": {
        "id": "rWrfOApMhIoo"
      },
      "source": [
        "**[Ctrl + Enter]** : 현재 선택한 블럭 실행<br>\r\n",
        "**[Shift + Enter]** : 현재 선택한 블럭 실행하고 다음 블럭으로 넘어감<br>\r\n",
        "**[Ctrl + F9]** : 모든 블럭 실행<br>\r\n",
        "**[Ctrl + / ]** : 현재 라인 주석\r\n"
      ]
    },
    {
      "cell_type": "markdown",
      "metadata": {
        "id": "A-yTZUqnKmwT"
      },
      "source": [
        "## 2. Python 기본 문법"
      ]
    },
    {
      "cell_type": "markdown",
      "metadata": {
        "id": "Y-raTNkuvamW"
      },
      "source": [
        "### 1) Hello wolrd"
      ]
    },
    {
      "cell_type": "code",
      "metadata": {
        "colab": {
          "base_uri": "https://localhost:8080/"
        },
        "id": "YHugahFkKysT",
        "outputId": "014bf2d0-f017-42ff-e91c-b6df29d9e7cc"
      },
      "source": [
        "# printf(\"hello world\\n\");\r\n",
        "\r\n",
        "# 문자열 '', \"\" 둘다 사용 가능\r\n",
        "# 엔터 자동으로 쳐짐\r\n",
        "print('hello world')\r\n",
        "print(\"hello world\")"
      ],
      "execution_count": 2,
      "outputs": [
        {
          "output_type": "stream",
          "text": [
            "hello world\n",
            "hello world\n"
          ],
          "name": "stdout"
        }
      ]
    },
    {
      "cell_type": "code",
      "metadata": {
        "colab": {
          "base_uri": "https://localhost:8080/"
        },
        "id": "UWcVfiAeK8_u",
        "outputId": "2c0afbf6-77c4-43d9-c11f-4aee15c07ae6"
      },
      "source": [
        "for i in range(10):\r\n",
        "    print(i)"
      ],
      "execution_count": 3,
      "outputs": [
        {
          "output_type": "stream",
          "text": [
            "0\n",
            "1\n",
            "2\n",
            "3\n",
            "4\n",
            "5\n",
            "6\n",
            "7\n",
            "8\n",
            "9\n"
          ],
          "name": "stdout"
        }
      ]
    },
    {
      "cell_type": "markdown",
      "metadata": {
        "id": "oqT5spOXK6ww"
      },
      "source": [
        "### 2) if문\r\n",
        "\r\n"
      ]
    },
    {
      "cell_type": "code",
      "metadata": {
        "id": "Hx8iUmnnLa5z"
      },
      "source": [
        "n = 10"
      ],
      "execution_count": 4,
      "outputs": []
    },
    {
      "cell_type": "code",
      "metadata": {
        "colab": {
          "base_uri": "https://localhost:8080/"
        },
        "id": "e0W6qGasLdrp",
        "outputId": "b1f26294-1e4d-4917-faad-116fd9644c1b"
      },
      "source": [
        "if n > 5:\r\n",
        "    print('5보다 큽니다')\r\n",
        "elif n == 5:\r\n",
        "    print('5입니다.')\r\n",
        "else:\r\n",
        "    print('5보다 작거나 같습니다.')"
      ],
      "execution_count": 5,
      "outputs": [
        {
          "output_type": "stream",
          "text": [
            "5보다 큽니다\n"
          ],
          "name": "stdout"
        }
      ]
    },
    {
      "cell_type": "markdown",
      "metadata": {
        "id": "x0KSkmYqKsfm"
      },
      "source": [
        "### 3)for문\r\n",
        "반복 횟수를 알고 있을 때\r\n",
        "```c\r\n",
        "int a[10] = {1, 2, 3, ...};\r\n",
        "for (int i = 0 ; i < 10 ; i ++ ) {\r\n",
        "  printf(\"%d\", i);\r\n",
        "}\r\n",
        "printf(\"\\n\");\r\n",
        "```\r\n"
      ]
    },
    {
      "cell_type": "code",
      "metadata": {
        "id": "TpNFe_hcML_Y"
      },
      "source": [
        "A = list(range(10))"
      ],
      "execution_count": 6,
      "outputs": []
    },
    {
      "cell_type": "code",
      "metadata": {
        "colab": {
          "base_uri": "https://localhost:8080/"
        },
        "id": "9dzG6Ft_OlLU",
        "outputId": "ccd13384-ea6b-48db-b21b-2afc71993551"
      },
      "source": [
        "type(range(10))"
      ],
      "execution_count": 7,
      "outputs": [
        {
          "output_type": "execute_result",
          "data": {
            "text/plain": [
              "range"
            ]
          },
          "metadata": {
            "tags": []
          },
          "execution_count": 7
        }
      ]
    },
    {
      "cell_type": "code",
      "metadata": {
        "colab": {
          "base_uri": "https://localhost:8080/"
        },
        "id": "Hj-Y7-T2MrTB",
        "outputId": "13ba5ec8-a3cf-41bc-f0f1-82670a07007e"
      },
      "source": [
        "A"
      ],
      "execution_count": 8,
      "outputs": [
        {
          "output_type": "execute_result",
          "data": {
            "text/plain": [
              "[0, 1, 2, 3, 4, 5, 6, 7, 8, 9]"
            ]
          },
          "metadata": {
            "tags": []
          },
          "execution_count": 8
        }
      ]
    },
    {
      "cell_type": "code",
      "metadata": {
        "colab": {
          "base_uri": "https://localhost:8080/"
        },
        "id": "w4txU9wHM3Xm",
        "outputId": "1134912a-eb0d-4f7d-f8e9-0b8cc08aaa0a"
      },
      "source": [
        "for a in A:\r\n",
        "      print(a, end=' ')"
      ],
      "execution_count": 9,
      "outputs": [
        {
          "output_type": "stream",
          "text": [
            "0 1 2 3 4 5 6 7 8 9 "
          ],
          "name": "stdout"
        }
      ]
    },
    {
      "cell_type": "code",
      "metadata": {
        "colab": {
          "base_uri": "https://localhost:8080/"
        },
        "id": "zkTyTj03NXll",
        "outputId": "f79b00b2-141e-4d4e-a5a4-e080b09075cb"
      },
      "source": [
        "for i in range(10):\r\n",
        "    print(i, end=' ')"
      ],
      "execution_count": 10,
      "outputs": [
        {
          "output_type": "stream",
          "text": [
            "0 1 2 3 4 5 6 7 8 9 "
          ],
          "name": "stdout"
        }
      ]
    },
    {
      "cell_type": "markdown",
      "metadata": {
        "id": "bIiOUchlNm4w"
      },
      "source": [
        "### 4) while문\r\n",
        "반복을 끝낼 조건이 있을 때"
      ]
    },
    {
      "cell_type": "code",
      "metadata": {
        "colab": {
          "base_uri": "https://localhost:8080/"
        },
        "id": "7hvggvqRNpow",
        "outputId": "318caf0f-62d6-48b9-943c-b6d4fe4cf7e3"
      },
      "source": [
        "i = 0\r\n",
        "\r\n",
        "while i < 10:\r\n",
        "    print(i, end=' ')\r\n",
        "    #i++\r\n",
        "    i += 1"
      ],
      "execution_count": 11,
      "outputs": [
        {
          "output_type": "stream",
          "text": [
            "0 1 2 3 4 5 6 7 8 9 "
          ],
          "name": "stdout"
        }
      ]
    },
    {
      "cell_type": "markdown",
      "metadata": {
        "id": "zsA9XBspOKgr"
      },
      "source": [
        "### Containers"
      ]
    },
    {
      "cell_type": "markdown",
      "metadata": {
        "id": "BeGRsSHnOQBR"
      },
      "source": [
        "#### list"
      ]
    },
    {
      "cell_type": "code",
      "metadata": {
        "colab": {
          "base_uri": "https://localhost:8080/"
        },
        "id": "0K8Aei0VONEx",
        "outputId": "54fd4f87-5195-4946-9285-1d83670172d9"
      },
      "source": [
        "lst = [1, 2, 3, 4, 5]\r\n",
        "print(type(lst))"
      ],
      "execution_count": 12,
      "outputs": [
        {
          "output_type": "stream",
          "text": [
            "<class 'list'>\n"
          ],
          "name": "stdout"
        }
      ]
    },
    {
      "cell_type": "code",
      "metadata": {
        "colab": {
          "base_uri": "https://localhost:8080/"
        },
        "id": "wRjoAbjqOZW3",
        "outputId": "59174242-287f-42cd-8247-b3cbf79511ae"
      },
      "source": [
        "lst"
      ],
      "execution_count": 13,
      "outputs": [
        {
          "output_type": "execute_result",
          "data": {
            "text/plain": [
              "[1, 2, 3, 4, 5]"
            ]
          },
          "metadata": {
            "tags": []
          },
          "execution_count": 13
        }
      ]
    },
    {
      "cell_type": "code",
      "metadata": {
        "id": "L1j0zhj1OtLy"
      },
      "source": [
        "a = [1, 'abcd', 3.14, [3, 4, 5], (6, 7)]"
      ],
      "execution_count": 14,
      "outputs": []
    },
    {
      "cell_type": "code",
      "metadata": {
        "colab": {
          "base_uri": "https://localhost:8080/"
        },
        "id": "87K0gLTYO6YY",
        "outputId": "affd77d1-e7d9-4942-c779-4e1de213a3cb"
      },
      "source": [
        "a"
      ],
      "execution_count": 15,
      "outputs": [
        {
          "output_type": "execute_result",
          "data": {
            "text/plain": [
              "[1, 'abcd', 3.14, [3, 4, 5], (6, 7)]"
            ]
          },
          "metadata": {
            "tags": []
          },
          "execution_count": 15
        }
      ]
    },
    {
      "cell_type": "code",
      "metadata": {
        "id": "-KFkXm7yO_RS"
      },
      "source": [
        "b = [[1, 2],\r\n",
        "     [3, 4]]"
      ],
      "execution_count": 16,
      "outputs": []
    },
    {
      "cell_type": "code",
      "metadata": {
        "colab": {
          "base_uri": "https://localhost:8080/"
        },
        "id": "0vVV1THfPH-Y",
        "outputId": "a971ed7c-fe8d-4cf7-f3f1-ba001c4827f2"
      },
      "source": [
        "a.append(10)\r\n",
        "print(a)\r\n",
        "\r\n",
        "a.pop()\r\n",
        "print(a)"
      ],
      "execution_count": 17,
      "outputs": [
        {
          "output_type": "stream",
          "text": [
            "[1, 'abcd', 3.14, [3, 4, 5], (6, 7), 10]\n",
            "[1, 'abcd', 3.14, [3, 4, 5], (6, 7)]\n"
          ],
          "name": "stdout"
        }
      ]
    },
    {
      "cell_type": "code",
      "metadata": {
        "colab": {
          "base_uri": "https://localhost:8080/"
        },
        "id": "2PM_u_slPp-u",
        "outputId": "a2535af0-af75-4502-fdbd-b7e0f64433b1"
      },
      "source": [
        "a.pop(2)\r\n",
        "print(a)"
      ],
      "execution_count": 18,
      "outputs": [
        {
          "output_type": "stream",
          "text": [
            "[1, 'abcd', [3, 4, 5], (6, 7)]\n"
          ],
          "name": "stdout"
        }
      ]
    },
    {
      "cell_type": "markdown",
      "metadata": {
        "id": "hrNYJI-9PiGV"
      },
      "source": [
        "#### Tuple"
      ]
    },
    {
      "cell_type": "code",
      "metadata": {
        "id": "OQV9pV8fPQEe"
      },
      "source": [
        "tpl = (1,2,3,4,5)"
      ],
      "execution_count": 19,
      "outputs": []
    },
    {
      "cell_type": "code",
      "metadata": {
        "colab": {
          "base_uri": "https://localhost:8080/"
        },
        "id": "JiqG5wvgQB4H",
        "outputId": "d0fd6290-94e7-43a3-a9ea-a983f1243749"
      },
      "source": [
        "(x, y) = (1, 2)\r\n",
        "print(x, y)"
      ],
      "execution_count": 20,
      "outputs": [
        {
          "output_type": "stream",
          "text": [
            "1 2\n"
          ],
          "name": "stdout"
        }
      ]
    },
    {
      "cell_type": "code",
      "metadata": {
        "colab": {
          "base_uri": "https://localhost:8080/"
        },
        "id": "GWqoOB5fQPdy",
        "outputId": "49f67d2a-f1df-46fd-83ed-a0814bf5d98a"
      },
      "source": [
        "# unpacking\r\n",
        "x, y = 3, 4\r\n",
        "print(x, y)"
      ],
      "execution_count": 21,
      "outputs": [
        {
          "output_type": "stream",
          "text": [
            "3 4\n"
          ],
          "name": "stdout"
        }
      ]
    },
    {
      "cell_type": "markdown",
      "metadata": {
        "id": "OfKMjxFAQvQ1"
      },
      "source": [
        "#### indexing"
      ]
    },
    {
      "cell_type": "code",
      "metadata": {
        "colab": {
          "base_uri": "https://localhost:8080/"
        },
        "id": "E0miFzOcQmcA",
        "outputId": "3d47d362-e423-43ed-e3ca-2ba174183319"
      },
      "source": [
        "tpl[1]"
      ],
      "execution_count": 22,
      "outputs": [
        {
          "output_type": "execute_result",
          "data": {
            "text/plain": [
              "2"
            ]
          },
          "metadata": {
            "tags": []
          },
          "execution_count": 22
        }
      ]
    },
    {
      "cell_type": "code",
      "metadata": {
        "colab": {
          "base_uri": "https://localhost:8080/"
        },
        "id": "9RmYQdZ1Q0Qp",
        "outputId": "9162293c-19ce-4f89-f5ea-7358f3a5c09c"
      },
      "source": [
        "tpl[1:4]"
      ],
      "execution_count": 23,
      "outputs": [
        {
          "output_type": "execute_result",
          "data": {
            "text/plain": [
              "(2, 3, 4)"
            ]
          },
          "metadata": {
            "tags": []
          },
          "execution_count": 23
        }
      ]
    },
    {
      "cell_type": "code",
      "metadata": {
        "id": "dO7lHa_WQ30z"
      },
      "source": [
        "arr = [[1, 2, 3, 4],\r\n",
        "       [5, 6, 7, 8],\r\n",
        "       [9, 10, 11, 12]]"
      ],
      "execution_count": 24,
      "outputs": []
    },
    {
      "cell_type": "markdown",
      "metadata": {
        "id": "Jk7rWc_mRf9X"
      },
      "source": [
        "#### OPERATORS"
      ]
    },
    {
      "cell_type": "code",
      "metadata": {
        "colab": {
          "base_uri": "https://localhost:8080/"
        },
        "id": "cXBYp4rARckF",
        "outputId": "ab5e8d01-e7b5-4888-94ef-4463bb3323e3"
      },
      "source": [
        "7 / 5 \r\n",
        "# 나눗셈 연산자"
      ],
      "execution_count": 25,
      "outputs": [
        {
          "output_type": "execute_result",
          "data": {
            "text/plain": [
              "1.4"
            ]
          },
          "metadata": {
            "tags": []
          },
          "execution_count": 25
        }
      ]
    },
    {
      "cell_type": "code",
      "metadata": {
        "colab": {
          "base_uri": "https://localhost:8080/"
        },
        "id": "EJ8zvZ3xRobJ",
        "outputId": "f9932294-bcfa-4368-c6cf-787a3e2926e8"
      },
      "source": [
        "7 // 5 \r\n",
        "#몫의 연산자"
      ],
      "execution_count": 26,
      "outputs": [
        {
          "output_type": "execute_result",
          "data": {
            "text/plain": [
              "1"
            ]
          },
          "metadata": {
            "tags": []
          },
          "execution_count": 26
        }
      ]
    },
    {
      "cell_type": "code",
      "metadata": {
        "colab": {
          "base_uri": "https://localhost:8080/"
        },
        "id": "8mkqVNazR7fl",
        "outputId": "7d01f2ac-97d4-4f78-fb15-9399ebf33638"
      },
      "source": [
        "# 제곱 연산\r\n",
        "2 ** 4"
      ],
      "execution_count": 27,
      "outputs": [
        {
          "output_type": "execute_result",
          "data": {
            "text/plain": [
              "16"
            ]
          },
          "metadata": {
            "tags": []
          },
          "execution_count": 27
        }
      ]
    },
    {
      "cell_type": "markdown",
      "metadata": {
        "id": "1j6h5RybSec9"
      },
      "source": [
        "### Function"
      ]
    },
    {
      "cell_type": "code",
      "metadata": {
        "id": "eZrlsENiSgvd"
      },
      "source": [
        "def func():\r\n",
        "    return 'hello'"
      ],
      "execution_count": 28,
      "outputs": []
    },
    {
      "cell_type": "code",
      "metadata": {
        "colab": {
          "base_uri": "https://localhost:8080/"
        },
        "id": "wzed4gb7Snnp",
        "outputId": "015a1b7b-0624-4768-a245-ec82b5b35b44"
      },
      "source": [
        "print(func())"
      ],
      "execution_count": 29,
      "outputs": [
        {
          "output_type": "stream",
          "text": [
            "hello\n"
          ],
          "name": "stdout"
        }
      ]
    },
    {
      "cell_type": "markdown",
      "metadata": {
        "id": "lU2yut15Szk3"
      },
      "source": [
        "## 3. Numpy\r\n",
        "행렬을 다루기 쉽게 만들어주는 라이브러리"
      ]
    },
    {
      "cell_type": "code",
      "metadata": {
        "id": "HxiRv5j3S8dy"
      },
      "source": [
        "#include <stdio.h>\r\n",
        "import numpy as np"
      ],
      "execution_count": 30,
      "outputs": []
    },
    {
      "cell_type": "markdown",
      "metadata": {
        "id": "a2ueDcvvTlrX"
      },
      "source": [
        "### 1) 행렬 생성"
      ]
    },
    {
      "cell_type": "code",
      "metadata": {
        "id": "4tBotHeQTn6B"
      },
      "source": [
        "lst = [[1, 2],\r\n",
        "       [3, 4]]"
      ],
      "execution_count": 31,
      "outputs": []
    },
    {
      "cell_type": "code",
      "metadata": {
        "id": "dJknRZnETsAf"
      },
      "source": [
        "a = np.array(lst)"
      ],
      "execution_count": 32,
      "outputs": []
    },
    {
      "cell_type": "code",
      "metadata": {
        "colab": {
          "base_uri": "https://localhost:8080/"
        },
        "id": "0KbJEgRKTvVG",
        "outputId": "568de36d-2e28-40fa-e2c6-8facf2fc1161"
      },
      "source": [
        "type(lst), type(a)"
      ],
      "execution_count": 33,
      "outputs": [
        {
          "output_type": "execute_result",
          "data": {
            "text/plain": [
              "(list, numpy.ndarray)"
            ]
          },
          "metadata": {
            "tags": []
          },
          "execution_count": 33
        }
      ]
    },
    {
      "cell_type": "markdown",
      "metadata": {
        "id": "NKOOrGc6UBpc"
      },
      "source": [
        "### 2) 행렬 곱\r\n",
        "A : [a, b] B : [c, d]\r\n",
        "\r\n",
        "b = c 이어야 행렬 곱이 정의됨\r\n",
        "\r\n",
        "곱하기 결과 AB : [a, d]"
      ]
    },
    {
      "cell_type": "code",
      "metadata": {
        "colab": {
          "base_uri": "https://localhost:8080/"
        },
        "id": "z519p3RITwaq",
        "outputId": "e5166809-89f8-42ff-f7b3-ede3c8c847ba"
      },
      "source": [
        "a"
      ],
      "execution_count": 34,
      "outputs": [
        {
          "output_type": "execute_result",
          "data": {
            "text/plain": [
              "array([[1, 2],\n",
              "       [3, 4]])"
            ]
          },
          "metadata": {
            "tags": []
          },
          "execution_count": 34
        }
      ]
    },
    {
      "cell_type": "code",
      "metadata": {
        "id": "3JrMOZVuVt2N"
      },
      "source": [
        "b = np.array([[5, 6, 7],\r\n",
        "             [8, 9, 10]])"
      ],
      "execution_count": 35,
      "outputs": []
    },
    {
      "cell_type": "code",
      "metadata": {
        "colab": {
          "base_uri": "https://localhost:8080/"
        },
        "id": "wk0NZW36V-3-",
        "outputId": "e1cb6aba-d789-44e8-9c21-91d7c38422ce"
      },
      "source": [
        "b"
      ],
      "execution_count": 36,
      "outputs": [
        {
          "output_type": "execute_result",
          "data": {
            "text/plain": [
              "array([[ 5,  6,  7],\n",
              "       [ 8,  9, 10]])"
            ]
          },
          "metadata": {
            "tags": []
          },
          "execution_count": 36
        }
      ]
    },
    {
      "cell_type": "code",
      "metadata": {
        "id": "DtdJZf3jV_9x"
      },
      "source": [
        "# a : [2x2] b:[2x3] ab:[2x3]\r\n",
        "ab = np.matmul(a, b)"
      ],
      "execution_count": 37,
      "outputs": []
    },
    {
      "cell_type": "code",
      "metadata": {
        "colab": {
          "base_uri": "https://localhost:8080/"
        },
        "id": "ObIs0O0eWIt6",
        "outputId": "1b1412a3-1b87-4e78-9b07-2aff6f68ffc2"
      },
      "source": [
        "ab"
      ],
      "execution_count": 38,
      "outputs": [
        {
          "output_type": "execute_result",
          "data": {
            "text/plain": [
              "array([[21, 24, 27],\n",
              "       [47, 54, 61]])"
            ]
          },
          "metadata": {
            "tags": []
          },
          "execution_count": 38
        }
      ]
    },
    {
      "cell_type": "markdown",
      "metadata": {
        "id": "ssoED2tqWuTh"
      },
      "source": [
        "1x5 + 2x8 = 21\r\n",
        "\r\n",
        "3x6 + 4x9 = 54"
      ]
    },
    {
      "cell_type": "code",
      "metadata": {
        "colab": {
          "base_uri": "https://localhost:8080/"
        },
        "id": "8qxukm2JWu8p",
        "outputId": "c53e842a-09f6-4dda-b0c8-397de85080d3"
      },
      "source": [
        "# 2차원 행렬 @\r\n",
        "a @ b"
      ],
      "execution_count": 39,
      "outputs": [
        {
          "output_type": "execute_result",
          "data": {
            "text/plain": [
              "array([[21, 24, 27],\n",
              "       [47, 54, 61]])"
            ]
          },
          "metadata": {
            "tags": []
          },
          "execution_count": 39
        }
      ]
    },
    {
      "cell_type": "code",
      "metadata": {
        "id": "XkuWBbOBW8dD"
      },
      "source": [
        "# 행렬 곱은 앞뒤 바꾸면 값이 다름\r\n",
        "# b @ a"
      ],
      "execution_count": 40,
      "outputs": []
    },
    {
      "cell_type": "markdown",
      "metadata": {
        "id": "lQtNQJSeXJ8F"
      },
      "source": [
        "### 3) 전치행렬"
      ]
    },
    {
      "cell_type": "code",
      "metadata": {
        "id": "LQjb11LGXNas"
      },
      "source": [
        "d = np.transpose(ab)"
      ],
      "execution_count": 41,
      "outputs": []
    },
    {
      "cell_type": "code",
      "metadata": {
        "colab": {
          "base_uri": "https://localhost:8080/"
        },
        "id": "eCYKnErtXqUA",
        "outputId": "d9c0a6b1-56bf-4995-ecc9-d753ff551a58"
      },
      "source": [
        "ab"
      ],
      "execution_count": 42,
      "outputs": [
        {
          "output_type": "execute_result",
          "data": {
            "text/plain": [
              "array([[21, 24, 27],\n",
              "       [47, 54, 61]])"
            ]
          },
          "metadata": {
            "tags": []
          },
          "execution_count": 42
        }
      ]
    },
    {
      "cell_type": "code",
      "metadata": {
        "colab": {
          "base_uri": "https://localhost:8080/"
        },
        "id": "imbyuRQrXmoq",
        "outputId": "9180a8c1-95a6-416a-b0fc-8fa76419603a"
      },
      "source": [
        "d"
      ],
      "execution_count": 43,
      "outputs": [
        {
          "output_type": "execute_result",
          "data": {
            "text/plain": [
              "array([[21, 47],\n",
              "       [24, 54],\n",
              "       [27, 61]])"
            ]
          },
          "metadata": {
            "tags": []
          },
          "execution_count": 43
        }
      ]
    },
    {
      "cell_type": "markdown",
      "metadata": {
        "id": "tU4ddqipX6Ob"
      },
      "source": [
        "## numpy 문법"
      ]
    },
    {
      "cell_type": "code",
      "metadata": {
        "colab": {
          "base_uri": "https://localhost:8080/"
        },
        "id": "5nLVC5zgX99D",
        "outputId": "ee3f5037-9cd1-40b1-fa1c-58086ec49580"
      },
      "source": [
        "a"
      ],
      "execution_count": 44,
      "outputs": [
        {
          "output_type": "execute_result",
          "data": {
            "text/plain": [
              "array([[1, 2],\n",
              "       [3, 4]])"
            ]
          },
          "metadata": {
            "tags": []
          },
          "execution_count": 44
        }
      ]
    },
    {
      "cell_type": "code",
      "metadata": {
        "id": "7uQYSk3qX-54"
      },
      "source": [
        "a += 1"
      ],
      "execution_count": 45,
      "outputs": []
    },
    {
      "cell_type": "code",
      "metadata": {
        "colab": {
          "base_uri": "https://localhost:8080/"
        },
        "id": "0Rjk-kDBYFT0",
        "outputId": "292f8f00-e9eb-435c-9d54-c4214ea06728"
      },
      "source": [
        "a"
      ],
      "execution_count": 46,
      "outputs": [
        {
          "output_type": "execute_result",
          "data": {
            "text/plain": [
              "array([[2, 3],\n",
              "       [4, 5]])"
            ]
          },
          "metadata": {
            "tags": []
          },
          "execution_count": 46
        }
      ]
    },
    {
      "cell_type": "code",
      "metadata": {
        "id": "C2wkjyjVYIPy"
      },
      "source": [
        "a *= 2"
      ],
      "execution_count": 47,
      "outputs": []
    },
    {
      "cell_type": "code",
      "metadata": {
        "colab": {
          "base_uri": "https://localhost:8080/"
        },
        "id": "RfDZqFZBYK5o",
        "outputId": "ab222155-1aeb-4229-a183-98ce735e1e8b"
      },
      "source": [
        "a"
      ],
      "execution_count": 48,
      "outputs": [
        {
          "output_type": "execute_result",
          "data": {
            "text/plain": [
              "array([[ 4,  6],\n",
              "       [ 8, 10]])"
            ]
          },
          "metadata": {
            "tags": []
          },
          "execution_count": 48
        }
      ]
    },
    {
      "cell_type": "markdown",
      "metadata": {
        "id": "Nxz9bje9YbMK"
      },
      "source": [
        "####numpy 행렬 인덱싱"
      ]
    },
    {
      "cell_type": "code",
      "metadata": {
        "id": "uFdLDTNbYMTH"
      },
      "source": [
        "arr =[[1,2,3,4],\r\n",
        "      [5,6,7,8],\r\n",
        "      [9,10,11,12]]"
      ],
      "execution_count": 49,
      "outputs": []
    },
    {
      "cell_type": "code",
      "metadata": {
        "id": "gvOodtqxYoKF"
      },
      "source": [
        "A = np.random.randint(1, 100, (4, 5))"
      ],
      "execution_count": 50,
      "outputs": []
    },
    {
      "cell_type": "code",
      "metadata": {
        "colab": {
          "base_uri": "https://localhost:8080/"
        },
        "id": "Guh6nOT0YwQ0",
        "outputId": "c1f0990a-f042-499b-835e-ffdb749d2292"
      },
      "source": [
        "A"
      ],
      "execution_count": 51,
      "outputs": [
        {
          "output_type": "execute_result",
          "data": {
            "text/plain": [
              "array([[48, 45, 40, 15, 51],\n",
              "       [54, 19, 25, 13, 96],\n",
              "       [23, 20, 96,  6, 26],\n",
              "       [51, 13, 58, 37, 70]])"
            ]
          },
          "metadata": {
            "tags": []
          },
          "execution_count": 51
        }
      ]
    },
    {
      "cell_type": "code",
      "metadata": {
        "colab": {
          "base_uri": "https://localhost:8080/"
        },
        "id": "pbwTtvmfZGTr",
        "outputId": "7e8be693-39fe-4469-8209-08557dfd4efa"
      },
      "source": [
        "A[1,3]"
      ],
      "execution_count": 52,
      "outputs": [
        {
          "output_type": "execute_result",
          "data": {
            "text/plain": [
              "13"
            ]
          },
          "metadata": {
            "tags": []
          },
          "execution_count": 52
        }
      ]
    },
    {
      "cell_type": "code",
      "metadata": {
        "colab": {
          "base_uri": "https://localhost:8080/"
        },
        "id": "gYAnmKoHZN2Q",
        "outputId": "a1237580-682f-423e-a719-e8e22fdca9f9"
      },
      "source": [
        "A [1:3, 2:4]"
      ],
      "execution_count": 53,
      "outputs": [
        {
          "output_type": "execute_result",
          "data": {
            "text/plain": [
              "array([[25, 13],\n",
              "       [96,  6]])"
            ]
          },
          "metadata": {
            "tags": []
          },
          "execution_count": 53
        }
      ]
    },
    {
      "cell_type": "code",
      "metadata": {
        "colab": {
          "base_uri": "https://localhost:8080/"
        },
        "id": "QGxnHjdAZhlX",
        "outputId": "a90ba317-bf98-4aa1-ffb2-0c19d1e5959d"
      },
      "source": [
        "A[:,1:3]"
      ],
      "execution_count": 54,
      "outputs": [
        {
          "output_type": "execute_result",
          "data": {
            "text/plain": [
              "array([[45, 40],\n",
              "       [19, 25],\n",
              "       [20, 96],\n",
              "       [13, 58]])"
            ]
          },
          "metadata": {
            "tags": []
          },
          "execution_count": 54
        }
      ]
    },
    {
      "cell_type": "code",
      "metadata": {
        "colab": {
          "base_uri": "https://localhost:8080/"
        },
        "id": "IsEwbE-QZsHs",
        "outputId": "03a6f66e-3aaa-4cdc-d569-caa6ff3d2b18"
      },
      "source": [
        "A[:,[1,3]]"
      ],
      "execution_count": 55,
      "outputs": [
        {
          "output_type": "execute_result",
          "data": {
            "text/plain": [
              "array([[45, 15],\n",
              "       [19, 13],\n",
              "       [20,  6],\n",
              "       [13, 37]])"
            ]
          },
          "metadata": {
            "tags": []
          },
          "execution_count": 55
        }
      ]
    },
    {
      "cell_type": "code",
      "metadata": {
        "colab": {
          "base_uri": "https://localhost:8080/"
        },
        "id": "uFdJJWrZZ7UC",
        "outputId": "a7ed5aef-74b8-4230-f24c-2c5bf569bc76"
      },
      "source": [
        "A [1:, 2:] # 1행부터 마지막 행까지, 2열부터 마지막 열까지"
      ],
      "execution_count": 56,
      "outputs": [
        {
          "output_type": "execute_result",
          "data": {
            "text/plain": [
              "array([[25, 13, 96],\n",
              "       [96,  6, 26],\n",
              "       [58, 37, 70]])"
            ]
          },
          "metadata": {
            "tags": []
          },
          "execution_count": 56
        }
      ]
    },
    {
      "cell_type": "markdown",
      "metadata": {
        "id": "-ikP5N7wat84"
      },
      "source": [
        "## 4. Pandas로 데이터 읽기\r\n",
        "csv : comma seperated values\r\n",
        "```\r\n",
        "1,2,3\r\n",
        "4,5,6\r\n",
        "```\r\n"
      ]
    },
    {
      "cell_type": "code",
      "metadata": {
        "id": "IFKEaz4Gaxus"
      },
      "source": [
        "import pandas as pd"
      ],
      "execution_count": 57,
      "outputs": []
    },
    {
      "cell_type": "code",
      "metadata": {
        "id": "a-VGEpueb5X2"
      },
      "source": [
        "path = '/content/data_lab1.txt'\r\n",
        "columns = ['x', 'y']"
      ],
      "execution_count": 58,
      "outputs": []
    },
    {
      "cell_type": "code",
      "metadata": {
        "id": "gzJjoCDbcjNH"
      },
      "source": [
        "# 기본값 comma 대신 spacebar로 구분하겠다는 뜻\r\n",
        "data = pd.read_csv(path, sep=' ', names=columns)"
      ],
      "execution_count": 59,
      "outputs": []
    },
    {
      "cell_type": "code",
      "metadata": {
        "colab": {
          "base_uri": "https://localhost:8080/"
        },
        "id": "JJyTeXDAdL6l",
        "outputId": "d39081f2-8f15-4d4c-d6d5-158f713fe9ed"
      },
      "source": [
        "type(data)"
      ],
      "execution_count": 60,
      "outputs": [
        {
          "output_type": "execute_result",
          "data": {
            "text/plain": [
              "pandas.core.frame.DataFrame"
            ]
          },
          "metadata": {
            "tags": []
          },
          "execution_count": 60
        }
      ]
    },
    {
      "cell_type": "code",
      "metadata": {
        "colab": {
          "base_uri": "https://localhost:8080/",
          "height": 419
        },
        "id": "RxBpLo4ddSwC",
        "outputId": "a9793725-cd94-476f-e68e-6d0a6ecb1a85"
      },
      "source": [
        "data"
      ],
      "execution_count": 61,
      "outputs": [
        {
          "output_type": "execute_result",
          "data": {
            "text/html": [
              "<div>\n",
              "<style scoped>\n",
              "    .dataframe tbody tr th:only-of-type {\n",
              "        vertical-align: middle;\n",
              "    }\n",
              "\n",
              "    .dataframe tbody tr th {\n",
              "        vertical-align: top;\n",
              "    }\n",
              "\n",
              "    .dataframe thead th {\n",
              "        text-align: right;\n",
              "    }\n",
              "</style>\n",
              "<table border=\"1\" class=\"dataframe\">\n",
              "  <thead>\n",
              "    <tr style=\"text-align: right;\">\n",
              "      <th></th>\n",
              "      <th>x</th>\n",
              "      <th>y</th>\n",
              "    </tr>\n",
              "  </thead>\n",
              "  <tbody>\n",
              "    <tr>\n",
              "      <th>0</th>\n",
              "      <td>0.000000</td>\n",
              "      <td>0.685785</td>\n",
              "    </tr>\n",
              "    <tr>\n",
              "      <th>1</th>\n",
              "      <td>0.020202</td>\n",
              "      <td>1.671735</td>\n",
              "    </tr>\n",
              "    <tr>\n",
              "      <th>2</th>\n",
              "      <td>0.040404</td>\n",
              "      <td>2.406276</td>\n",
              "    </tr>\n",
              "    <tr>\n",
              "      <th>3</th>\n",
              "      <td>0.060606</td>\n",
              "      <td>0.375167</td>\n",
              "    </tr>\n",
              "    <tr>\n",
              "      <th>4</th>\n",
              "      <td>0.080808</td>\n",
              "      <td>4.355949</td>\n",
              "    </tr>\n",
              "    <tr>\n",
              "      <th>...</th>\n",
              "      <td>...</td>\n",
              "      <td>...</td>\n",
              "    </tr>\n",
              "    <tr>\n",
              "      <th>95</th>\n",
              "      <td>1.919192</td>\n",
              "      <td>19.975148</td>\n",
              "    </tr>\n",
              "    <tr>\n",
              "      <th>96</th>\n",
              "      <td>1.939394</td>\n",
              "      <td>20.358975</td>\n",
              "    </tr>\n",
              "    <tr>\n",
              "      <th>97</th>\n",
              "      <td>1.959596</td>\n",
              "      <td>22.849086</td>\n",
              "    </tr>\n",
              "    <tr>\n",
              "      <th>98</th>\n",
              "      <td>1.979798</td>\n",
              "      <td>19.977494</td>\n",
              "    </tr>\n",
              "    <tr>\n",
              "      <th>99</th>\n",
              "      <td>2.000000</td>\n",
              "      <td>20.861562</td>\n",
              "    </tr>\n",
              "  </tbody>\n",
              "</table>\n",
              "<p>100 rows × 2 columns</p>\n",
              "</div>"
            ],
            "text/plain": [
              "           x          y\n",
              "0   0.000000   0.685785\n",
              "1   0.020202   1.671735\n",
              "2   0.040404   2.406276\n",
              "3   0.060606   0.375167\n",
              "4   0.080808   4.355949\n",
              "..       ...        ...\n",
              "95  1.919192  19.975148\n",
              "96  1.939394  20.358975\n",
              "97  1.959596  22.849086\n",
              "98  1.979798  19.977494\n",
              "99  2.000000  20.861562\n",
              "\n",
              "[100 rows x 2 columns]"
            ]
          },
          "metadata": {
            "tags": []
          },
          "execution_count": 61
        }
      ]
    },
    {
      "cell_type": "code",
      "metadata": {
        "colab": {
          "base_uri": "https://localhost:8080/"
        },
        "id": "uc_tvpHTdhzw",
        "outputId": "fa2373da-db23-462c-faf9-5b7eb6e02b73"
      },
      "source": [
        "type(data['x'])"
      ],
      "execution_count": 62,
      "outputs": [
        {
          "output_type": "execute_result",
          "data": {
            "text/plain": [
              "pandas.core.series.Series"
            ]
          },
          "metadata": {
            "tags": []
          },
          "execution_count": 62
        }
      ]
    },
    {
      "cell_type": "code",
      "metadata": {
        "colab": {
          "base_uri": "https://localhost:8080/"
        },
        "id": "0xWRZP_ndn-X",
        "outputId": "ed42a237-ed24-4c28-deff-154a66c828da"
      },
      "source": [
        "data['x']"
      ],
      "execution_count": 63,
      "outputs": [
        {
          "output_type": "execute_result",
          "data": {
            "text/plain": [
              "0     0.000000\n",
              "1     0.020202\n",
              "2     0.040404\n",
              "3     0.060606\n",
              "4     0.080808\n",
              "        ...   \n",
              "95    1.919192\n",
              "96    1.939394\n",
              "97    1.959596\n",
              "98    1.979798\n",
              "99    2.000000\n",
              "Name: x, Length: 100, dtype: float64"
            ]
          },
          "metadata": {
            "tags": []
          },
          "execution_count": 63
        }
      ]
    },
    {
      "cell_type": "code",
      "metadata": {
        "id": "dQx-9EOUduYe"
      },
      "source": [
        "x = np.asarray(data['x'])\r\n",
        "y = np.asarray(data['y'])"
      ],
      "execution_count": 64,
      "outputs": []
    },
    {
      "cell_type": "code",
      "metadata": {
        "colab": {
          "base_uri": "https://localhost:8080/"
        },
        "id": "jFeo6cPNd2d3",
        "outputId": "663e8466-b53c-46f1-d619-58e4ea355e5e"
      },
      "source": [
        "x"
      ],
      "execution_count": 65,
      "outputs": [
        {
          "output_type": "execute_result",
          "data": {
            "text/plain": [
              "array([0.        , 0.02020202, 0.04040404, 0.06060606, 0.08080808,\n",
              "       0.1010101 , 0.12121212, 0.14141414, 0.16161616, 0.18181818,\n",
              "       0.2020202 , 0.22222222, 0.24242424, 0.26262626, 0.28282828,\n",
              "       0.3030303 , 0.32323232, 0.34343434, 0.36363636, 0.38383838,\n",
              "       0.4040404 , 0.42424242, 0.44444444, 0.46464646, 0.48484848,\n",
              "       0.50505051, 0.52525253, 0.54545455, 0.56565657, 0.58585859,\n",
              "       0.60606061, 0.62626263, 0.64646465, 0.66666667, 0.68686869,\n",
              "       0.70707071, 0.72727273, 0.74747475, 0.76767677, 0.78787879,\n",
              "       0.80808081, 0.82828283, 0.84848485, 0.86868687, 0.88888889,\n",
              "       0.90909091, 0.92929293, 0.94949495, 0.96969697, 0.98989899,\n",
              "       1.01010101, 1.03030303, 1.05050505, 1.07070707, 1.09090909,\n",
              "       1.11111111, 1.13131313, 1.15151515, 1.17171717, 1.19191919,\n",
              "       1.21212121, 1.23232323, 1.25252525, 1.27272727, 1.29292929,\n",
              "       1.31313131, 1.33333333, 1.35353535, 1.37373737, 1.39393939,\n",
              "       1.41414141, 1.43434343, 1.45454545, 1.47474747, 1.49494949,\n",
              "       1.51515152, 1.53535354, 1.55555556, 1.57575758, 1.5959596 ,\n",
              "       1.61616162, 1.63636364, 1.65656566, 1.67676768, 1.6969697 ,\n",
              "       1.71717172, 1.73737374, 1.75757576, 1.77777778, 1.7979798 ,\n",
              "       1.81818182, 1.83838384, 1.85858586, 1.87878788, 1.8989899 ,\n",
              "       1.91919192, 1.93939394, 1.95959596, 1.97979798, 2.        ])"
            ]
          },
          "metadata": {
            "tags": []
          },
          "execution_count": 65
        }
      ]
    },
    {
      "cell_type": "code",
      "metadata": {
        "colab": {
          "base_uri": "https://localhost:8080/"
        },
        "id": "0Q_Xflb9d8n5",
        "outputId": "c33bc7c2-6335-472f-e714-f1507ba382af"
      },
      "source": [
        "x.shape, y.shape"
      ],
      "execution_count": 66,
      "outputs": [
        {
          "output_type": "execute_result",
          "data": {
            "text/plain": [
              "((100,), (100,))"
            ]
          },
          "metadata": {
            "tags": []
          },
          "execution_count": 66
        }
      ]
    },
    {
      "cell_type": "code",
      "metadata": {
        "colab": {
          "base_uri": "https://localhost:8080/"
        },
        "id": "rV6VOEareFMp",
        "outputId": "73979106-0a3c-4fec-b02d-ad4b09895323"
      },
      "source": [
        "ab"
      ],
      "execution_count": 67,
      "outputs": [
        {
          "output_type": "execute_result",
          "data": {
            "text/plain": [
              "array([[21, 24, 27],\n",
              "       [47, 54, 61]])"
            ]
          },
          "metadata": {
            "tags": []
          },
          "execution_count": 67
        }
      ]
    },
    {
      "cell_type": "code",
      "metadata": {
        "colab": {
          "base_uri": "https://localhost:8080/"
        },
        "id": "MempglDKd_8l",
        "outputId": "278a2097-54e9-4ac5-f059-86686dfde3c4"
      },
      "source": [
        "ab.shape"
      ],
      "execution_count": 68,
      "outputs": [
        {
          "output_type": "execute_result",
          "data": {
            "text/plain": [
              "(2, 3)"
            ]
          },
          "metadata": {
            "tags": []
          },
          "execution_count": 68
        }
      ]
    },
    {
      "cell_type": "markdown",
      "metadata": {
        "id": "Fk9gIeRkeWme"
      },
      "source": [
        "## 5. Matplotlib으로 시각화하기\r\n",
        "MATLAB에서 그래프 그리는 문법을 거의 그대로 파이썬으로 가져온 라이브러리"
      ]
    },
    {
      "cell_type": "code",
      "metadata": {
        "id": "NHnK_2irebKr"
      },
      "source": [
        "import matplotlib.pyplot as plt"
      ],
      "execution_count": 69,
      "outputs": []
    },
    {
      "cell_type": "code",
      "metadata": {
        "colab": {
          "base_uri": "https://localhost:8080/",
          "height": 283
        },
        "id": "xIR57kzxesF4",
        "outputId": "c1cf7578-9224-4ce4-8328-1d5f722c2819"
      },
      "source": [
        "plt.plot(x, y)"
      ],
      "execution_count": 70,
      "outputs": [
        {
          "output_type": "execute_result",
          "data": {
            "text/plain": [
              "[<matplotlib.lines.Line2D at 0x7f728be19978>]"
            ]
          },
          "metadata": {
            "tags": []
          },
          "execution_count": 70
        },
        {
          "output_type": "display_data",
          "data": {
            "image/png": "[encoded data removed]",
            "text/plain": [
              "<Figure size 432x288 with 1 Axes>"
            ]
          },
          "metadata": {
            "tags": [],
            "needs_background": "light"
          }
        }
      ]
    },
    {
      "cell_type": "code",
      "metadata": {
        "colab": {
          "base_uri": "https://localhost:8080/",
          "height": 283
        },
        "id": "RvOhsALde_f6",
        "outputId": "ca44328e-149c-41e2-a8b8-cce523615956"
      },
      "source": [
        "plt.plot(x, y, 'ro') # 빨간색 동그라미"
      ],
      "execution_count": 71,
      "outputs": [
        {
          "output_type": "execute_result",
          "data": {
            "text/plain": [
              "[<matplotlib.lines.Line2D at 0x7f728b94c2b0>]"
            ]
          },
          "metadata": {
            "tags": []
          },
          "execution_count": 71
        },
        {
          "output_type": "display_data",
          "data": {
            "image/png": "[encoded data removed]",
            "text/plain": [
              "<Figure size 432x288 with 1 Axes>"
            ]
          },
          "metadata": {
            "tags": [],
            "needs_background": "light"
          }
        }
      ]
    },
    {
      "cell_type": "code",
      "metadata": {
        "colab": {
          "base_uri": "https://localhost:8080/",
          "height": 283
        },
        "id": "e1pSU22XfNia",
        "outputId": "9ea52726-627f-47b9-db27-3d18f1289305"
      },
      "source": [
        "plt.plot(x, y, 'b.') # 파란색 점"
      ],
      "execution_count": 72,
      "outputs": [
        {
          "output_type": "execute_result",
          "data": {
            "text/plain": [
              "[<matplotlib.lines.Line2D at 0x7f728b8d93c8>]"
            ]
          },
          "metadata": {
            "tags": []
          },
          "execution_count": 72
        },
        {
          "output_type": "display_data",
          "data": {
            "image/png": "[encoded data removed]",
            "text/plain": [
              "<Figure size 432x288 with 1 Axes>"
            ]
          },
          "metadata": {
            "tags": [],
            "needs_background": "light"
          }
        }
      ]
    },
    {
      "cell_type": "code",
      "metadata": {
        "colab": {
          "base_uri": "https://localhost:8080/",
          "height": 283
        },
        "id": "5uzkDbupfR_z",
        "outputId": "64c82000-e9db-4a47-c1cd-86a4c95789da"
      },
      "source": [
        "plt.plot(x, y, 'k*') # 검은색 별"
      ],
      "execution_count": 73,
      "outputs": [
        {
          "output_type": "execute_result",
          "data": {
            "text/plain": [
              "[<matplotlib.lines.Line2D at 0x7f728b8c32b0>]"
            ]
          },
          "metadata": {
            "tags": []
          },
          "execution_count": 73
        },
        {
          "output_type": "display_data",
          "data": {
            "image/png": "[encoded data removed]",
            "text/plain": [
              "<Figure size 432x288 with 1 Axes>"
            ]
          },
          "metadata": {
            "tags": [],
            "needs_background": "light"
          }
        }
      ]
    },
    {
      "cell_type": "code",
      "metadata": {
        "colab": {
          "base_uri": "https://localhost:8080/",
          "height": 265
        },
        "id": "nU1xXcZXfYGY",
        "outputId": "0ce16cb2-7c0a-43ad-a030-871ce3853aa3"
      },
      "source": [
        "plt.plot(x, y, 'g-') # 초록색 선\r\n",
        "plt.show()"
      ],
      "execution_count": 74,
      "outputs": [
        {
          "output_type": "display_data",
          "data": {
            "image/png": "[encoded data removed]",
            "text/plain": [
              "<Figure size 432x288 with 1 Axes>"
            ]
          },
          "metadata": {
            "tags": [],
            "needs_background": "light"
          }
        }
      ]
    },
    {
      "cell_type": "code",
      "metadata": {
        "colab": {
          "base_uri": "https://localhost:8080/",
          "height": 295
        },
        "id": "uRZbhusEfy-G",
        "outputId": "abed64cd-e5c6-4514-c7dc-e471affb3db6"
      },
      "source": [
        "plt.plot(x, y, 'y^', label='data')\r\n",
        "\r\n",
        "# 축 제목\r\n",
        "plt.xlabel('x')\r\n",
        "plt.xlabel('y')\r\n",
        "\r\n",
        "#그래프 제목\r\n",
        "plt.title('Plot of data')\r\n",
        "\r\n",
        "#범례 추가\r\n",
        "plt.legend(loc='lower right')\r\n",
        "\r\n",
        "plt.show()"
      ],
      "execution_count": 75,
      "outputs": [
        {
          "output_type": "display_data",
          "data": {
            "image/png": "[encoded data removed]",
            "text/plain": [
              "<Figure size 432x288 with 1 Axes>"
            ]
          },
          "metadata": {
            "tags": [],
            "needs_background": "light"
          }
        }
      ]
    }
  ]
}