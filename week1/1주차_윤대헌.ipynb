{
  "nbformat": 4,
  "nbformat_minor": 0,
  "metadata": {
    "colab": {
      "name": "1주차 윤대헌.ipynb",
      "provenance": [],
      "collapsed_sections": [],
      "toc_visible": true,
      "authorship_tag": "ABX9TyM9vweZB0vMngLh9fMaWCyf",
      "include_colab_link": true
    },
    "kernelspec": {
      "name": "python3",
      "display_name": "Python 3"
    }
  },
  "cells": [
    {
      "cell_type": "markdown",
      "metadata": {
        "id": "view-in-github",
        "colab_type": "text"
      },
      "source": [
        "<a href=\"https://colab.research.google.com/github/gnbhub/gnbai2020w/blob/main/week1/1%EC%A3%BC%EC%B0%A8_%EC%9C%A4%EB%8C%80%ED%97%8C.ipynb\" target=\"_parent\"><img src=\"https://colab.research.google.com/assets/colab-badge.svg\" alt=\"Open In Colab\"/></a>"
      ]
    },
    {
      "cell_type": "markdown",
      "metadata": {
        "id": "_aAhOHuOJfFK"
      },
      "source": [
        "# GNB AI 스터디 1주차\r\n",
        "colab: 구글에서 제공하는 Jupyter notebook의 클라우드 서비스\r\n",
        "\r\n"
      ]
    },
    {
      "cell_type": "markdown",
      "metadata": {
        "id": "XTiR525SJmHq"
      },
      "source": [
        "# Jupyter notebook 사용법\r\n",
        "\r\n",
        "```\r\n",
        "# 제목 1\r\n",
        "## 제목 2\r\n",
        "### 제목 3\r\n",
        "```\r\n",
        "줄바꿈이\r\n",
        "안됩니다\r\n",
        "\r\n",
        "줄바꿈\r\n",
        "\r\n",
        "된다!\r\n",
        "\r\n",
        "# 코드 블럭\r\n",
        "```\r\n",
        "코드 블럭\r\n",
        "```\r\n",
        "\r\n",
        "$$\r\n",
        "f(x) = 2x\r\n",
        "$$"
      ]
    },
    {
      "cell_type": "markdown",
      "metadata": {
        "id": "_7PuvCjUKp0_"
      },
      "source": [
        "# 2. Python 기본 문법"
      ]
    },
    {
      "cell_type": "code",
      "metadata": {
        "colab": {
          "base_uri": "https://localhost:8080/"
        },
        "id": "WbvMzSVMKrZZ",
        "outputId": "31a7e817-28c1-42b7-eb2f-c1b5e88e89df"
      },
      "source": [
        "print(\"hello world\")"
      ],
      "execution_count": null,
      "outputs": [
        {
          "output_type": "stream",
          "text": [
            "hello world\n"
          ],
          "name": "stdout"
        }
      ]
    },
    {
      "cell_type": "code",
      "metadata": {
        "colab": {
          "base_uri": "https://localhost:8080/"
        },
        "id": "hggfKbK4kvn9",
        "outputId": "60ba6888-fb13-4b81-bb29-b04f1c39887b"
      },
      "source": [
        "for i in range(10):\r\n",
        "    print(i)"
      ],
      "execution_count": null,
      "outputs": [
        {
          "output_type": "stream",
          "text": [
            "0\n",
            "1\n",
            "2\n",
            "3\n",
            "4\n",
            "5\n",
            "6\n",
            "7\n",
            "8\n",
            "9\n"
          ],
          "name": "stdout"
        }
      ]
    },
    {
      "cell_type": "code",
      "metadata": {
        "id": "ZbZItvEaLTdZ"
      },
      "source": [
        "import pandas as pd\r\n",
        "import numpy as np"
      ],
      "execution_count": null,
      "outputs": []
    },
    {
      "cell_type": "code",
      "metadata": {
        "id": "UqBHdfkDcKvi"
      },
      "source": [
        "path = \"/content/data_lab1.txt\""
      ],
      "execution_count": null,
      "outputs": []
    },
    {
      "cell_type": "code",
      "metadata": {
        "id": "_Cxj9olOcL53"
      },
      "source": [
        "columns = ['x','y']"
      ],
      "execution_count": null,
      "outputs": []
    },
    {
      "cell_type": "code",
      "metadata": {
        "id": "rXoBycULcpet"
      },
      "source": [
        "data = pd.read_csv(path, sep=' ', names=columns)"
      ],
      "execution_count": null,
      "outputs": []
    },
    {
      "cell_type": "code",
      "metadata": {
        "colab": {
          "base_uri": "https://localhost:8080/",
          "height": 415
        },
        "id": "57FG6aCAdNm7",
        "outputId": "6b023ab0-bdd0-4814-e337-554016612d39"
      },
      "source": [
        "data"
      ],
      "execution_count": null,
      "outputs": [
        {
          "output_type": "execute_result",
          "data": {
            "text/html": [
              "<div>\n",
              "<style scoped>\n",
              "    .dataframe tbody tr th:only-of-type {\n",
              "        vertical-align: middle;\n",
              "    }\n",
              "\n",
              "    .dataframe tbody tr th {\n",
              "        vertical-align: top;\n",
              "    }\n",
              "\n",
              "    .dataframe thead th {\n",
              "        text-align: right;\n",
              "    }\n",
              "</style>\n",
              "<table border=\"1\" class=\"dataframe\">\n",
              "  <thead>\n",
              "    <tr style=\"text-align: right;\">\n",
              "      <th></th>\n",
              "      <th>x</th>\n",
              "      <th>y</th>\n",
              "    </tr>\n",
              "  </thead>\n",
              "  <tbody>\n",
              "    <tr>\n",
              "      <th>0</th>\n",
              "      <td>0.000000</td>\n",
              "      <td>0.685785</td>\n",
              "    </tr>\n",
              "    <tr>\n",
              "      <th>1</th>\n",
              "      <td>0.020202</td>\n",
              "      <td>1.671735</td>\n",
              "    </tr>\n",
              "    <tr>\n",
              "      <th>2</th>\n",
              "      <td>0.040404</td>\n",
              "      <td>2.406276</td>\n",
              "    </tr>\n",
              "    <tr>\n",
              "      <th>3</th>\n",
              "      <td>0.060606</td>\n",
              "      <td>0.375167</td>\n",
              "    </tr>\n",
              "    <tr>\n",
              "      <th>4</th>\n",
              "      <td>0.080808</td>\n",
              "      <td>4.355949</td>\n",
              "    </tr>\n",
              "    <tr>\n",
              "      <th>...</th>\n",
              "      <td>...</td>\n",
              "      <td>...</td>\n",
              "    </tr>\n",
              "    <tr>\n",
              "      <th>95</th>\n",
              "      <td>1.919192</td>\n",
              "      <td>19.975148</td>\n",
              "    </tr>\n",
              "    <tr>\n",
              "      <th>96</th>\n",
              "      <td>1.939394</td>\n",
              "      <td>20.358975</td>\n",
              "    </tr>\n",
              "    <tr>\n",
              "      <th>97</th>\n",
              "      <td>1.959596</td>\n",
              "      <td>22.849086</td>\n",
              "    </tr>\n",
              "    <tr>\n",
              "      <th>98</th>\n",
              "      <td>1.979798</td>\n",
              "      <td>19.977494</td>\n",
              "    </tr>\n",
              "    <tr>\n",
              "      <th>99</th>\n",
              "      <td>2.000000</td>\n",
              "      <td>20.861562</td>\n",
              "    </tr>\n",
              "  </tbody>\n",
              "</table>\n",
              "<p>100 rows × 2 columns</p>\n",
              "</div>"
            ],
            "text/plain": [
              "           x          y\n",
              "0   0.000000   0.685785\n",
              "1   0.020202   1.671735\n",
              "2   0.040404   2.406276\n",
              "3   0.060606   0.375167\n",
              "4   0.080808   4.355949\n",
              "..       ...        ...\n",
              "95  1.919192  19.975148\n",
              "96  1.939394  20.358975\n",
              "97  1.959596  22.849086\n",
              "98  1.979798  19.977494\n",
              "99  2.000000  20.861562\n",
              "\n",
              "[100 rows x 2 columns]"
            ]
          },
          "metadata": {
            "tags": []
          },
          "execution_count": 7
        }
      ]
    },
    {
      "cell_type": "code",
      "metadata": {
        "id": "qGT3_7LydcsH"
      },
      "source": [
        "import matplotlib.pyplot as plt"
      ],
      "execution_count": null,
      "outputs": []
    },
    {
      "cell_type": "code",
      "metadata": {
        "id": "6E8bRiqPe8zs"
      },
      "source": [
        "x = np.asarray(data['x'])\r\n",
        "y = np.asarray(data['y'])"
      ],
      "execution_count": null,
      "outputs": []
    },
    {
      "cell_type": "code",
      "metadata": {
        "id": "xg7KDDR2e90u",
        "colab": {
          "base_uri": "https://localhost:8080/",
          "height": 284
        },
        "outputId": "1c4ed495-6d34-4ebf-9e78-2caa1ec8dc9d"
      },
      "source": [
        "plt.plot(x, y)"
      ],
      "execution_count": null,
      "outputs": [
        {
          "output_type": "execute_result",
          "data": {
            "text/plain": [
              "[<matplotlib.lines.Line2D at 0x7f2c75adb978>]"
            ]
          },
          "metadata": {
            "tags": []
          },
          "execution_count": 10
        },
        {
          "output_type": "display_data",
          "data": {
            "image/png": "[encoded data removed]",
            "text/plain": [
              "<Figure size 432x288 with 1 Axes>"
            ]
          },
          "metadata": {
            "tags": [],
            "needs_background": "light"
          }
        }
      ]
    },
    {
      "cell_type": "code",
      "metadata": {
        "colab": {
          "base_uri": "https://localhost:8080/",
          "height": 295
        },
        "id": "TGhG78O3k98E",
        "outputId": "64946daf-fdf5-4817-b0e2-d9e47b690b9d"
      },
      "source": [
        "plt.plot(x, y, 'y^', label='abcd')\r\n",
        "\r\n",
        "# 축 제목\r\n",
        "plt.xlabel('x')\r\n",
        "plt.ylabel('y')\r\n",
        "\r\n",
        "# 그래프 제목\r\n",
        "plt.title('Plot of data')\r\n",
        "\r\n",
        "# 범례 추가\r\n",
        "plt.legend(loc='lower right')\r\n",
        "\r\n",
        "plt.show()"
      ],
      "execution_count": null,
      "outputs": [
        {
          "output_type": "display_data",
          "data": {
            "image/png": "[encoded data removed]",
            "text/plain": [
              "<Figure size 432x288 with 1 Axes>"
            ]
          },
          "metadata": {
            "tags": [],
            "needs_background": "light"
          }
        }
      ]
    }
  ]
}