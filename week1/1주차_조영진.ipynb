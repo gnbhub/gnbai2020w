{
  "nbformat": 4,
  "nbformat_minor": 0,
  "metadata": {
    "colab": {
      "name": "인공지능 스터디 1주차",
      "provenance": [],
      "collapsed_sections": [],
      "authorship_tag": "ABX9TyOaV8p2dWxpau0BXf3qXt26",
      "include_colab_link": true
    },
    "kernelspec": {
      "name": "python3",
      "display_name": "Python 3"
    }
  },
  "cells": [
    {
      "cell_type": "markdown",
      "metadata": {
        "id": "view-in-github",
        "colab_type": "text"
      },
      "source": [
        "<a href=\"https://colab.research.google.com/github/gnbhub/gnbai2020w/blob/main/week1/1%EC%A3%BC%EC%B0%A8_%EC%A1%B0%EC%98%81%EC%A7%84.ipynb\" target=\"_parent\"><img src=\"https://colab.research.google.com/assets/colab-badge.svg\" alt=\"Open In Colab\"/></a>"
      ]
    },
    {
      "cell_type": "markdown",
      "metadata": {
        "id": "0l77sQ0zh-6B"
      },
      "source": [
        "ctrl+enter: 현재 선택한 블럭 실행\r\n",
        "\r\n",
        "\r\n",
        "shift+enter: 현재선택한 블럭 실행하고 다음 블럭으로\r\n",
        "\r\n",
        "\r\n",
        "ctrl+F9: 모든 블럭 실행\r\n",
        "\r\n",
        "\r\n",
        "ctrl+/:현재 라인 주석"
      ]
    },
    {
      "cell_type": "code",
      "metadata": {
        "id": "lD9ZL77pL-bb"
      },
      "source": [
        "n=10"
      ],
      "execution_count": null,
      "outputs": []
    },
    {
      "cell_type": "code",
      "metadata": {
        "colab": {
          "base_uri": "https://localhost:8080/"
        },
        "id": "Gz6CbDQ_Lki-",
        "outputId": "53e852ce-5127-4861-b628-e737a3cb1f8b"
      },
      "source": [
        "\r\n",
        "if n>5:\r\n",
        "    print('5보다 큽니다 ')\r\n",
        "elif n==5:\r\n",
        "    print('5입니다.')\r\n",
        "      \r\n",
        "else:\r\n",
        "    print('5보다 작거나 같습니다.')    "
      ],
      "execution_count": null,
      "outputs": [
        {
          "output_type": "stream",
          "text": [
            "5보다 큽니다 \n"
          ],
          "name": "stdout"
        }
      ]
    },
    {
      "cell_type": "markdown",
      "metadata": {
        "id": "TWVobKACMRx3"
      },
      "source": [
        "### 3) for문\r\n",
        "####반복횟수를 모를 때\r\n",
        "```c\r\n",
        "for(int i=0; i < 10 ; i++){\r\n",
        "   printf(\"%d\",i);\r\n",
        "}\r\n",
        "printf(\"\\n\");```\r\n",
        "\r\n"
      ]
    },
    {
      "cell_type": "code",
      "metadata": {
        "id": "BAwGJjk6NjER"
      },
      "source": [
        "A=list(range(10))"
      ],
      "execution_count": null,
      "outputs": []
    },
    {
      "cell_type": "code",
      "metadata": {
        "colab": {
          "base_uri": "https://localhost:8080/"
        },
        "id": "_NYso-oSNnra",
        "outputId": "d090933b-6b07-4517-e17e-4453d13749f8"
      },
      "source": [
        "A"
      ],
      "execution_count": null,
      "outputs": [
        {
          "output_type": "execute_result",
          "data": {
            "text/plain": [
              "[0, 1, 2, 3, 4, 5, 6, 7, 8, 9]"
            ]
          },
          "metadata": {
            "tags": []
          },
          "execution_count": 6
        }
      ]
    },
    {
      "cell_type": "code",
      "metadata": {
        "colab": {
          "base_uri": "https://localhost:8080/"
        },
        "id": "QjFyR0XnNpWH",
        "outputId": "1df3e97e-cad7-40b2-e95b-554bfe5f9983"
      },
      "source": [
        "for a in A:\r\n",
        "    print(a,end=\" \")"
      ],
      "execution_count": null,
      "outputs": [
        {
          "output_type": "stream",
          "text": [
            "0 1 2 3 4 5 6 7 8 9 "
          ],
          "name": "stdout"
        }
      ]
    },
    {
      "cell_type": "code",
      "metadata": {
        "id": "YiS5bI5LNvXk"
      },
      "source": [
        ""
      ],
      "execution_count": null,
      "outputs": []
    },
    {
      "cell_type": "markdown",
      "metadata": {
        "id": "lBAw5B2ZNzuN"
      },
      "source": [
        "### 4) while문\r\n",
        "//반복을 끝낼 조건이 있을 때"
      ]
    },
    {
      "cell_type": "code",
      "metadata": {
        "colab": {
          "base_uri": "https://localhost:8080/"
        },
        "id": "E4QtesrvOAX1",
        "outputId": "d7f9ea22-87d4-4c8e-ff71-1e703fc29edb"
      },
      "source": [
        "i= 0\r\n",
        "\r\n",
        "while i < 10:\r\n",
        "\r\n",
        "    print(i,end=' ')\r\n",
        "    i +=1\r\n"
      ],
      "execution_count": null,
      "outputs": [
        {
          "output_type": "stream",
          "text": [
            "0 1 2 3 4 5 6 7 8 9 "
          ],
          "name": "stdout"
        }
      ]
    },
    {
      "cell_type": "markdown",
      "metadata": {
        "id": "22hrerVDObYp"
      },
      "source": [
        "##list"
      ]
    },
    {
      "cell_type": "code",
      "metadata": {
        "colab": {
          "base_uri": "https://localhost:8080/"
        },
        "id": "EXiLg5u7OMnz",
        "outputId": "45d36aaf-02b4-44f8-83b7-195d2f9c21cd"
      },
      "source": [
        "lst = [1, 2, 3, 4, 5]\r\n",
        "print(type(lst))\r\n",
        "####list가 아닌 것을 list로 만들어줌"
      ],
      "execution_count": null,
      "outputs": [
        {
          "output_type": "stream",
          "text": [
            "<class 'list'>\n"
          ],
          "name": "stdout"
        }
      ]
    },
    {
      "cell_type": "code",
      "metadata": {
        "id": "CDJhbCG7O1Xe"
      },
      "source": [
        "###a.append(넣고 싶은 거)하면 a의 list안에 넣는 거, pop은 빼는 것"
      ],
      "execution_count": null,
      "outputs": []
    },
    {
      "cell_type": "markdown",
      "metadata": {
        "id": "zJmmFLf4PnN1"
      },
      "source": [
        "#### Tuple"
      ]
    },
    {
      "cell_type": "code",
      "metadata": {
        "id": "JszyVzeoP9Xa"
      },
      "source": [
        "tpl = (1, 2, 3, 4, 5)"
      ],
      "execution_count": null,
      "outputs": []
    },
    {
      "cell_type": "code",
      "metadata": {
        "colab": {
          "base_uri": "https://localhost:8080/"
        },
        "id": "arvHgRqXQF6b",
        "outputId": "02abec97-cf35-4462-9a95-47c216ac3212"
      },
      "source": [
        "(x, y) = (1, 2)\r\n",
        "print(x, y)\r\n",
        "#한번에 대입 가능"
      ],
      "execution_count": null,
      "outputs": [
        {
          "output_type": "stream",
          "text": [
            "1 2\n"
          ],
          "name": "stdout"
        }
      ]
    },
    {
      "cell_type": "code",
      "metadata": {
        "colab": {
          "base_uri": "https://localhost:8080/"
        },
        "id": "vyb6IvnNQNR3",
        "outputId": "19e58b6e-2cfb-425d-e90d-c7bc94939d94"
      },
      "source": [
        "x, y= 3, 4\r\n",
        "print(x,y)\r\n",
        "#()없이 대입 가능"
      ],
      "execution_count": null,
      "outputs": [
        {
          "output_type": "stream",
          "text": [
            "3 4\n"
          ],
          "name": "stdout"
        }
      ]
    },
    {
      "cell_type": "markdown",
      "metadata": {
        "id": "s3_S9ij6QyTR"
      },
      "source": [
        "#### indexing"
      ]
    },
    {
      "cell_type": "code",
      "metadata": {
        "colab": {
          "base_uri": "https://localhost:8080/"
        },
        "id": "XsxBcB6dQV4F",
        "outputId": "e8740832-397d-46be-cb34-ab353a16071d"
      },
      "source": [
        "tpl[1]"
      ],
      "execution_count": null,
      "outputs": [
        {
          "output_type": "execute_result",
          "data": {
            "text/plain": [
              "2"
            ]
          },
          "metadata": {
            "tags": []
          },
          "execution_count": 16
        }
      ]
    },
    {
      "cell_type": "code",
      "metadata": {
        "colab": {
          "base_uri": "https://localhost:8080/"
        },
        "id": "tzfM7dv2QvSA",
        "outputId": "76eca3f1-a21b-4a64-fa9b-ee87a6d22375"
      },
      "source": [
        "tpl[1:4]\r\n",
        "#1번 시작부터 4번전까지 가져옴"
      ],
      "execution_count": null,
      "outputs": [
        {
          "output_type": "execute_result",
          "data": {
            "text/plain": [
              "(2, 3, 4)"
            ]
          },
          "metadata": {
            "tags": []
          },
          "execution_count": 17
        }
      ]
    },
    {
      "cell_type": "markdown",
      "metadata": {
        "id": "YzC44o4ZRj0Y"
      },
      "source": [
        "#### operators"
      ]
    },
    {
      "cell_type": "code",
      "metadata": {
        "colab": {
          "base_uri": "https://localhost:8080/"
        },
        "id": "ud8cI_h7RnPw",
        "outputId": "ab24574a-7a30-4e7c-a520-70bfc6dec85b"
      },
      "source": [
        "#나눗셈\r\n",
        "7/5"
      ],
      "execution_count": null,
      "outputs": [
        {
          "output_type": "execute_result",
          "data": {
            "text/plain": [
              "1.4"
            ]
          },
          "metadata": {
            "tags": []
          },
          "execution_count": 20
        }
      ]
    },
    {
      "cell_type": "code",
      "metadata": {
        "colab": {
          "base_uri": "https://localhost:8080/"
        },
        "id": "dIQqkB8KR6mp",
        "outputId": "91ff2021-41d7-4b34-80e8-57a08c1b5b6f"
      },
      "source": [
        "#몫\r\n",
        "7//5"
      ],
      "execution_count": null,
      "outputs": [
        {
          "output_type": "execute_result",
          "data": {
            "text/plain": [
              "1"
            ]
          },
          "metadata": {
            "tags": []
          },
          "execution_count": 21
        }
      ]
    },
    {
      "cell_type": "code",
      "metadata": {
        "colab": {
          "base_uri": "https://localhost:8080/"
        },
        "id": "tiaoO9bsR9He",
        "outputId": "e593d28d-e989-45fd-aa07-fe06ba38d1f5"
      },
      "source": [
        "# 제곱 연산\r\n",
        "2**4"
      ],
      "execution_count": null,
      "outputs": [
        {
          "output_type": "execute_result",
          "data": {
            "text/plain": [
              "16"
            ]
          },
          "metadata": {
            "tags": []
          },
          "execution_count": 22
        }
      ]
    },
    {
      "cell_type": "markdown",
      "metadata": {
        "id": "KD6u4nsVSw-X"
      },
      "source": [
        "###Fuction"
      ]
    },
    {
      "cell_type": "code",
      "metadata": {
        "id": "hRhnX8mxR__t"
      },
      "source": [
        "def func():\r\n",
        "    return 'hello'"
      ],
      "execution_count": null,
      "outputs": []
    },
    {
      "cell_type": "code",
      "metadata": {
        "colab": {
          "base_uri": "https://localhost:8080/"
        },
        "id": "8H9yOdQ2S7Jy",
        "outputId": "e7c7ae28-5f49-4df8-b5b4-e91cd6bd0d37"
      },
      "source": [
        "print(func())"
      ],
      "execution_count": null,
      "outputs": [
        {
          "output_type": "stream",
          "text": [
            "hello\n"
          ],
          "name": "stdout"
        }
      ]
    },
    {
      "cell_type": "markdown",
      "metadata": {
        "id": "oHRx8iJgS-i3"
      },
      "source": [
        "### 3.Numpy\r\n",
        "#### 행렬을 다루기 쉽게 만들어주는 라이브러리"
      ]
    },
    {
      "cell_type": "code",
      "metadata": {
        "id": "2PbYW8p2S9Hh"
      },
      "source": [
        "#include <stdio.h>\r\n",
        "import numpy as np \r\n",
        "### as: numpy라는 이름 대신 np라고 쓰겠다고 선언"
      ],
      "execution_count": null,
      "outputs": []
    },
    {
      "cell_type": "markdown",
      "metadata": {
        "id": "tmrpEGC3TxHK"
      },
      "source": [
        "#### 1) 행렬 생성"
      ]
    },
    {
      "cell_type": "code",
      "metadata": {
        "id": "OtgPZg7PTv5x"
      },
      "source": [
        "lst = [[1, 2],\r\n",
        "       [3, 4]]"
      ],
      "execution_count": null,
      "outputs": []
    },
    {
      "cell_type": "code",
      "metadata": {
        "id": "vGKQT9J_T5mD"
      },
      "source": [
        "a = np.array(lst)"
      ],
      "execution_count": null,
      "outputs": []
    },
    {
      "cell_type": "code",
      "metadata": {
        "colab": {
          "base_uri": "https://localhost:8080/"
        },
        "id": "zL8HPpmpT8iQ",
        "outputId": "db6d5f6c-f99c-450f-e5e1-84af17ed6448"
      },
      "source": [
        "type(lst), type(a)"
      ],
      "execution_count": null,
      "outputs": [
        {
          "output_type": "execute_result",
          "data": {
            "text/plain": [
              "(list, numpy.ndarray)"
            ]
          },
          "metadata": {
            "tags": []
          },
          "execution_count": 28
        }
      ]
    },
    {
      "cell_type": "markdown",
      "metadata": {
        "id": "0YHwDI0rUH11"
      },
      "source": [
        "#### 2) 행렬 곱\r\n",
        "A:[a,b] B:[c,d]\r\n",
        "\r\n",
        "\r\n",
        "b=c 이어야 행렬 곱이 정의 됨\r\n",
        "\r\n",
        "\r\n",
        "결과 AB:[a,d]"
      ]
    },
    {
      "cell_type": "code",
      "metadata": {
        "colab": {
          "base_uri": "https://localhost:8080/"
        },
        "id": "VGi0ZyxuUApn",
        "outputId": "7d9b2c41-4123-4a29-c54a-1ea1309906c5"
      },
      "source": [
        "a"
      ],
      "execution_count": null,
      "outputs": [
        {
          "output_type": "execute_result",
          "data": {
            "text/plain": [
              "array([[1, 2],\n",
              "       [3, 4]])"
            ]
          },
          "metadata": {
            "tags": []
          },
          "execution_count": 29
        }
      ]
    },
    {
      "cell_type": "code",
      "metadata": {
        "id": "ZSRsDyctV_kE"
      },
      "source": [
        "b= np.array([[5, 6, 7],[8, 9, 10]])"
      ],
      "execution_count": null,
      "outputs": []
    },
    {
      "cell_type": "code",
      "metadata": {
        "colab": {
          "base_uri": "https://localhost:8080/"
        },
        "id": "F_PYZclBWHy4",
        "outputId": "83fe0d05-84a3-4ffd-d1a2-b4f288b0453d"
      },
      "source": [
        "b"
      ],
      "execution_count": null,
      "outputs": [
        {
          "output_type": "execute_result",
          "data": {
            "text/plain": [
              "array([[ 5,  6,  7],\n",
              "       [ 8,  9, 10]])"
            ]
          },
          "metadata": {
            "tags": []
          },
          "execution_count": 31
        }
      ]
    },
    {
      "cell_type": "code",
      "metadata": {
        "id": "qGNwfAy7WJbI"
      },
      "source": [
        "# a:[2x2] b:[2x3]\r\n",
        "ab = np.matmul(a, b)"
      ],
      "execution_count": null,
      "outputs": []
    },
    {
      "cell_type": "code",
      "metadata": {
        "colab": {
          "base_uri": "https://localhost:8080/"
        },
        "id": "UNvsYy8sWQh9",
        "outputId": "cc83ff10-30cc-43d6-9dee-38bbb528f8d4"
      },
      "source": [
        "ab"
      ],
      "execution_count": null,
      "outputs": [
        {
          "output_type": "execute_result",
          "data": {
            "text/plain": [
              "array([[21, 24, 27],\n",
              "       [47, 54, 61]])"
            ]
          },
          "metadata": {
            "tags": []
          },
          "execution_count": 33
        }
      ]
    },
    {
      "cell_type": "markdown",
      "metadata": {
        "id": "aquvAITEXTaV"
      },
      "source": [
        "#### 3) 전치행렬"
      ]
    },
    {
      "cell_type": "code",
      "metadata": {
        "id": "PVHRgB0kWR8v"
      },
      "source": [
        "d = np.transpose(ab)"
      ],
      "execution_count": null,
      "outputs": []
    },
    {
      "cell_type": "code",
      "metadata": {
        "colab": {
          "base_uri": "https://localhost:8080/"
        },
        "id": "Uk1AP-0zX2cj",
        "outputId": "137cb8d7-4d59-4bb1-d1a4-4bca83408ff9"
      },
      "source": [
        "ab"
      ],
      "execution_count": null,
      "outputs": [
        {
          "output_type": "execute_result",
          "data": {
            "text/plain": [
              "array([[21, 24, 27],\n",
              "       [47, 54, 61]])"
            ]
          },
          "metadata": {
            "tags": []
          },
          "execution_count": 35
        }
      ]
    },
    {
      "cell_type": "code",
      "metadata": {
        "colab": {
          "base_uri": "https://localhost:8080/"
        },
        "id": "YKmD89NgX2_T",
        "outputId": "8950e73e-9afd-4100-fdfe-ab5b1a272ede"
      },
      "source": [
        "d"
      ],
      "execution_count": null,
      "outputs": [
        {
          "output_type": "execute_result",
          "data": {
            "text/plain": [
              "array([[21, 47],\n",
              "       [24, 54],\n",
              "       [27, 61]])"
            ]
          },
          "metadata": {
            "tags": []
          },
          "execution_count": 36
        }
      ]
    },
    {
      "cell_type": "markdown",
      "metadata": {
        "id": "xz3ajYBmX9wp"
      },
      "source": [
        "### numpy 문법"
      ]
    },
    {
      "cell_type": "code",
      "metadata": {
        "colab": {
          "base_uri": "https://localhost:8080/"
        },
        "id": "fq7RsLjtX4FZ",
        "outputId": "1b3175da-b9c3-4dc7-f4fe-481cb3556604"
      },
      "source": [
        "a"
      ],
      "execution_count": null,
      "outputs": [
        {
          "output_type": "execute_result",
          "data": {
            "text/plain": [
              "array([[1, 2],\n",
              "       [3, 4]])"
            ]
          },
          "metadata": {
            "tags": []
          },
          "execution_count": 37
        }
      ]
    },
    {
      "cell_type": "code",
      "metadata": {
        "id": "jm7WwbB2YBl9"
      },
      "source": [
        "#a 각각에 1 더하기 (c였으면 이중 반복)\r\n",
        "a += 1"
      ],
      "execution_count": null,
      "outputs": []
    },
    {
      "cell_type": "code",
      "metadata": {
        "colab": {
          "base_uri": "https://localhost:8080/"
        },
        "id": "LGLs9yOiYIvd",
        "outputId": "f80c75f4-964a-4ae5-ad6f-16f7114a01b0"
      },
      "source": [
        "a"
      ],
      "execution_count": null,
      "outputs": [
        {
          "output_type": "execute_result",
          "data": {
            "text/plain": [
              "array([[2, 3],\n",
              "       [4, 5]])"
            ]
          },
          "metadata": {
            "tags": []
          },
          "execution_count": 39
        }
      ]
    },
    {
      "cell_type": "code",
      "metadata": {
        "id": "5TMK-1XuYJFx"
      },
      "source": [
        "a *= 2"
      ],
      "execution_count": null,
      "outputs": []
    },
    {
      "cell_type": "code",
      "metadata": {
        "colab": {
          "base_uri": "https://localhost:8080/"
        },
        "id": "-rGGoYpYYMhA",
        "outputId": "594dafbb-bd9d-485e-b1c6-6b33a418d340"
      },
      "source": [
        "a"
      ],
      "execution_count": null,
      "outputs": [
        {
          "output_type": "execute_result",
          "data": {
            "text/plain": [
              "array([[ 4,  6],\n",
              "       [ 8, 10]])"
            ]
          },
          "metadata": {
            "tags": []
          },
          "execution_count": 41
        }
      ]
    },
    {
      "cell_type": "markdown",
      "metadata": {
        "id": "867SBVlnYb7b"
      },
      "source": [
        "### numpy 행렬 인덱싱"
      ]
    },
    {
      "cell_type": "code",
      "metadata": {
        "id": "KnqMhPkzYM1J"
      },
      "source": [
        "arr = [[1, 2, 3, 4],\r\n",
        "       [5, 6, 7, 8],\r\n",
        "       [9, 10, 11, 12]]"
      ],
      "execution_count": null,
      "outputs": []
    },
    {
      "cell_type": "code",
      "metadata": {
        "id": "7jykLw-mYsvv"
      },
      "source": [
        "A = np.random.randint(1,100, (4,5))\r\n",
        "#1,100 은 랜덤 범위 (4,5)는 만들 행렬 사이즈"
      ],
      "execution_count": null,
      "outputs": []
    },
    {
      "cell_type": "code",
      "metadata": {
        "colab": {
          "base_uri": "https://localhost:8080/"
        },
        "id": "xvx9RnBkY0MS",
        "outputId": "a167c85d-9aa4-483b-9813-f9c507b0068c"
      },
      "source": [
        "A"
      ],
      "execution_count": null,
      "outputs": [
        {
          "output_type": "execute_result",
          "data": {
            "text/plain": [
              "array([[56, 27, 12, 91, 80],\n",
              "       [20, 66, 92, 70, 33],\n",
              "       [84, 10, 59, 56, 76],\n",
              "       [88, 99, 13, 24, 21]])"
            ]
          },
          "metadata": {
            "tags": []
          },
          "execution_count": 44
        }
      ]
    },
    {
      "cell_type": "code",
      "metadata": {
        "colab": {
          "base_uri": "https://localhost:8080/"
        },
        "id": "L6z1mx9yY0yD",
        "outputId": "4f02affc-43fc-46c1-ce27-17d448f5772e"
      },
      "source": [
        "#70 가져오려면\r\n",
        "A[1,3]"
      ],
      "execution_count": null,
      "outputs": [
        {
          "output_type": "execute_result",
          "data": {
            "text/plain": [
              "70"
            ]
          },
          "metadata": {
            "tags": []
          },
          "execution_count": 45
        }
      ]
    },
    {
      "cell_type": "code",
      "metadata": {
        "colab": {
          "base_uri": "https://localhost:8080/"
        },
        "id": "Pw39nrYAZRRU",
        "outputId": "df488947-8642-4dd9-f19c-628815754cb2"
      },
      "source": [
        "A[1:3,2:4]"
      ],
      "execution_count": null,
      "outputs": [
        {
          "output_type": "execute_result",
          "data": {
            "text/plain": [
              "array([[92, 70],\n",
              "       [59, 56]])"
            ]
          },
          "metadata": {
            "tags": []
          },
          "execution_count": 46
        }
      ]
    },
    {
      "cell_type": "code",
      "metadata": {
        "colab": {
          "base_uri": "https://localhost:8080/"
        },
        "id": "3mmr2mbNZfN2",
        "outputId": "61e09e81-f5c4-4a9a-ac70-26121ca41806"
      },
      "source": [
        "A[:,1:3]\r\n",
        "#모든 행"
      ],
      "execution_count": null,
      "outputs": [
        {
          "output_type": "execute_result",
          "data": {
            "text/plain": [
              "array([[27, 12],\n",
              "       [66, 92],\n",
              "       [10, 59],\n",
              "       [99, 13]])"
            ]
          },
          "metadata": {
            "tags": []
          },
          "execution_count": 47
        }
      ]
    },
    {
      "cell_type": "code",
      "metadata": {
        "colab": {
          "base_uri": "https://localhost:8080/"
        },
        "id": "ehjH0a8CZq0L",
        "outputId": "6d3ebca0-d6c0-42d1-80cc-5f07783949ea"
      },
      "source": [
        "A[:,[1,3]]\r\n",
        "#1,3번 열만 가져올때 안에 list 한번 더 만들기"
      ],
      "execution_count": null,
      "outputs": [
        {
          "output_type": "execute_result",
          "data": {
            "text/plain": [
              "array([[27, 91],\n",
              "       [66, 70],\n",
              "       [10, 56],\n",
              "       [99, 24]])"
            ]
          },
          "metadata": {
            "tags": []
          },
          "execution_count": 48
        }
      ]
    },
    {
      "cell_type": "markdown",
      "metadata": {
        "id": "k3-PEMkYa060"
      },
      "source": [
        "### 4. Pandas로 데이터 읽기\r\n",
        "csv: comma seperated values\r\n",
        "```\r\n",
        "1,2,3\r\n",
        "4,5,6\r\n",
        "```"
      ]
    },
    {
      "cell_type": "code",
      "metadata": {
        "id": "5Y5scoiAZzGR"
      },
      "source": [
        "import pandas as pd"
      ],
      "execution_count": null,
      "outputs": []
    },
    {
      "cell_type": "code",
      "metadata": {
        "id": "5fPq7ke8b86i"
      },
      "source": [
        "path='/content/data_lab1.txt'\r\n",
        "#파일경로\r\n",
        "colums = ['x', 'y']"
      ],
      "execution_count": null,
      "outputs": []
    },
    {
      "cell_type": "code",
      "metadata": {
        "id": "yKrKDrNDcOYc"
      },
      "source": [
        "data=pd.read_csv(path, sep=' ',names=colums)\r\n",
        "#sep=' '는 ,대신 띄어쓰기로 구분한다는 말"
      ],
      "execution_count": null,
      "outputs": []
    },
    {
      "cell_type": "code",
      "metadata": {
        "colab": {
          "base_uri": "https://localhost:8080/"
        },
        "id": "l-i0czMndOtG",
        "outputId": "c5ccda99-a4a3-4738-8795-fb9fee3f8853"
      },
      "source": [
        "type(data)"
      ],
      "execution_count": null,
      "outputs": [
        {
          "output_type": "execute_result",
          "data": {
            "text/plain": [
              "pandas.core.frame.DataFrame"
            ]
          },
          "metadata": {
            "tags": []
          },
          "execution_count": 53
        }
      ]
    },
    {
      "cell_type": "code",
      "metadata": {
        "id": "BXav5F89KRX8"
      },
      "source": [
        ""
      ],
      "execution_count": null,
      "outputs": []
    },
    {
      "cell_type": "code",
      "metadata": {
        "colab": {
          "base_uri": "https://localhost:8080/",
          "height": 402
        },
        "id": "38Msx6B9dQ4i",
        "outputId": "bd7dd8a0-2cdf-4af9-f436-abd729232da0"
      },
      "source": [
        "data"
      ],
      "execution_count": null,
      "outputs": [
        {
          "output_type": "execute_result",
          "data": {
            "text/html": [
              "<div>\n",
              "<style scoped>\n",
              "    .dataframe tbody tr th:only-of-type {\n",
              "        vertical-align: middle;\n",
              "    }\n",
              "\n",
              "    .dataframe tbody tr th {\n",
              "        vertical-align: top;\n",
              "    }\n",
              "\n",
              "    .dataframe thead th {\n",
              "        text-align: right;\n",
              "    }\n",
              "</style>\n",
              "<table border=\"1\" class=\"dataframe\">\n",
              "  <thead>\n",
              "    <tr style=\"text-align: right;\">\n",
              "      <th></th>\n",
              "      <th>x</th>\n",
              "      <th>y</th>\n",
              "    </tr>\n",
              "  </thead>\n",
              "  <tbody>\n",
              "    <tr>\n",
              "      <th>0</th>\n",
              "      <td>0.000000</td>\n",
              "      <td>0.685785</td>\n",
              "    </tr>\n",
              "    <tr>\n",
              "      <th>1</th>\n",
              "      <td>0.020202</td>\n",
              "      <td>1.671735</td>\n",
              "    </tr>\n",
              "    <tr>\n",
              "      <th>2</th>\n",
              "      <td>0.040404</td>\n",
              "      <td>2.406276</td>\n",
              "    </tr>\n",
              "    <tr>\n",
              "      <th>3</th>\n",
              "      <td>0.060606</td>\n",
              "      <td>0.375167</td>\n",
              "    </tr>\n",
              "    <tr>\n",
              "      <th>4</th>\n",
              "      <td>0.080808</td>\n",
              "      <td>4.355949</td>\n",
              "    </tr>\n",
              "    <tr>\n",
              "      <th>...</th>\n",
              "      <td>...</td>\n",
              "      <td>...</td>\n",
              "    </tr>\n",
              "    <tr>\n",
              "      <th>95</th>\n",
              "      <td>1.919192</td>\n",
              "      <td>19.975148</td>\n",
              "    </tr>\n",
              "    <tr>\n",
              "      <th>96</th>\n",
              "      <td>1.939394</td>\n",
              "      <td>20.358975</td>\n",
              "    </tr>\n",
              "    <tr>\n",
              "      <th>97</th>\n",
              "      <td>1.959596</td>\n",
              "      <td>22.849086</td>\n",
              "    </tr>\n",
              "    <tr>\n",
              "      <th>98</th>\n",
              "      <td>1.979798</td>\n",
              "      <td>19.977494</td>\n",
              "    </tr>\n",
              "    <tr>\n",
              "      <th>99</th>\n",
              "      <td>2.000000</td>\n",
              "      <td>20.861562</td>\n",
              "    </tr>\n",
              "  </tbody>\n",
              "</table>\n",
              "<p>100 rows × 2 columns</p>\n",
              "</div>"
            ],
            "text/plain": [
              "           x          y\n",
              "0   0.000000   0.685785\n",
              "1   0.020202   1.671735\n",
              "2   0.040404   2.406276\n",
              "3   0.060606   0.375167\n",
              "4   0.080808   4.355949\n",
              "..       ...        ...\n",
              "95  1.919192  19.975148\n",
              "96  1.939394  20.358975\n",
              "97  1.959596  22.849086\n",
              "98  1.979798  19.977494\n",
              "99  2.000000  20.861562\n",
              "\n",
              "[100 rows x 2 columns]"
            ]
          },
          "metadata": {
            "tags": []
          },
          "execution_count": 54
        }
      ]
    },
    {
      "cell_type": "code",
      "metadata": {
        "colab": {
          "base_uri": "https://localhost:8080/"
        },
        "id": "08RKtMledbOJ",
        "outputId": "8e20cd8f-836a-41d5-fef2-b612932af76a"
      },
      "source": [
        "type(data['x'])"
      ],
      "execution_count": null,
      "outputs": [
        {
          "output_type": "execute_result",
          "data": {
            "text/plain": [
              "pandas.core.series.Series"
            ]
          },
          "metadata": {
            "tags": []
          },
          "execution_count": 55
        }
      ]
    },
    {
      "cell_type": "code",
      "metadata": {
        "colab": {
          "base_uri": "https://localhost:8080/"
        },
        "id": "TCjGMsFfdrEQ",
        "outputId": "515be299-7133-40d7-f8e8-a35f0e01a1e9"
      },
      "source": [
        "data['x']"
      ],
      "execution_count": null,
      "outputs": [
        {
          "output_type": "execute_result",
          "data": {
            "text/plain": [
              "0     0.000000\n",
              "1     0.020202\n",
              "2     0.040404\n",
              "3     0.060606\n",
              "4     0.080808\n",
              "        ...   \n",
              "95    1.919192\n",
              "96    1.939394\n",
              "97    1.959596\n",
              "98    1.979798\n",
              "99    2.000000\n",
              "Name: x, Length: 100, dtype: float64"
            ]
          },
          "metadata": {
            "tags": []
          },
          "execution_count": 56
        }
      ]
    },
    {
      "cell_type": "code",
      "metadata": {
        "id": "WtiVO8-wdt2p"
      },
      "source": [
        "#np asarry로 바꿔주기\r\n",
        "x= np.asarray(data['x'])\r\n",
        "y= np.asarray(data['y'])"
      ],
      "execution_count": null,
      "outputs": []
    },
    {
      "cell_type": "code",
      "metadata": {
        "colab": {
          "base_uri": "https://localhost:8080/"
        },
        "id": "9l0y-eH8eCh4",
        "outputId": "edf7f8e0-7d8b-4818-9c8e-a6957bb862b3"
      },
      "source": [
        "x"
      ],
      "execution_count": null,
      "outputs": [
        {
          "output_type": "execute_result",
          "data": {
            "text/plain": [
              "array([0.        , 0.02020202, 0.04040404, 0.06060606, 0.08080808,\n",
              "       0.1010101 , 0.12121212, 0.14141414, 0.16161616, 0.18181818,\n",
              "       0.2020202 , 0.22222222, 0.24242424, 0.26262626, 0.28282828,\n",
              "       0.3030303 , 0.32323232, 0.34343434, 0.36363636, 0.38383838,\n",
              "       0.4040404 , 0.42424242, 0.44444444, 0.46464646, 0.48484848,\n",
              "       0.50505051, 0.52525253, 0.54545455, 0.56565657, 0.58585859,\n",
              "       0.60606061, 0.62626263, 0.64646465, 0.66666667, 0.68686869,\n",
              "       0.70707071, 0.72727273, 0.74747475, 0.76767677, 0.78787879,\n",
              "       0.80808081, 0.82828283, 0.84848485, 0.86868687, 0.88888889,\n",
              "       0.90909091, 0.92929293, 0.94949495, 0.96969697, 0.98989899,\n",
              "       1.01010101, 1.03030303, 1.05050505, 1.07070707, 1.09090909,\n",
              "       1.11111111, 1.13131313, 1.15151515, 1.17171717, 1.19191919,\n",
              "       1.21212121, 1.23232323, 1.25252525, 1.27272727, 1.29292929,\n",
              "       1.31313131, 1.33333333, 1.35353535, 1.37373737, 1.39393939,\n",
              "       1.41414141, 1.43434343, 1.45454545, 1.47474747, 1.49494949,\n",
              "       1.51515152, 1.53535354, 1.55555556, 1.57575758, 1.5959596 ,\n",
              "       1.61616162, 1.63636364, 1.65656566, 1.67676768, 1.6969697 ,\n",
              "       1.71717172, 1.73737374, 1.75757576, 1.77777778, 1.7979798 ,\n",
              "       1.81818182, 1.83838384, 1.85858586, 1.87878788, 1.8989899 ,\n",
              "       1.91919192, 1.93939394, 1.95959596, 1.97979798, 2.        ])"
            ]
          },
          "metadata": {
            "tags": []
          },
          "execution_count": 58
        }
      ]
    },
    {
      "cell_type": "code",
      "metadata": {
        "colab": {
          "base_uri": "https://localhost:8080/"
        },
        "id": "Zdk43TOpeFC8",
        "outputId": "d7bc0e5d-d577-4297-d04f-2d397edf8771"
      },
      "source": [
        "x.shape, y.shape"
      ],
      "execution_count": null,
      "outputs": [
        {
          "output_type": "execute_result",
          "data": {
            "text/plain": [
              "((100,), (100,))"
            ]
          },
          "metadata": {
            "tags": []
          },
          "execution_count": 59
        }
      ]
    },
    {
      "cell_type": "code",
      "metadata": {
        "colab": {
          "base_uri": "https://localhost:8080/"
        },
        "id": "MTWR45EXeJLN",
        "outputId": "ca5c9619-9568-421e-8288-c585e6534a8f"
      },
      "source": [
        "ab"
      ],
      "execution_count": null,
      "outputs": [
        {
          "output_type": "execute_result",
          "data": {
            "text/plain": [
              "array([[21, 24, 27],\n",
              "       [47, 54, 61]])"
            ]
          },
          "metadata": {
            "tags": []
          },
          "execution_count": 60
        }
      ]
    },
    {
      "cell_type": "code",
      "metadata": {
        "colab": {
          "base_uri": "https://localhost:8080/"
        },
        "id": "4oGl8iL0eKJh",
        "outputId": "28dbef73-d4b6-4035-9a3f-a7a5c7ee8c98"
      },
      "source": [
        "ab.shape"
      ],
      "execution_count": null,
      "outputs": [
        {
          "output_type": "execute_result",
          "data": {
            "text/plain": [
              "(2, 3)"
            ]
          },
          "metadata": {
            "tags": []
          },
          "execution_count": 61
        }
      ]
    },
    {
      "cell_type": "markdown",
      "metadata": {
        "id": "x4SQhIgBeXg9"
      },
      "source": [
        "## 5. Matplotlib으로 시각화하기\r\n",
        "MATLAB에서 그래프 그린느 문법을 거의 그대로 파이선으로 가져온 라이브러리"
      ]
    },
    {
      "cell_type": "code",
      "metadata": {
        "id": "HTpdHT51eWnG"
      },
      "source": [
        "import matplotlib.pyplot as plt"
      ],
      "execution_count": null,
      "outputs": []
    },
    {
      "cell_type": "code",
      "metadata": {
        "colab": {
          "base_uri": "https://localhost:8080/",
          "height": 282
        },
        "id": "WoXjtC4leiJG",
        "outputId": "fedbd298-10c8-49f1-faa8-a1c38b7552f6"
      },
      "source": [
        "plt.plot(x,y)\r\n",
        "#그래프그리기"
      ],
      "execution_count": null,
      "outputs": [
        {
          "output_type": "execute_result",
          "data": {
            "text/plain": [
              "[<matplotlib.lines.Line2D at 0x7f74a0b566d8>]"
            ]
          },
          "metadata": {
            "tags": []
          },
          "execution_count": 64
        },
        {
          "output_type": "display_data",
          "data": {
            "image/png": "[encoded data removed]",
            "text/plain": [
              "<Figure size 432x288 with 1 Axes>"
            ]
          },
          "metadata": {
            "tags": [],
            "needs_background": "light"
          }
        }
      ]
    },
    {
      "cell_type": "code",
      "metadata": {
        "colab": {
          "base_uri": "https://localhost:8080/",
          "height": 282
        },
        "id": "WTIxDjElezPh",
        "outputId": "852b91e3-9d9a-4d2b-983f-dde953c220b2"
      },
      "source": [
        "plt.plot(x,y,'ro') #빨간색 동그라미"
      ],
      "execution_count": null,
      "outputs": [
        {
          "output_type": "execute_result",
          "data": {
            "text/plain": [
              "[<matplotlib.lines.Line2D at 0x7f74a0610cf8>]"
            ]
          },
          "metadata": {
            "tags": []
          },
          "execution_count": 65
        },
        {
          "output_type": "display_data",
          "data": {
            "image/png": "[encoded data removed]",
            "text/plain": [
              "<Figure size 432x288 with 1 Axes>"
            ]
          },
          "metadata": {
            "tags": [],
            "needs_background": "light"
          }
        }
      ]
    },
    {
      "cell_type": "code",
      "metadata": {
        "colab": {
          "base_uri": "https://localhost:8080/",
          "height": 282
        },
        "id": "UGR7-0ePfKAf",
        "outputId": "74de5da4-273e-4e92-e07c-9aa60292ddc8"
      },
      "source": [
        "plt.plot(x,y,'b.')#파란색 점"
      ],
      "execution_count": null,
      "outputs": [
        {
          "output_type": "execute_result",
          "data": {
            "text/plain": [
              "[<matplotlib.lines.Line2D at 0x7f74a0594518>]"
            ]
          },
          "metadata": {
            "tags": []
          },
          "execution_count": 66
        },
        {
          "output_type": "display_data",
          "data": {
            "image/png": "[encoded data removed]",
            "text/plain": [
              "<Figure size 432x288 with 1 Axes>"
            ]
          },
          "metadata": {
            "tags": [],
            "needs_background": "light"
          }
        }
      ]
    },
    {
      "cell_type": "code",
      "metadata": {
        "colab": {
          "base_uri": "https://localhost:8080/",
          "height": 282
        },
        "id": "MT6qX-ZtfRMq",
        "outputId": "57d704fe-8fcc-41f0-a051-23611a22d243"
      },
      "source": [
        "plt.plot(x,y,'k*')#검은색 별"
      ],
      "execution_count": null,
      "outputs": [
        {
          "output_type": "execute_result",
          "data": {
            "text/plain": [
              "[<matplotlib.lines.Line2D at 0x7f74a0573550>]"
            ]
          },
          "metadata": {
            "tags": []
          },
          "execution_count": 67
        },
        {
          "output_type": "display_data",
          "data": {
            "image/png": "[encoded data removed]",
            "text/plain": [
              "<Figure size 432x288 with 1 Axes>"
            ]
          },
          "metadata": {
            "tags": [],
            "needs_background": "light"
          }
        }
      ]
    },
    {
      "cell_type": "code",
      "metadata": {
        "colab": {
          "base_uri": "https://localhost:8080/",
          "height": 282
        },
        "id": "f5UTpt7ufX47",
        "outputId": "fea47e53-9d65-438d-e619-6a691e24a4d5"
      },
      "source": [
        "plt.plot(x,y,'g-')#초록색 선"
      ],
      "execution_count": null,
      "outputs": [
        {
          "output_type": "execute_result",
          "data": {
            "text/plain": [
              "[<matplotlib.lines.Line2D at 0x7f74a04d84e0>]"
            ]
          },
          "metadata": {
            "tags": []
          },
          "execution_count": 68
        },
        {
          "output_type": "display_data",
          "data": {
            "image/png": "[encoded data removed]",
            "text/plain": [
              "<Figure size 432x288 with 1 Axes>"
            ]
          },
          "metadata": {
            "tags": [],
            "needs_background": "light"
          }
        }
      ]
    },
    {
      "cell_type": "code",
      "metadata": {
        "colab": {
          "base_uri": "https://localhost:8080/",
          "height": 265
        },
        "id": "qPgmOmcGfgcN",
        "outputId": "0bc52f11-db74-4904-d51f-90d5a15a5656"
      },
      "source": [
        "plt.plot(x,y,'g-')\r\n",
        "plt.show()"
      ],
      "execution_count": null,
      "outputs": [
        {
          "output_type": "display_data",
          "data": {
            "image/png": "[encoded data removed]",
            "text/plain": [
              "<Figure size 432x288 with 1 Axes>"
            ]
          },
          "metadata": {
            "tags": [],
            "needs_background": "light"
          }
        }
      ]
    },
    {
      "cell_type": "code",
      "metadata": {
        "colab": {
          "base_uri": "https://localhost:8080/",
          "height": 295
        },
        "id": "wJm8SRupf3AV",
        "outputId": "a1a482be-8fce-4cfc-907c-95e790112bb5"
      },
      "source": [
        "plt.plot(x,y,'y^',label='data')\r\n",
        "\r\n",
        "#축 제목\r\n",
        "plt.xlabel('x')\r\n",
        "plt.ylabel('y')\r\n",
        "\r\n",
        "#그래프 제목\r\n",
        "plt.title('Plot of data')\r\n",
        "\r\n",
        "#범례 추가(범례 위치)\r\n",
        "plt.legend(loc='lower right')\r\n",
        "\r\n",
        "plt.show()"
      ],
      "execution_count": null,
      "outputs": [
        {
          "output_type": "display_data",
          "data": {
            "image/png": "[encoded data removed]",
            "text/plain": [
              "<Figure size 432x288 with 1 Axes>"
            ]
          },
          "metadata": {
            "tags": [],
            "needs_background": "light"
          }
        }
      ]
    },
    {
      "cell_type": "code",
      "metadata": {
        "id": "r9q2gA3dgXj9"
      },
      "source": [
        ""
      ],
      "execution_count": null,
      "outputs": []
    }
  ]
}